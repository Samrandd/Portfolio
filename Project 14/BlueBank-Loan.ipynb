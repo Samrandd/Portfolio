{
 "cells": [
  {
   "cell_type": "code",
   "execution_count": 1,
   "metadata": {},
   "outputs": [],
   "source": [
    "import pandas as pd\n",
    "import json \n",
    "import numpy as np\n",
    "import matplotlib.pyplot as plt"
   ]
  },
  {
   "cell_type": "code",
   "execution_count": 2,
   "metadata": {},
   "outputs": [],
   "source": [
    "#open the json file\n",
    "json_file=open(\"loan_data.json\")"
   ]
  },
  {
   "cell_type": "code",
   "execution_count": 3,
   "metadata": {},
   "outputs": [],
   "source": [
    "data=json.load(json_file)"
   ]
  },
  {
   "cell_type": "code",
   "execution_count": 4,
   "metadata": {},
   "outputs": [],
   "source": [
    "#transition to dataframe\n",
    "loandata=pd.DataFrame(data)"
   ]
  },
  {
   "cell_type": "code",
   "execution_count": 5,
   "metadata": {},
   "outputs": [
    {
     "data": {
      "text/html": [
       "<div>\n",
       "<style scoped>\n",
       "    .dataframe tbody tr th:only-of-type {\n",
       "        vertical-align: middle;\n",
       "    }\n",
       "\n",
       "    .dataframe tbody tr th {\n",
       "        vertical-align: top;\n",
       "    }\n",
       "\n",
       "    .dataframe thead th {\n",
       "        text-align: right;\n",
       "    }\n",
       "</style>\n",
       "<table border=\"1\" class=\"dataframe\">\n",
       "  <thead>\n",
       "    <tr style=\"text-align: right;\">\n",
       "      <th></th>\n",
       "      <th>credit.policy</th>\n",
       "      <th>days.with.cr.line</th>\n",
       "      <th>delinq.2yrs</th>\n",
       "      <th>dti</th>\n",
       "      <th>fico</th>\n",
       "      <th>inq.last.6mths</th>\n",
       "      <th>installment</th>\n",
       "      <th>int.rate</th>\n",
       "      <th>log.annual.inc</th>\n",
       "      <th>not.fully.paid</th>\n",
       "      <th>pub.rec</th>\n",
       "      <th>purpose</th>\n",
       "      <th>revol.bal</th>\n",
       "      <th>revol.util</th>\n",
       "    </tr>\n",
       "  </thead>\n",
       "  <tbody>\n",
       "    <tr>\n",
       "      <th>0</th>\n",
       "      <td>1</td>\n",
       "      <td>5639.958333</td>\n",
       "      <td>0</td>\n",
       "      <td>19.48</td>\n",
       "      <td>737</td>\n",
       "      <td>0</td>\n",
       "      <td>829.10</td>\n",
       "      <td>0.1189</td>\n",
       "      <td>11.350407</td>\n",
       "      <td>0</td>\n",
       "      <td>0</td>\n",
       "      <td>debt_consolidation</td>\n",
       "      <td>28854</td>\n",
       "      <td>52.1</td>\n",
       "    </tr>\n",
       "    <tr>\n",
       "      <th>1</th>\n",
       "      <td>1</td>\n",
       "      <td>2760.000000</td>\n",
       "      <td>0</td>\n",
       "      <td>14.29</td>\n",
       "      <td>707</td>\n",
       "      <td>0</td>\n",
       "      <td>228.22</td>\n",
       "      <td>0.1071</td>\n",
       "      <td>11.082143</td>\n",
       "      <td>0</td>\n",
       "      <td>0</td>\n",
       "      <td>credit_card</td>\n",
       "      <td>33623</td>\n",
       "      <td>76.7</td>\n",
       "    </tr>\n",
       "    <tr>\n",
       "      <th>2</th>\n",
       "      <td>1</td>\n",
       "      <td>4710.000000</td>\n",
       "      <td>0</td>\n",
       "      <td>11.63</td>\n",
       "      <td>682</td>\n",
       "      <td>1</td>\n",
       "      <td>366.86</td>\n",
       "      <td>0.1357</td>\n",
       "      <td>10.373491</td>\n",
       "      <td>0</td>\n",
       "      <td>0</td>\n",
       "      <td>debt_consolidation</td>\n",
       "      <td>3511</td>\n",
       "      <td>25.6</td>\n",
       "    </tr>\n",
       "    <tr>\n",
       "      <th>3</th>\n",
       "      <td>1</td>\n",
       "      <td>2699.958333</td>\n",
       "      <td>0</td>\n",
       "      <td>8.10</td>\n",
       "      <td>712</td>\n",
       "      <td>1</td>\n",
       "      <td>162.34</td>\n",
       "      <td>0.1008</td>\n",
       "      <td>11.350407</td>\n",
       "      <td>0</td>\n",
       "      <td>0</td>\n",
       "      <td>debt_consolidation</td>\n",
       "      <td>33667</td>\n",
       "      <td>73.2</td>\n",
       "    </tr>\n",
       "    <tr>\n",
       "      <th>4</th>\n",
       "      <td>1</td>\n",
       "      <td>4066.000000</td>\n",
       "      <td>1</td>\n",
       "      <td>14.97</td>\n",
       "      <td>667</td>\n",
       "      <td>0</td>\n",
       "      <td>102.92</td>\n",
       "      <td>0.1426</td>\n",
       "      <td>11.299732</td>\n",
       "      <td>0</td>\n",
       "      <td>0</td>\n",
       "      <td>credit_card</td>\n",
       "      <td>4740</td>\n",
       "      <td>39.5</td>\n",
       "    </tr>\n",
       "  </tbody>\n",
       "</table>\n",
       "</div>"
      ],
      "text/plain": [
       "   credit.policy  days.with.cr.line  delinq.2yrs    dti  fico  inq.last.6mths  \\\n",
       "0              1        5639.958333            0  19.48   737               0   \n",
       "1              1        2760.000000            0  14.29   707               0   \n",
       "2              1        4710.000000            0  11.63   682               1   \n",
       "3              1        2699.958333            0   8.10   712               1   \n",
       "4              1        4066.000000            1  14.97   667               0   \n",
       "\n",
       "   installment  int.rate  log.annual.inc  not.fully.paid  pub.rec  \\\n",
       "0       829.10    0.1189       11.350407               0        0   \n",
       "1       228.22    0.1071       11.082143               0        0   \n",
       "2       366.86    0.1357       10.373491               0        0   \n",
       "3       162.34    0.1008       11.350407               0        0   \n",
       "4       102.92    0.1426       11.299732               0        0   \n",
       "\n",
       "              purpose  revol.bal  revol.util  \n",
       "0  debt_consolidation      28854        52.1  \n",
       "1         credit_card      33623        76.7  \n",
       "2  debt_consolidation       3511        25.6  \n",
       "3  debt_consolidation      33667        73.2  \n",
       "4         credit_card       4740        39.5  "
      ]
     },
     "execution_count": 5,
     "metadata": {},
     "output_type": "execute_result"
    }
   ],
   "source": [
    "loandata.head(5)"
   ]
  },
  {
   "cell_type": "code",
   "execution_count": 6,
   "metadata": {},
   "outputs": [
    {
     "data": {
      "text/plain": [
       "array(['debt_consolidation', 'credit_card', 'all_other',\n",
       "       'home_improvement', 'small_business', 'major_purchase',\n",
       "       'educational'], dtype=object)"
      ]
     },
     "execution_count": 6,
     "metadata": {},
     "output_type": "execute_result"
    }
   ],
   "source": [
    "#finding the unique value for purpose\n",
    "loandata['purpose'].unique()"
   ]
  },
  {
   "cell_type": "code",
   "execution_count": 7,
   "metadata": {},
   "outputs": [
    {
     "data": {
      "text/html": [
       "<div>\n",
       "<style scoped>\n",
       "    .dataframe tbody tr th:only-of-type {\n",
       "        vertical-align: middle;\n",
       "    }\n",
       "\n",
       "    .dataframe tbody tr th {\n",
       "        vertical-align: top;\n",
       "    }\n",
       "\n",
       "    .dataframe thead th {\n",
       "        text-align: right;\n",
       "    }\n",
       "</style>\n",
       "<table border=\"1\" class=\"dataframe\">\n",
       "  <thead>\n",
       "    <tr style=\"text-align: right;\">\n",
       "      <th></th>\n",
       "      <th>credit.policy</th>\n",
       "      <th>days.with.cr.line</th>\n",
       "      <th>delinq.2yrs</th>\n",
       "      <th>dti</th>\n",
       "      <th>fico</th>\n",
       "      <th>inq.last.6mths</th>\n",
       "      <th>installment</th>\n",
       "      <th>int.rate</th>\n",
       "      <th>log.annual.inc</th>\n",
       "      <th>not.fully.paid</th>\n",
       "      <th>pub.rec</th>\n",
       "      <th>revol.bal</th>\n",
       "      <th>revol.util</th>\n",
       "    </tr>\n",
       "  </thead>\n",
       "  <tbody>\n",
       "    <tr>\n",
       "      <th>count</th>\n",
       "      <td>9578.000000</td>\n",
       "      <td>9578.000000</td>\n",
       "      <td>9578.000000</td>\n",
       "      <td>9578.000000</td>\n",
       "      <td>9578.000000</td>\n",
       "      <td>9578.000000</td>\n",
       "      <td>9578.000000</td>\n",
       "      <td>9578.000000</td>\n",
       "      <td>9578.000000</td>\n",
       "      <td>9578.000000</td>\n",
       "      <td>9578.000000</td>\n",
       "      <td>9.578000e+03</td>\n",
       "      <td>9578.000000</td>\n",
       "    </tr>\n",
       "    <tr>\n",
       "      <th>mean</th>\n",
       "      <td>0.804970</td>\n",
       "      <td>4560.767197</td>\n",
       "      <td>0.163708</td>\n",
       "      <td>12.606679</td>\n",
       "      <td>710.846314</td>\n",
       "      <td>1.577469</td>\n",
       "      <td>319.089413</td>\n",
       "      <td>0.122640</td>\n",
       "      <td>10.932117</td>\n",
       "      <td>0.160054</td>\n",
       "      <td>0.062122</td>\n",
       "      <td>1.691396e+04</td>\n",
       "      <td>46.799236</td>\n",
       "    </tr>\n",
       "    <tr>\n",
       "      <th>std</th>\n",
       "      <td>0.396245</td>\n",
       "      <td>2496.930377</td>\n",
       "      <td>0.546215</td>\n",
       "      <td>6.883970</td>\n",
       "      <td>37.970537</td>\n",
       "      <td>2.200245</td>\n",
       "      <td>207.071301</td>\n",
       "      <td>0.026847</td>\n",
       "      <td>0.614813</td>\n",
       "      <td>0.366676</td>\n",
       "      <td>0.262126</td>\n",
       "      <td>3.375619e+04</td>\n",
       "      <td>29.014417</td>\n",
       "    </tr>\n",
       "    <tr>\n",
       "      <th>min</th>\n",
       "      <td>0.000000</td>\n",
       "      <td>178.958333</td>\n",
       "      <td>0.000000</td>\n",
       "      <td>0.000000</td>\n",
       "      <td>612.000000</td>\n",
       "      <td>0.000000</td>\n",
       "      <td>15.670000</td>\n",
       "      <td>0.060000</td>\n",
       "      <td>7.547502</td>\n",
       "      <td>0.000000</td>\n",
       "      <td>0.000000</td>\n",
       "      <td>0.000000e+00</td>\n",
       "      <td>0.000000</td>\n",
       "    </tr>\n",
       "    <tr>\n",
       "      <th>25%</th>\n",
       "      <td>1.000000</td>\n",
       "      <td>2820.000000</td>\n",
       "      <td>0.000000</td>\n",
       "      <td>7.212500</td>\n",
       "      <td>682.000000</td>\n",
       "      <td>0.000000</td>\n",
       "      <td>163.770000</td>\n",
       "      <td>0.103900</td>\n",
       "      <td>10.558414</td>\n",
       "      <td>0.000000</td>\n",
       "      <td>0.000000</td>\n",
       "      <td>3.187000e+03</td>\n",
       "      <td>22.600000</td>\n",
       "    </tr>\n",
       "    <tr>\n",
       "      <th>50%</th>\n",
       "      <td>1.000000</td>\n",
       "      <td>4139.958333</td>\n",
       "      <td>0.000000</td>\n",
       "      <td>12.665000</td>\n",
       "      <td>707.000000</td>\n",
       "      <td>1.000000</td>\n",
       "      <td>268.950000</td>\n",
       "      <td>0.122100</td>\n",
       "      <td>10.928884</td>\n",
       "      <td>0.000000</td>\n",
       "      <td>0.000000</td>\n",
       "      <td>8.596000e+03</td>\n",
       "      <td>46.300000</td>\n",
       "    </tr>\n",
       "    <tr>\n",
       "      <th>75%</th>\n",
       "      <td>1.000000</td>\n",
       "      <td>5730.000000</td>\n",
       "      <td>0.000000</td>\n",
       "      <td>17.950000</td>\n",
       "      <td>737.000000</td>\n",
       "      <td>2.000000</td>\n",
       "      <td>432.762500</td>\n",
       "      <td>0.140700</td>\n",
       "      <td>11.291293</td>\n",
       "      <td>0.000000</td>\n",
       "      <td>0.000000</td>\n",
       "      <td>1.824950e+04</td>\n",
       "      <td>70.900000</td>\n",
       "    </tr>\n",
       "    <tr>\n",
       "      <th>max</th>\n",
       "      <td>1.000000</td>\n",
       "      <td>17639.958330</td>\n",
       "      <td>13.000000</td>\n",
       "      <td>29.960000</td>\n",
       "      <td>827.000000</td>\n",
       "      <td>33.000000</td>\n",
       "      <td>940.140000</td>\n",
       "      <td>0.216400</td>\n",
       "      <td>14.528354</td>\n",
       "      <td>1.000000</td>\n",
       "      <td>5.000000</td>\n",
       "      <td>1.207359e+06</td>\n",
       "      <td>119.000000</td>\n",
       "    </tr>\n",
       "  </tbody>\n",
       "</table>\n",
       "</div>"
      ],
      "text/plain": [
       "       credit.policy  days.with.cr.line  delinq.2yrs          dti  \\\n",
       "count    9578.000000        9578.000000  9578.000000  9578.000000   \n",
       "mean        0.804970        4560.767197     0.163708    12.606679   \n",
       "std         0.396245        2496.930377     0.546215     6.883970   \n",
       "min         0.000000         178.958333     0.000000     0.000000   \n",
       "25%         1.000000        2820.000000     0.000000     7.212500   \n",
       "50%         1.000000        4139.958333     0.000000    12.665000   \n",
       "75%         1.000000        5730.000000     0.000000    17.950000   \n",
       "max         1.000000       17639.958330    13.000000    29.960000   \n",
       "\n",
       "              fico  inq.last.6mths  installment     int.rate  log.annual.inc  \\\n",
       "count  9578.000000     9578.000000  9578.000000  9578.000000     9578.000000   \n",
       "mean    710.846314        1.577469   319.089413     0.122640       10.932117   \n",
       "std      37.970537        2.200245   207.071301     0.026847        0.614813   \n",
       "min     612.000000        0.000000    15.670000     0.060000        7.547502   \n",
       "25%     682.000000        0.000000   163.770000     0.103900       10.558414   \n",
       "50%     707.000000        1.000000   268.950000     0.122100       10.928884   \n",
       "75%     737.000000        2.000000   432.762500     0.140700       11.291293   \n",
       "max     827.000000       33.000000   940.140000     0.216400       14.528354   \n",
       "\n",
       "       not.fully.paid      pub.rec     revol.bal   revol.util  \n",
       "count     9578.000000  9578.000000  9.578000e+03  9578.000000  \n",
       "mean         0.160054     0.062122  1.691396e+04    46.799236  \n",
       "std          0.366676     0.262126  3.375619e+04    29.014417  \n",
       "min          0.000000     0.000000  0.000000e+00     0.000000  \n",
       "25%          0.000000     0.000000  3.187000e+03    22.600000  \n",
       "50%          0.000000     0.000000  8.596000e+03    46.300000  \n",
       "75%          0.000000     0.000000  1.824950e+04    70.900000  \n",
       "max          1.000000     5.000000  1.207359e+06   119.000000  "
      ]
     },
     "execution_count": 7,
     "metadata": {},
     "output_type": "execute_result"
    }
   ],
   "source": [
    "#brief summary of loandata\n",
    "loandata.describe()"
   ]
  },
  {
   "cell_type": "code",
   "execution_count": 8,
   "metadata": {},
   "outputs": [
    {
     "data": {
      "text/plain": [
       "count    9578.000000\n",
       "mean        0.122640\n",
       "std         0.026847\n",
       "min         0.060000\n",
       "25%         0.103900\n",
       "50%         0.122100\n",
       "75%         0.140700\n",
       "max         0.216400\n",
       "Name: int.rate, dtype: float64"
      ]
     },
     "execution_count": 8,
     "metadata": {},
     "output_type": "execute_result"
    }
   ],
   "source": [
    "loandata[\"int.rate\"].describe()"
   ]
  },
  {
   "cell_type": "code",
   "execution_count": 9,
   "metadata": {},
   "outputs": [
    {
     "data": {
      "text/plain": [
       "count    9578.000000\n",
       "mean      710.846314\n",
       "std        37.970537\n",
       "min       612.000000\n",
       "25%       682.000000\n",
       "50%       707.000000\n",
       "75%       737.000000\n",
       "max       827.000000\n",
       "Name: fico, dtype: float64"
      ]
     },
     "execution_count": 9,
     "metadata": {},
     "output_type": "execute_result"
    }
   ],
   "source": [
    "loandata[\"fico\"].describe()"
   ]
  },
  {
   "cell_type": "code",
   "execution_count": 10,
   "metadata": {},
   "outputs": [],
   "source": [
    "#get the annual income in$\n",
    "income=np.exp(loandata['log.annual.inc'])"
   ]
  },
  {
   "cell_type": "code",
   "execution_count": 11,
   "metadata": {},
   "outputs": [],
   "source": [
    "#add annual income \n",
    "loandata['annualincome']=income"
   ]
  },
  {
   "cell_type": "code",
   "execution_count": 12,
   "metadata": {},
   "outputs": [],
   "source": [
    "#get the shape of data frame \n",
    "loandata.shape\n",
    "#get length \n",
    "length=len(loandata['fico'])"
   ]
  },
  {
   "cell_type": "code",
   "execution_count": 24,
   "metadata": {},
   "outputs": [],
   "source": [
    "#create a category pf fico\n",
    "ficocat=[]\n",
    "for x in range(0,length):\n",
    "    category=loandata['fico'][x]\n",
    "    try:\n",
    "        if category >= 300 and category < 400:\n",
    "            cat='Very Poor'\n",
    "        elif category >= 400 and category < 600:\n",
    "            cat='Poor'\n",
    "        elif category >= 600 and category < 660:\n",
    "            cat='Fair'\n",
    "        elif category >= 660 and category < 700:\n",
    "            cat='Good'\n",
    "        elif category >= 700 :\n",
    "            cat='Excellent' \n",
    "        else:\n",
    "            cat=\"Unknown\"\n",
    "      \n",
    "    except:\n",
    "        cat='Error-Unknown'\n",
    "    \n",
    "    ficocat.append(cat)"
   ]
  },
  {
   "cell_type": "code",
   "execution_count": 25,
   "metadata": {},
   "outputs": [],
   "source": [
    "#add category to loan data\n",
    "loandata[\"fico_category\"]=ficocat\n",
    "#can aslso youse pd.series loandata[\"fico_category\"]=pd.Series(ficocat)"
   ]
  },
  {
   "cell_type": "code",
   "execution_count": 26,
   "metadata": {},
   "outputs": [
    {
     "data": {
      "text/html": [
       "<div>\n",
       "<style scoped>\n",
       "    .dataframe tbody tr th:only-of-type {\n",
       "        vertical-align: middle;\n",
       "    }\n",
       "\n",
       "    .dataframe tbody tr th {\n",
       "        vertical-align: top;\n",
       "    }\n",
       "\n",
       "    .dataframe thead th {\n",
       "        text-align: right;\n",
       "    }\n",
       "</style>\n",
       "<table border=\"1\" class=\"dataframe\">\n",
       "  <thead>\n",
       "    <tr style=\"text-align: right;\">\n",
       "      <th></th>\n",
       "      <th>credit.policy</th>\n",
       "      <th>days.with.cr.line</th>\n",
       "      <th>delinq.2yrs</th>\n",
       "      <th>dti</th>\n",
       "      <th>fico</th>\n",
       "      <th>inq.last.6mths</th>\n",
       "      <th>installment</th>\n",
       "      <th>int.rate</th>\n",
       "      <th>log.annual.inc</th>\n",
       "      <th>not.fully.paid</th>\n",
       "      <th>pub.rec</th>\n",
       "      <th>purpose</th>\n",
       "      <th>revol.bal</th>\n",
       "      <th>revol.util</th>\n",
       "      <th>annualincome</th>\n",
       "      <th>fico_category</th>\n",
       "      <th>int_rate_type</th>\n",
       "    </tr>\n",
       "  </thead>\n",
       "  <tbody>\n",
       "    <tr>\n",
       "      <th>0</th>\n",
       "      <td>1</td>\n",
       "      <td>5639.958333</td>\n",
       "      <td>0</td>\n",
       "      <td>19.48</td>\n",
       "      <td>737</td>\n",
       "      <td>0</td>\n",
       "      <td>829.10</td>\n",
       "      <td>0.1189</td>\n",
       "      <td>11.350407</td>\n",
       "      <td>0</td>\n",
       "      <td>0</td>\n",
       "      <td>debt_consolidation</td>\n",
       "      <td>28854</td>\n",
       "      <td>52.1</td>\n",
       "      <td>85000.000385</td>\n",
       "      <td>Excellent</td>\n",
       "      <td>low</td>\n",
       "    </tr>\n",
       "    <tr>\n",
       "      <th>1</th>\n",
       "      <td>1</td>\n",
       "      <td>2760.000000</td>\n",
       "      <td>0</td>\n",
       "      <td>14.29</td>\n",
       "      <td>707</td>\n",
       "      <td>0</td>\n",
       "      <td>228.22</td>\n",
       "      <td>0.1071</td>\n",
       "      <td>11.082143</td>\n",
       "      <td>0</td>\n",
       "      <td>0</td>\n",
       "      <td>credit_card</td>\n",
       "      <td>33623</td>\n",
       "      <td>76.7</td>\n",
       "      <td>65000.000073</td>\n",
       "      <td>Excellent</td>\n",
       "      <td>low</td>\n",
       "    </tr>\n",
       "    <tr>\n",
       "      <th>2</th>\n",
       "      <td>1</td>\n",
       "      <td>4710.000000</td>\n",
       "      <td>0</td>\n",
       "      <td>11.63</td>\n",
       "      <td>682</td>\n",
       "      <td>1</td>\n",
       "      <td>366.86</td>\n",
       "      <td>0.1357</td>\n",
       "      <td>10.373491</td>\n",
       "      <td>0</td>\n",
       "      <td>0</td>\n",
       "      <td>debt_consolidation</td>\n",
       "      <td>3511</td>\n",
       "      <td>25.6</td>\n",
       "      <td>31999.999943</td>\n",
       "      <td>Good</td>\n",
       "      <td>High</td>\n",
       "    </tr>\n",
       "    <tr>\n",
       "      <th>3</th>\n",
       "      <td>1</td>\n",
       "      <td>2699.958333</td>\n",
       "      <td>0</td>\n",
       "      <td>8.10</td>\n",
       "      <td>712</td>\n",
       "      <td>1</td>\n",
       "      <td>162.34</td>\n",
       "      <td>0.1008</td>\n",
       "      <td>11.350407</td>\n",
       "      <td>0</td>\n",
       "      <td>0</td>\n",
       "      <td>debt_consolidation</td>\n",
       "      <td>33667</td>\n",
       "      <td>73.2</td>\n",
       "      <td>85000.000385</td>\n",
       "      <td>Excellent</td>\n",
       "      <td>low</td>\n",
       "    </tr>\n",
       "    <tr>\n",
       "      <th>4</th>\n",
       "      <td>1</td>\n",
       "      <td>4066.000000</td>\n",
       "      <td>1</td>\n",
       "      <td>14.97</td>\n",
       "      <td>667</td>\n",
       "      <td>0</td>\n",
       "      <td>102.92</td>\n",
       "      <td>0.1426</td>\n",
       "      <td>11.299732</td>\n",
       "      <td>0</td>\n",
       "      <td>0</td>\n",
       "      <td>credit_card</td>\n",
       "      <td>4740</td>\n",
       "      <td>39.5</td>\n",
       "      <td>80799.999636</td>\n",
       "      <td>Good</td>\n",
       "      <td>High</td>\n",
       "    </tr>\n",
       "  </tbody>\n",
       "</table>\n",
       "</div>"
      ],
      "text/plain": [
       "   credit.policy  days.with.cr.line  delinq.2yrs    dti  fico  inq.last.6mths  \\\n",
       "0              1        5639.958333            0  19.48   737               0   \n",
       "1              1        2760.000000            0  14.29   707               0   \n",
       "2              1        4710.000000            0  11.63   682               1   \n",
       "3              1        2699.958333            0   8.10   712               1   \n",
       "4              1        4066.000000            1  14.97   667               0   \n",
       "\n",
       "   installment  int.rate  log.annual.inc  not.fully.paid  pub.rec  \\\n",
       "0       829.10    0.1189       11.350407               0        0   \n",
       "1       228.22    0.1071       11.082143               0        0   \n",
       "2       366.86    0.1357       10.373491               0        0   \n",
       "3       162.34    0.1008       11.350407               0        0   \n",
       "4       102.92    0.1426       11.299732               0        0   \n",
       "\n",
       "              purpose  revol.bal  revol.util  annualincome fico_category  \\\n",
       "0  debt_consolidation      28854        52.1  85000.000385     Excellent   \n",
       "1         credit_card      33623        76.7  65000.000073     Excellent   \n",
       "2  debt_consolidation       3511        25.6  31999.999943          Good   \n",
       "3  debt_consolidation      33667        73.2  85000.000385     Excellent   \n",
       "4         credit_card       4740        39.5  80799.999636          Good   \n",
       "\n",
       "  int_rate_type  \n",
       "0           low  \n",
       "1           low  \n",
       "2          High  \n",
       "3           low  \n",
       "4          High  "
      ]
     },
     "execution_count": 26,
     "metadata": {},
     "output_type": "execute_result"
    }
   ],
   "source": [
    "loandata.head(5)"
   ]
  },
  {
   "cell_type": "code",
   "execution_count": 27,
   "metadata": {},
   "outputs": [],
   "source": [
    "#create a new dimension 'interest rate type category' and add high and lwo based the interest rate\n",
    "loandata.loc[loandata['int.rate']>0.12,'int_rate_type']='High'"
   ]
  },
  {
   "cell_type": "code",
   "execution_count": 28,
   "metadata": {},
   "outputs": [],
   "source": [
    "loandata.loc[loandata['int.rate']<=0.12,'int_rate_type']='low'"
   ]
  },
  {
   "cell_type": "code",
   "execution_count": 29,
   "metadata": {},
   "outputs": [],
   "source": [
    "#create a chart to check the number of people in each category\n",
    "#number of rows per category\n",
    "catplot=loandata.groupby(['fico_category']).size()"
   ]
  },
  {
   "cell_type": "code",
   "execution_count": 30,
   "metadata": {},
   "outputs": [
    {
     "data": {
      "image/png": "[encoded data removed]",
      "text/plain": [
       "<Figure size 432x288 with 1 Axes>"
      ]
     },
     "metadata": {},
     "output_type": "display_data"
    }
   ],
   "source": [
    "catplot.plot.bar()\n",
    "plt.show()"
   ]
  },
  {
   "cell_type": "code",
   "execution_count": 31,
   "metadata": {},
   "outputs": [],
   "source": [
    "#number of rows per purpose category\n",
    "purpose_plot=loandata.groupby(['purpose']).size()"
   ]
  },
  {
   "cell_type": "code",
   "execution_count": 32,
   "metadata": {},
   "outputs": [
    {
     "data": {
      "image/png": "[encoded data removed]",
      "text/plain": [
       "<Figure size 432x288 with 1 Axes>"
      ]
     },
     "metadata": {},
     "output_type": "display_data"
    }
   ],
   "source": [
    "purpose_plot.plot.bar()\n",
    "plt.show()"
   ]
  },
  {
   "cell_type": "code",
   "execution_count": 23,
   "metadata": {},
   "outputs": [
    {
     "data": {
      "image/png": "[encoded data removed]",
      "text/plain": [
       "<Figure size 432x288 with 1 Axes>"
      ]
     },
     "metadata": {},
     "output_type": "display_data"
    }
   ],
   "source": [
    "xpoint=loandata['annualincome']\n",
    "ypoint=loandata['dti']\n",
    "plt.scatter(xpoint,ypoint)\n",
    "plt.show()"
   ]
  },
  {
   "cell_type": "code",
   "execution_count": 33,
   "metadata": {},
   "outputs": [],
   "source": [
    "#add the index and save it\n",
    "loandata.to_csv('loancleaned.csv',index=True)"
   ]
  },
  {
   "cell_type": "code",
   "execution_count": null,
   "metadata": {},
   "outputs": [],
   "source": []
  }
 ],
 "metadata": {
  "kernelspec": {
   "display_name": "Python 3",
   "language": "python",
   "name": "python3"
  },
  "language_info": {
   "codemirror_mode": {
    "name": "ipython",
    "version": 3
   },
   "file_extension": ".py",
   "mimetype": "text/x-python",
   "name": "python",
   "nbconvert_exporter": "python",
   "pygments_lexer": "ipython3",
   "version": "3.6.5"
  }
 },
 "nbformat": 4,
 "nbformat_minor": 2
}
