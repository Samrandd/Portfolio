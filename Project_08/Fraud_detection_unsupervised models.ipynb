{
 "cells": [
  {
   "cell_type": "markdown",
   "metadata": {},
   "source": [
    "In this notebook , we are trying to detect fraud when we do not have any label . Therefore, we need to use unsupervised modeling techniques .\n",
    "To check fraud we need to detect suspicious data.  Probably we need to look at the describtion of the data and its normality .\n",
    "So we need to put custoemrs in different segment. Then look at the transcation's behaviours.You have to create a seprate model as wes should not  detect suscpicious behaviour within a segment.\n",
    "The dataset I am using here was downloaded from Datacamp database.\n"
   ]
  },
  {
   "cell_type": "code",
   "execution_count": 1,
   "metadata": {},
   "outputs": [],
   "source": [
    "import pandas as pd"
   ]
  },
  {
   "cell_type": "code",
   "execution_count": 2,
   "metadata": {},
   "outputs": [],
   "source": [
    "df=pd.read_csv(\"banksim1.csv\")"
   ]
  },
  {
   "cell_type": "code",
   "execution_count": 3,
   "metadata": {},
   "outputs": [
    {
     "data": {
      "text/plain": [
       "(7200, 20)"
      ]
     },
     "execution_count": 3,
     "metadata": {},
     "output_type": "execute_result"
    }
   ],
   "source": [
    "df.shape"
   ]
  },
  {
   "cell_type": "code",
   "execution_count": 4,
   "metadata": {},
   "outputs": [
    {
     "data": {
      "text/html": [
       "<div>\n",
       "<style scoped>\n",
       "    .dataframe tbody tr th:only-of-type {\n",
       "        vertical-align: middle;\n",
       "    }\n",
       "\n",
       "    .dataframe tbody tr th {\n",
       "        vertical-align: top;\n",
       "    }\n",
       "\n",
       "    .dataframe thead th {\n",
       "        text-align: right;\n",
       "    }\n",
       "</style>\n",
       "<table border=\"1\" class=\"dataframe\">\n",
       "  <thead>\n",
       "    <tr style=\"text-align: right;\">\n",
       "      <th></th>\n",
       "      <th>0</th>\n",
       "      <th>1</th>\n",
       "      <th>2</th>\n",
       "      <th>3</th>\n",
       "      <th>4</th>\n",
       "    </tr>\n",
       "  </thead>\n",
       "  <tbody>\n",
       "    <tr>\n",
       "      <th>Unnamed: 0</th>\n",
       "      <td>171915</td>\n",
       "      <td>426989</td>\n",
       "      <td>310539</td>\n",
       "      <td>215216</td>\n",
       "      <td>569244</td>\n",
       "    </tr>\n",
       "    <tr>\n",
       "      <th>age</th>\n",
       "      <td>3</td>\n",
       "      <td>4</td>\n",
       "      <td>3</td>\n",
       "      <td>4</td>\n",
       "      <td>2</td>\n",
       "    </tr>\n",
       "    <tr>\n",
       "      <th>gender</th>\n",
       "      <td>F</td>\n",
       "      <td>F</td>\n",
       "      <td>F</td>\n",
       "      <td>M</td>\n",
       "      <td>M</td>\n",
       "    </tr>\n",
       "    <tr>\n",
       "      <th>amount</th>\n",
       "      <td>49.71</td>\n",
       "      <td>39.29</td>\n",
       "      <td>18.76</td>\n",
       "      <td>13.95</td>\n",
       "      <td>49.87</td>\n",
       "    </tr>\n",
       "    <tr>\n",
       "      <th>fraud</th>\n",
       "      <td>0</td>\n",
       "      <td>0</td>\n",
       "      <td>0</td>\n",
       "      <td>0</td>\n",
       "      <td>0</td>\n",
       "    </tr>\n",
       "    <tr>\n",
       "      <th>es_transportation</th>\n",
       "      <td>1</td>\n",
       "      <td>0</td>\n",
       "      <td>1</td>\n",
       "      <td>1</td>\n",
       "      <td>1</td>\n",
       "    </tr>\n",
       "    <tr>\n",
       "      <th>es_health</th>\n",
       "      <td>0</td>\n",
       "      <td>1</td>\n",
       "      <td>0</td>\n",
       "      <td>0</td>\n",
       "      <td>0</td>\n",
       "    </tr>\n",
       "    <tr>\n",
       "      <th>es_hyper</th>\n",
       "      <td>0</td>\n",
       "      <td>0</td>\n",
       "      <td>0</td>\n",
       "      <td>0</td>\n",
       "      <td>0</td>\n",
       "    </tr>\n",
       "    <tr>\n",
       "      <th>es_food</th>\n",
       "      <td>0</td>\n",
       "      <td>0</td>\n",
       "      <td>0</td>\n",
       "      <td>0</td>\n",
       "      <td>0</td>\n",
       "    </tr>\n",
       "    <tr>\n",
       "      <th>es_wellnessandbeauty</th>\n",
       "      <td>0</td>\n",
       "      <td>0</td>\n",
       "      <td>0</td>\n",
       "      <td>0</td>\n",
       "      <td>0</td>\n",
       "    </tr>\n",
       "    <tr>\n",
       "      <th>es_fashion</th>\n",
       "      <td>0</td>\n",
       "      <td>0</td>\n",
       "      <td>0</td>\n",
       "      <td>0</td>\n",
       "      <td>0</td>\n",
       "    </tr>\n",
       "    <tr>\n",
       "      <th>es_hotelservices</th>\n",
       "      <td>0</td>\n",
       "      <td>0</td>\n",
       "      <td>0</td>\n",
       "      <td>0</td>\n",
       "      <td>0</td>\n",
       "    </tr>\n",
       "    <tr>\n",
       "      <th>es_sportsandtoys</th>\n",
       "      <td>0</td>\n",
       "      <td>0</td>\n",
       "      <td>0</td>\n",
       "      <td>0</td>\n",
       "      <td>0</td>\n",
       "    </tr>\n",
       "    <tr>\n",
       "      <th>es_barsandrestaurants</th>\n",
       "      <td>0</td>\n",
       "      <td>0</td>\n",
       "      <td>0</td>\n",
       "      <td>0</td>\n",
       "      <td>0</td>\n",
       "    </tr>\n",
       "    <tr>\n",
       "      <th>es_home</th>\n",
       "      <td>0</td>\n",
       "      <td>0</td>\n",
       "      <td>0</td>\n",
       "      <td>0</td>\n",
       "      <td>0</td>\n",
       "    </tr>\n",
       "    <tr>\n",
       "      <th>es_tech</th>\n",
       "      <td>0</td>\n",
       "      <td>0</td>\n",
       "      <td>0</td>\n",
       "      <td>0</td>\n",
       "      <td>0</td>\n",
       "    </tr>\n",
       "    <tr>\n",
       "      <th>es_contents</th>\n",
       "      <td>0</td>\n",
       "      <td>0</td>\n",
       "      <td>0</td>\n",
       "      <td>0</td>\n",
       "      <td>0</td>\n",
       "    </tr>\n",
       "    <tr>\n",
       "      <th>es_otherservices</th>\n",
       "      <td>0</td>\n",
       "      <td>0</td>\n",
       "      <td>0</td>\n",
       "      <td>0</td>\n",
       "      <td>0</td>\n",
       "    </tr>\n",
       "    <tr>\n",
       "      <th>es_travel</th>\n",
       "      <td>0</td>\n",
       "      <td>0</td>\n",
       "      <td>0</td>\n",
       "      <td>0</td>\n",
       "      <td>0</td>\n",
       "    </tr>\n",
       "    <tr>\n",
       "      <th>es_leisure</th>\n",
       "      <td>0</td>\n",
       "      <td>0</td>\n",
       "      <td>0</td>\n",
       "      <td>0</td>\n",
       "      <td>0</td>\n",
       "    </tr>\n",
       "  </tbody>\n",
       "</table>\n",
       "</div>"
      ],
      "text/plain": [
       "                            0       1       2       3       4\n",
       "Unnamed: 0             171915  426989  310539  215216  569244\n",
       "age                         3       4       3       4       2\n",
       "gender                      F       F       F       M       M\n",
       "amount                  49.71   39.29   18.76   13.95   49.87\n",
       "fraud                       0       0       0       0       0\n",
       "es_transportation           1       0       1       1       1\n",
       "es_health                   0       1       0       0       0\n",
       "es_hyper                    0       0       0       0       0\n",
       "es_food                     0       0       0       0       0\n",
       "es_wellnessandbeauty        0       0       0       0       0\n",
       "es_fashion                  0       0       0       0       0\n",
       "es_hotelservices            0       0       0       0       0\n",
       "es_sportsandtoys            0       0       0       0       0\n",
       "es_barsandrestaurants       0       0       0       0       0\n",
       "es_home                     0       0       0       0       0\n",
       "es_tech                     0       0       0       0       0\n",
       "es_contents                 0       0       0       0       0\n",
       "es_otherservices            0       0       0       0       0\n",
       "es_travel                   0       0       0       0       0\n",
       "es_leisure                  0       0       0       0       0"
      ]
     },
     "execution_count": 4,
     "metadata": {},
     "output_type": "execute_result"
    }
   ],
   "source": [
    "# Display the first 5 rows\n",
    "df.head().T\n"
   ]
  },
  {
   "cell_type": "code",
   "execution_count": 5,
   "metadata": {},
   "outputs": [],
   "source": [
    "#Need to delete unnamed column\n",
    "df = df.drop('Unnamed: 0', axis=1)\n",
    "\n"
   ]
  },
  {
   "cell_type": "code",
   "execution_count": null,
   "metadata": {},
   "outputs": [],
   "source": []
  },
  {
   "cell_type": "code",
   "execution_count": 6,
   "metadata": {},
   "outputs": [
    {
     "data": {
      "text/plain": [
       "Index(['age', 'gender', 'amount', 'fraud', 'es_transportation', 'es_health',\n",
       "       'es_hyper', 'es_food', 'es_wellnessandbeauty', 'es_fashion',\n",
       "       'es_hotelservices', 'es_sportsandtoys', 'es_barsandrestaurants',\n",
       "       'es_home', 'es_tech', 'es_contents', 'es_otherservices', 'es_travel',\n",
       "       'es_leisure'],\n",
       "      dtype='object')"
      ]
     },
     "execution_count": 6,
     "metadata": {},
     "output_type": "execute_result"
    }
   ],
   "source": [
    "df.describe()\n",
    "df.columns"
   ]
  },
  {
   "cell_type": "markdown",
   "metadata": {},
   "source": [
    "You can see  that fraud is more prevalent in in travel, leisure , sports and hotel  related transactions."
   ]
  },
  {
   "cell_type": "code",
   "execution_count": 7,
   "metadata": {},
   "outputs": [],
   "source": [
    "# Create two dataframes with fraud and non-fraud data \n",
    "df_fraud = df.loc[df.fraud == 1] \n",
    "df_non_fraud = df.loc[df.fraud == 0]"
   ]
  },
  {
   "cell_type": "code",
   "execution_count": 8,
   "metadata": {},
   "outputs": [
    {
     "name": "stdout",
     "output_type": "stream",
     "text": [
      "Not Fraud    7000\n",
      "Fraud         200\n",
      "Name: fraud, dtype: int64\n"
     ]
    }
   ],
   "source": [
    "classes = {0:'Not Fraud', 1:'Fraud'}\n",
    "print(df.fraud.value_counts().rename(index = classes))"
   ]
  },
  {
   "cell_type": "code",
   "execution_count": 9,
   "metadata": {},
   "outputs": [
    {
     "data": {
      "text/plain": [
       "<Figure size 640x480 with 1 Axes>"
      ]
     },
     "metadata": {},
     "output_type": "display_data"
    }
   ],
   "source": [
    "import matplotlib.pyplot as plt\n",
    "# Plot histograms of the amounts in fraud and non-fraud data \n",
    "plt.hist(df_fraud.amount, alpha=0.5, label='fraud')\n",
    "plt.hist(df_non_fraud.amount, alpha=0.5, label='nonfraud')\n",
    "plt.legend()\n",
    "plt.show()"
   ]
  },
  {
   "cell_type": "code",
   "execution_count": null,
   "metadata": {},
   "outputs": [],
   "source": []
  },
  {
   "cell_type": "markdown",
   "metadata": {},
   "source": [
    " it is difficult to see the full distribution as it is difficult to see the full distribution \n",
    "\n",
    "However, we can see that the fraudulent transactions tend to be on the larger side relative to normal obervations.\n",
    "This is good news, as it helps us later in detecting fraud from non-fraud. \n",
    "Next,we're going to implement a clustering model to distinguish between normal and abnormal transactions, when the fraud labels are no longer available."
   ]
  },
  {
   "cell_type": "code",
   "execution_count": 10,
   "metadata": {},
   "outputs": [],
   "source": [
    "#We need data preparation done before we go further\n",
    "#assign a number to gender\n",
    "df.gender=df.gender.map(lambda x:0 if x=='M' else 1)"
   ]
  },
  {
   "cell_type": "markdown",
   "metadata": {},
   "source": [
    "The data is imbalanced so we need to use SMOTE technique to tackle this issue first"
   ]
  },
  {
   "cell_type": "code",
   "execution_count": 11,
   "metadata": {},
   "outputs": [
    {
     "data": {
      "text/plain": [
       "7200"
      ]
     },
     "execution_count": 11,
     "metadata": {},
     "output_type": "execute_result"
    }
   ],
   "source": [
    "X=df.drop('fraud',axis=1)\n",
    "y=df.fraud.values\n",
    "len(y)"
   ]
  },
  {
   "cell_type": "code",
   "execution_count": 12,
   "metadata": {},
   "outputs": [
    {
     "name": "stdout",
     "output_type": "stream",
     "text": [
      "97.22222222222221\n"
     ]
    }
   ],
   "source": [
    "# Count the total number of non-fraudulent observations \n",
    "non_fraud = [i for i in y if i == 0]\n",
    "count_non_fraud = non_fraud.count(0)\n",
    "\n",
    "# Calculate the percentage of non fraud observations in the dataset\n",
    "percentage = (float(count_non_fraud)/float(len(y))) * 100\n",
    "\n",
    "# Print the percentage: this is our \"natural accuracy\"or baseline by doing nothing\n",
    "print(percentage)\n"
   ]
  },
  {
   "cell_type": "markdown",
   "metadata": {},
   "source": [
    "we would be correct in 97.22% of the cases. So now you understand, that if we get an accuracy of less than this number, our model does not actually add any value in predicting how many cases are correct. Let's see how random forest does in predicting fraud in our data."
   ]
  },
  {
   "cell_type": "code",
   "execution_count": 13,
   "metadata": {},
   "outputs": [
    {
     "name": "stdout",
     "output_type": "stream",
     "text": [
      "[[ 1.10959230e-02  8.97449859e-01  3.13766315e-01 ... -3.72937070e-02\n",
      "  -5.00626174e-02 -4.25302420e-02]\n",
      " [ 7.57737469e-01  8.97449859e-01  5.69043625e-02 ... -3.72937070e-02\n",
      "  -5.00626174e-02 -4.25302420e-02]\n",
      " [ 1.10959230e-02  8.97449859e-01 -4.49177777e-01 ... -3.72937070e-02\n",
      "  -5.00626174e-02 -4.25302420e-02]\n",
      " ...\n",
      " [-1.48218717e+00  8.97449859e-01  4.90960841e+00 ... -3.72937070e-02\n",
      "   1.99749844e+01 -4.25302420e-02]\n",
      " [-1.48218717e+00 -1.11426838e+00  4.90960841e+00 ... -3.72937070e-02\n",
      "  -5.00626174e-02 -4.25302420e-02]\n",
      " [ 7.57737469e-01  8.97449859e-01  4.90960841e+00 ... -3.72937070e-02\n",
      "  -5.00626174e-02 -4.25302420e-02]]\n"
     ]
    },
    {
     "name": "stderr",
     "output_type": "stream",
     "text": [
      "C:\\Users\\samra\\Anaconda3\\lib\\site-packages\\sklearn\\model_selection\\_split.py:2026: FutureWarning: From version 0.21, test_size will always complement train_size unless both are specified.\n",
      "  FutureWarning)\n"
     ]
    }
   ],
   "source": [
    "\n",
    "from sklearn.preprocessing import StandardScaler\n",
    "from sklearn.model_selection import train_test_split\n",
    "ss = StandardScaler()\n",
    "\n",
    "# use the \"fit_transform\" function to standardize the X design matrix\n",
    "Xs = ss.fit_transform(X)\n",
    "#print(Xs.values)\n",
    "print(Xs)\n",
    "# splitting data into training and test set\n",
    "X_train, X_test, y_train, y_test = train_test_split(Xs, y,train_size=0.8, random_state=2)"
   ]
  },
  {
   "cell_type": "code",
   "execution_count": 14,
   "metadata": {},
   "outputs": [],
   "source": [
    "from imblearn.over_sampling import SMOTE\n",
    "# Define the resampling method and Create the resampled feature set\n",
    "X_resampled, y_resampled = SMOTE(kind='regular').fit_sample(X_train,y_train)"
   ]
  },
  {
   "cell_type": "code",
   "execution_count": 15,
   "metadata": {},
   "outputs": [
    {
     "name": "stdout",
     "output_type": "stream",
     "text": [
      "1    5602\n",
      "0    5602\n",
      "dtype: int64\n"
     ]
    }
   ],
   "source": [
    "print(pd.value_counts(pd.Series(y_resampled)))"
   ]
  },
  {
   "cell_type": "markdown",
   "metadata": {},
   "source": [
    "## Kmeans clustering"
   ]
  },
  {
   "cell_type": "code",
   "execution_count": 16,
   "metadata": {},
   "outputs": [],
   "source": [
    "#we use kmeans which uses the distance to cluster centroid\n",
    "# Import the packages\n",
    "from sklearn.preprocessing import MinMaxScaler\n",
    "from sklearn.cluster import KMeans\n",
    "import numpy as np"
   ]
  },
  {
   "cell_type": "markdown",
   "metadata": {},
   "source": [
    "For ML algorithms using distance based metrics, it is important to always scale your data, as features using different scales will distort your results. K-means uses the Euclidian distance to assess distance to cluster centroids, therefore you first have to scale your data before continuing to implement the algorithm."
   ]
  },
  {
   "cell_type": "code",
   "execution_count": 17,
   "metadata": {},
   "outputs": [],
   "source": [
    "\n",
    "# Transform df into a numpy array-\n",
    "X = np.array(X).astype(np.float)\n",
    "\n",
    "# Define the scaler and apply to the data\n",
    "scaler = MinMaxScaler()\n",
    "X_scaled = scaler.fit_transform(X_resampled)"
   ]
  },
  {
   "cell_type": "markdown",
   "metadata": {},
   "source": [
    " For fraud detection, K-means clustering is straightforward to implement and relatively powerful in predicting suspicious cases. \n",
    "    It is a good algorithm to start with when working on fraud detection problems. However, fraud data is oftentimes very large, especially when you are working with transaction data. \n",
    "    MiniBatch K-means is an efficient way to implement K-means on a large dataset, which we will use in this exercise."
   ]
  },
  {
   "cell_type": "markdown",
   "metadata": {},
   "source": [
    "Next,we need to figure our what the right number of clusters to use is. it is important to get the number of clusters right, especially when you want to use the outliers of those clusters as fraud predictions. To decide which amount of clusters you're going to use, let's apply the Elbow method and see what the optimal number of clusters should be based on this method."
   ]
  },
  {
   "cell_type": "code",
   "execution_count": 18,
   "metadata": {},
   "outputs": [],
   "source": [
    "# Define the range of clusters to try\n",
    "clustno = range(1,10)\n"
   ]
  },
  {
   "cell_type": "code",
   "execution_count": 19,
   "metadata": {},
   "outputs": [],
   "source": [
    "# Import MiniBatchKmeans \n",
    "from sklearn.cluster import MiniBatchKMeans\n",
    "# Run MiniBatch Kmeans over the number of clusters\n",
    "kmeans = [MiniBatchKMeans(n_clusters=i) for i in clustno]"
   ]
  },
  {
   "cell_type": "code",
   "execution_count": 20,
   "metadata": {},
   "outputs": [],
   "source": [
    "# Obtain the score for each model\n",
    "score = [kmeans[i].fit(X_resampled).score(X_resampled) for i in range(len(kmeans))]"
   ]
  },
  {
   "cell_type": "code",
   "execution_count": 21,
   "metadata": {},
   "outputs": [
    {
     "data": {
      "image/png": "[encoded data removed]",
      "text/plain": [
       "<Figure size 432x288 with 1 Axes>"
      ]
     },
     "metadata": {},
     "output_type": "display_data"
    }
   ],
   "source": [
    "# Plot the models and their respective score \n",
    "plt.plot(clustno, score)\n",
    "plt.xlabel('Number of Clusters')\n",
    "plt.ylabel('Score')\n",
    "plt.title('Elbow Curve')\n",
    "plt.show()"
   ]
  },
  {
   "cell_type": "markdown",
   "metadata": {},
   "source": [
    "As you see the optimal number of clusters should probably be around 3 clusters as that is where the elbow is in the curve.\n",
    "we use this  as our baseline model, and see how well this does in detecting fraud"
   ]
  },
  {
   "cell_type": "markdown",
   "metadata": {},
   "source": [
    "Detecting outliers\n",
    "We need to detect outiers inorder as they may signal fraud.The fraudulent transactions are typically flagged as the observations that are furthest aways from the cluster centroid\n"
   ]
  },
  {
   "cell_type": "code",
   "execution_count": 22,
   "metadata": {},
   "outputs": [],
   "source": [
    "#the first step is train_test. we have done it already!!\n",
    "    #from sklearn.model_selection import train_test_split\n",
    "    # Split the data into training and test set\n",
    "    #X_train, X_test, y_train, y_test = train_test_split(X_scaled, y, test_size=0.3, random_state=0)\n",
    "\n",
    "# Define K-means model \n",
    "kmeans = MiniBatchKMeans(n_clusters=3, random_state=42).fit(X_resampled)\n",
    "\n",
    "# Obtain predictions and calculate distance from cluster centroid\n",
    "X_test_clusters = kmeans.predict(X_test)\n",
    "X_test_clusters_centers = kmeans.cluster_centers_\n",
    "dist = [np.linalg.norm(x-y) for x, y in zip(X_test, X_test_clusters_centers[X_test_clusters])]\n",
    "\n",
    "# Create fraud predictions based on outliers on clusters \n",
    "predict = np.array(dist)\n",
    "predict[dist >= np.percentile(dist, 95)] = 1\n",
    "predict[dist < np.percentile(dist, 95)] = 0\n",
    "#Now that we have the predictions from our kmeans model, let's check how it compares to the actual labels"
   ]
  },
  {
   "cell_type": "code",
   "execution_count": 23,
   "metadata": {},
   "outputs": [
    {
     "name": "stdout",
     "output_type": "stream",
     "text": [
      "0.658185162477008\n"
     ]
    }
   ],
   "source": [
    "from sklearn.metrics import precision_score, recall_score, f1_score, roc_auc_score, accuracy_score, classification_report,confusion_matrix\n",
    "#Checking the model results\n",
    "# Obtain the ROC score\n",
    "print(roc_auc_score(y_test,predict))"
   ]
  },
  {
   "cell_type": "code",
   "execution_count": 24,
   "metadata": {},
   "outputs": [
    {
     "name": "stdout",
     "output_type": "stream",
     "text": [
      "[[1341   57]\n",
      " [  27   15]]\n"
     ]
    }
   ],
   "source": [
    "print(confusion_matrix(y_test,predict))\n",
    "#By lowering the threshold for cases flagged as fraud, we mayflag more cases overall but thereby also get more false positives."
   ]
  },
  {
   "cell_type": "markdown",
   "metadata": {},
   "source": [
    "The model predicts 72 cases of fraud, out of which 14 are actual fraud. \n",
    "We have  58 false positives which is not bad(precision=TP/tp+fp=14/14+58=.19). \n",
    "We have not caught 28 cases of actual fraud (recall=TP/TP+FN=14/14+28=.33). \n",
    "Lets try to improve these scores."
   ]
  },
  {
   "cell_type": "code",
   "execution_count": 25,
   "metadata": {},
   "outputs": [
    {
     "name": "stdout",
     "output_type": "stream",
     "text": [
      "             precision    recall  f1-score   support\n",
      "\n",
      "          0       0.98      0.96      0.97      1398\n",
      "          1       0.21      0.36      0.26        42\n",
      "\n",
      "avg / total       0.96      0.94      0.95      1440\n",
      "\n"
     ]
    }
   ],
   "source": [
    "print(classification_report(y_test, predict))"
   ]
  },
  {
   "cell_type": "code",
   "execution_count": 26,
   "metadata": {},
   "outputs": [
    {
     "data": {
      "image/png": "[encoded data removed]",
      "text/plain": [
       "<Figure size 432x288 with 1 Axes>"
      ]
     },
     "metadata": {},
     "output_type": "display_data"
    }
   ],
   "source": [
    "from sklearn.metrics import precision_recall_curve\n",
    "prec, rec, tre = precision_recall_curve(y_test, predict )\n",
    "\n",
    "def plot_prec_recall_vs_tresh(precisions, recalls, thresholds):\n",
    "    plt.plot(thresholds, precisions[:-1], 'b--', label='precision')\n",
    "    plt.plot(thresholds, recalls[:-1], 'g--', label = 'recall')\n",
    "    plt.xlabel('Threshold')\n",
    "    plt.legend(loc='upper left')\n",
    "    plt.ylim([0,1])\n",
    "\n",
    "plot_prec_recall_vs_tresh(prec, rec, tre)\n",
    "plt.show()\n",
    "#IT Seems when precision decreases ,r eacll increases. "
   ]
  },
  {
   "cell_type": "code",
   "execution_count": 27,
   "metadata": {},
   "outputs": [
    {
     "name": "stdout",
     "output_type": "stream",
     "text": [
      "Silhouette Coefficient: 0.362\n"
     ]
    }
   ],
   "source": [
    "from sklearn.metrics import silhouette_score\n",
    "k_labels = kmeans.labels_\n",
    "print((\"Silhouette Coefficient: %0.3f\" % silhouette_score(X_resampled, k_labels)))\n",
    "#let's see if we can come up with a better result with DBSCAN"
   ]
  },
  {
   "cell_type": "markdown",
   "metadata": {},
   "source": [
    " The best value is 1 and the worst value is -1. \n",
    "\n",
    "Silhouette analysis can be used to study the separation distance between the resulting clusters. The silhouette plot displays a measure of how close each point in one cluster is to points in the neighboring clusters and thus provides a way to assess parameters like number of clusters visually. This measure has a range of [-1, 1].\n",
    "\n",
    "Silhouette coefficients (as these values are referred to as) near +1 indicate that the sample is far away from the neighboring clusters. A value of 0 indicates that the sample is on or very close to the decision boundary between two neighboring clusters and negative values indicate that those samples might have been assigned to the wrong cluster.\n"
   ]
  },
  {
   "cell_type": "markdown",
   "metadata": {},
   "source": [
    "# DBSCAN Method"
   ]
  },
  {
   "cell_type": "markdown",
   "metadata": {},
   "source": [
    "the good feature of this method is we don't need  to predefine the number of cluster.The algorithm here finds core sample of high density and expands cluster from them. this works well on data which have clusters of similar density. we can detect smallest group as fraud  of clusters instead using outliers as fraud.\n",
    "\n",
    "It perfoms well on weird shap data. \n",
    "we need to assign minimum number of samples in cluster and maximum distance between points within clusters.\n",
    "#higher computational cost"
   ]
  },
  {
   "cell_type": "markdown",
   "metadata": {},
   "source": [
    "### Implementing DBscan"
   ]
  },
  {
   "cell_type": "code",
   "execution_count": 28,
   "metadata": {},
   "outputs": [],
   "source": [
    "from sklearn.cluster import DBSCAN"
   ]
  },
  {
   "cell_type": "code",
   "execution_count": 48,
   "metadata": {},
   "outputs": [],
   "source": [
    "# 'eps' is the max distance between two samples in order for them to be considered in the some cluster.\n",
    "# min_samples = Minimum number of samples required for a cluster to be considered a cluster.\n",
    "# Initialize and fit the DBscan model\n",
    "db = DBSCAN(eps=0.9, min_samples=10, n_jobs=-1).fit(Xs)#we put eps:.9 and the number of samples \n"
   ]
  },
  {
   "cell_type": "markdown",
   "metadata": {},
   "source": [
    "### Check out the assigned cluster labels"
   ]
  },
  {
   "cell_type": "code",
   "execution_count": 49,
   "metadata": {},
   "outputs": [
    {
     "name": "stdout",
     "output_type": "stream",
     "text": [
      "[0, 1, 0, 2, 2, 3, 0, 0, 2, 0, 2, 1, 4, 2, 2, 2, 2, 0, 0, 2, 2, 0, 2, 0, 0, 0, 0, 5, 0, 2, 6, 2, 1, -1, 2, 0, 0, 0, 0, 0, 2, 0, 2, 0, 0, 0, 2, 0, 7, 2, 0, 1, 0, 2, 0, 2, 0, 2, 2, 0, 2, 0, 2, 2, 2, 0, 0, 0, -1, 2, 2, 2, 0, 2, 0, 15, -1, 2, 0, 0, 2, 7, 4, 2, 1, 0, 0, 0, 2, 0, 8, -1, 0, 0, 3, 0, 0, 0, 0, 10, 2, 2, 0, 2, 0, 0, 2, 9, 10, 0, 0, 2, 2, 2, 2, 2, 0, 2, 0, 0, 1, 2, 2, 2, 0, 0, 0, 2, 2, 8, 10, 0, -1, 0, 0, 0, 0, 0, 2, 1, 0, 0, 0, 0, 2, 0, 2, 2, 0, 0, 4, 0, 0, 0, 2, 2, 2, 6, 0, 0, 0, 2, 0, 2, 0, 0, 0, 0, 2, 2, 0, 2, 4, 2, 2, 2, 5, 0, 2, 0, 0, 0, 2, 2, 2, 2, 1, 2, 2, 1, 0, 2, 2, 0, 0, 2, 0, 2, 0, 2, 14, 2, 2, 7, 2, 0, 2, 2, 0, 0, 2, 0, 15, 0, 2, 0, 2, 2, 0, 2, 2, 0, 0, 0, 2, 7, 2, 2, 2, 11, 0, 0, 0, 0, 2, 0, 0, 2, 5, 0, 0, 2, 0, 2, 2, 14, 2, 0, 0, 2, 0, 2, 2, 2, 2, 2, 8, 0, 0, 2, 4, 0, 0, 4, 2, 2, 2, 0, 0, 2, 0, 0, 1, -1, -1, 0, 2, 2, 6, 0, 2, 0, 0, 2, 2, 5, 2, 2, 2, 0, 2, -1, 2, 2, 0, 6, 2, 2, 0, 0, 2, 0, 2, 2, 2, 0, 0, 2, 4, 0, 2, 2, 0, 0, 2, 8, 0, 0, 2, 0, 2, 0, 2, 5, 2, 2, 2, 2, 0, 2, 2, 2, 2, 0, 4, 2, 2, 0, 1, 2, 0, 0, 6, 0, 2, 0, 2, 2, -1, 0, 0, 2, 4, 0, 0, 0, 0, 0, 0, 0, 2, 0, 0, -1, 2, 0, 0, 0, 2, 2, 1, 4, 0, 2, 0, 0, 2, 4, 0, 0, 0, 0, 0, 0, 5, 2, 2, 2, 0, 0, 6, 0, 0, 2, 5, 2, 0, 0, 0, 6, -1, 0, 6, 0, 0, -1, 2, 9, 2, 0, 0, 2, 0, 1, 2, 0, 2, 0, 2, 2, 0, 2, 2, 2, 0, 2, 2, 2, 2, 0, 0, 0, 0, 2, 2, 2, 2, 0, 0, 0, 2, 3, 0, 0, 6, 2, 0, 2, 0, 4, 2, 0, 2, 2, 2, 0, 2, 2, 0, 4, 12, 0, 0, 4, 0, 2, -1, 2, 2, 2, 2, 2, 0, 0, 2, 0, 0, 0, 2, 2, 0, 0, 0, 0, 2, 4, 2, 8, 2, 11, 0, 1, 2, 2, 1, 8, 1, 4, 6, 0, 2, 2, 0, 0, 2, 0, 0, 2, 0, 2, 0, 1, 0, 2, 6, 2, 2, 0, 2, 2, 0, 2, 0, 2, 2, 2, 0, 0, 0, 2, 0, 0, 2, 0, 2, 2, 10, 2, 2, 0, 0, 2, 2, 0, 2, 2, 0, 0, 0, 2, 2, 2, 2, 2, 0, 2, 0, 2, 2, 0, 12, 8, 2, 0, 0, 0, 0, 0, 11, 4, 1, 0, 0, 2, 0, 0, -1, 0, 14, 2, 0, 4, 0, 0, 3, 13, 0, 2, 2, 0, 2, 0, 3, 0, 0, 4, 0, 0, 2, 2, 2, 4, 11, 12, 2, 3, 0, 0, 0, 2, 0, 0, 0, 0, 4, 8, 2, 0, 0, 0, 0, 2, 0, 0, 2, 0, 0, 2, 0, 0, 8, 0, 0, 2, 2, 0, 0, 0, 4, 0, 2, 0, 12, 2, 2, 2, -1, 0, 2, 0, 0, 5, -1, 0, 0, 0, 0, 0, 0, 0, 0, 0, 2, 2, 0, 0, 2, 2, 2, 0, 0, 0, 0, 2, 0, 2, 8, 2, 0, 0, 0, 0, 0, 0, 2, 2, 0, 0, 0, 0, 0, 0, 2, 2, 0, 2, 0, 2, -1, 2, 2, 0, 0, 2, 2, 2, 0, 5, 0, 0, 0, 2, 2, 2, 0, 2, 0, 0, 4, 2, 2, 0, 0, 0, 2, 0, 0, 0, 2, 0, 2, -1, 2, 2, 2, 0, 0, 2, 2, 0, 2, -1, 0, 0, 2, -1, 0, 0, 0, 2, 0, 0, 0, 0, 0, 2, 0, 2, -1, 0, 2, 0, 0, 2, 0, 0, 0, 1, 2, 0, 0, 0, 0, 7, 0, 2, 0, 0, 0, 0, 0, 2, 2, 0, 0, 2, 2, 2, 2, 0, 0, 0, 0, 2, 2, 2, 0, 1, 2, 2, 0, 0, 2, 0, 0, -1, -1, 2, 2, 0, 0, 0, 0, 0, 2, 0, 0, 0, 0, 2, 0, 2, 0, 0, 0, 0, 0, 8, 0, 2, 8, 0, 2, 12, 0, 0, 0, 0, 0, 0, 10, 2, 2, 2, -1, 0, 2, 2, 2, 2, 2, 2, 2, 0, 0, 12, 0, 0, 14, 0, 0, 2, 2, 2, 0, 1, 2, 0, -1, 0, 0, 2, 0, 2, 2, 12, 0, 0, 2, 2, 0, 0, 0, 2, 0, 0, 6, 2, 4, -1, 2, 0, 0, 0, 2, 2, 0, 0, 2, 2, 2, 2, 2, 0, 0, 0, 2, 0, 14, 0, 0, 0, 0, 0, 0, 2, 0, 0, 0, 0, 2, 0, 0, 0, 0, 2, 2, 0, 2, 2, 0, 0, 0, 2, 0, 0, 2, 0, 6, 6, 2, 2, 5, 4, 0, 2, 2, 2, 10, 2, 2, 0, 0, 2, -1, 2, 0, 2, 14, 2, 0, 2, 0, 2, 2, 2, 0, 2, -1, 2, 2, 0, 0, 5, 0, 0, 0, 0, 2, 0, 2, 2, 0, 0, 0, 8, 0, 6, 1, 2, 0, 2, 2, 2, 0, 0, 2, 2, 4, 2, 0, 2, 2, 2, 0, 0, 2, 0, 2, 2, 0, 0, 0, 6, 2, 2, 2, 0, -1, 8, 7, 0, 2, 0, 0, 0, 0, 0, 0, 2, 0, 2, 0, 0, 0, 12, 2, 0, 0, -1, 0, 2, 2, 2, 0, 0, 1, 9, 0, 2, 0, 0, 2, 0, 0, 2, 4, 0, 0, 0, 0, 2, -1, -1, 0, 4, 0, 2, 0, 0, 7, 6, 0, 0, 0, 2, 2, 0, 0, 0, 0, 0, 0, 0, 2, 2, 0, 3, 2, 2, 0, 2, 2, 2, 2, 0, 0, 1, 7, 0, 0, 2, 0, -1, 0, 0, 2, 2, 2, 2, 2, 2, 0, 4, 4, 2, 2, 2, 2, 0, 0, 2, 9, 10, 0, 0, 2, 0, 0, 2, 0, 0, 2, 2, 2, 8, 2, 2, 1, 0, 2, 0, 0, 2, 0, 0, 2, 2, 0, 0, 0, 5, 0, 6, 3, 5, 0, 2, 2, 0, 0, 2, 0, 2, 0, 2, 6, 0, 0, 0, 2, 2, 0, 2, 0, 0, 2, -1, 8, 0, 0, 2, 0, 2, 2, 2, 0, 0, 0, 5, 0, 2, 0, 0, 0, 2, 2, 2, 2, 2, 12, 0, 2, 0, 2, 0, 0, 6, 2, 2, 0, 0, -1, 0, 7, 2, 0, 0, 0, 12, 0, 4, 2, 2, 2, 0, 2, 2, 0, 2, 2, 2, 0, 2, 0, 2, 0, 2, 2, 0, 2, 2, 2, 0, 8, 0, 2, 2, 2, 2, 0, 0, 8, 0, 0, 0, 0, 2, 0, 2, 2, 0, 0, 0, 0, 0, 2, 0, 2, 2, 0, 0, 2, 0, 0, 2, 2, 0, 0, 0, 0, 0, 0, 0, 2, 0, 4, 0, 1, 2, 0, 2, 0, 0, 0, 0, 0, 2, 0, 2, 0, 6, 2, 0, 8, 1, 2, 2, 0, 0, 0, 0, 2, 0, 0, -1, 0, 0, 0, 2, 0, 0, 0, 0, 0, 2, 0, 2, 0, 2, 0, 0, 2, 2, 2, 0, 2, 2, 0, 0, 0, 2, 0, 2, 6, 2, 0, 0, 0, 2, 2, 0, 8, 4, 0, 2, 0, 0, 2, 2, 4, 0, 12, 0, 2, 0, 2, 0, 2, 3, 2, 1, 2, 6, 2, 0, 2, -1, 2, 0, 2, 0, 2, 2, 0, 2, 14, 2, 2, 7, 5, 0, 2, 8, 2, 2, 2, 0, 2, 0, 0, 0, -1, 2, 2, 2, 0, 0, -1, 0, 2, 0, 0, 0, 11, 0, 0, 0, 0, 12, -1, 0, 0, 2, 4, 0, -1, 2, 2, 0, 2, 2, 0, 2, 8, -1, 0, 2, 2, 5, 9, 4, 6, 2, 0, 2, 2, 0, 2, 0, 2, 4, 0, 2, 0, 2, 2, 2, 10, 0, 6, 2, 2, 8, 0, 0, 2, 2, 5, 2, 2, 4, 5, 5, 2, 0, 2, 6, 0, 1, 2, 6, 2, 2, 2, 2, 0, 0, -1, 1, 2, 0, 0, 0, 0, 2, 0, 0, 0, 2, 2, 0, 3, 0, 2, 2, 2, 0, 2, 2, 2, 2, 0, 0, 2, 0, 2, 0, 0, 0, 8, 14, 4, 0, 0, 0, 5, 0, 2, 2, 2, 0, 2, 0, 0, 0, 14, 0, 2, 0, 2, 0, 0, 0, 0, 2, 0, 2, 0, 0, 0, 0, 0, 2, 0, 2, 2, 2, 0, 0, 2, 2, 0, 10, 0, 0, 0, 2, 4, 2, 5, 0, 2, 2, 2, 0, 2, 0, 2, 0, 0, 0, 0, 0, 2, 2, 0, 2, 2, 2, 2, 2, 0, 2, 2, 2, 2, 0, 1, 2, 0, 2, 0, 5, 0, 0, 0, 2, 2, 2, 2, 0, 2, 0, 2, 0, 2, 0, 0, 0, 2, 0, 2, 14, 2, 2, 0, 0, 0, 2, 0, 2, 0, 14, 2, 0, 2, 0, 0, 2, 2, 2, 0, 2, 14, 0, 2, 0, 2, 2, 0, 0, 0, 12, 0, 2, 4, 2, 0, 0, 10, 2, 2, 0, 0, 0, 2, 0, 0, 3, 2, 0, 0, 4, 2, 0, 2, 0, 0, 0, 2, 2, 0, 2, 0, 2, 2, 0, 2, 0, 6, 0, 2, 0, 2, 2, 2, 0, 2, 0, 4, 0, 0, 2, 2, 0, 0, 0, 0, 2, 2, 2, 0, 0, 0, 2, 0, 2, 2, -1, 2, 0, 0, 2, 2, 0, 0, 0, 0, 0, 2, 2, 0, 2, 2, 0, 0, 2, -1, 0, 2, 2, 2, 0, 2, 14, 2, 4, 0, 11, 2, 8, 0, 2, 2, 0, 2, 2, 0, 2, 0, 2, 2, 2, 0, 4, 0, 10, 0, 2, 0, 2, 0, 0, 2, 0, 1, 0, 2, 0, 0, 0, 0, 2, 11, 2, 0, 0, 0, 0, 0, 2, 2, 8, 2, 2, 2, 0, 2, 2, 0, 0, 0, 1, 2, 2, 6, 2, 2, 2, 0, 2, 2, 4, 0, 2, 0, 0, 0, 7, 0, 2, 2, 0, 2, 4, 5, 2, 8, 0, 2, 2, 0, 0, 0, 0, 0, 0, 0, 0, 2, 4, 2, 12, 0, 0, 0, 0, 2, 2, 2, 0, 2, 0, 2, 0, 2, 0, 2, 11, 0, 4, 2, 2, 0, 2, 0, 0, 5, 2, 2, 2, 0, 2, 0, 0, 2, 4, 0, 2, 0, 2, 2, 0, 2, 0, 5, 2, 0, 2, 2, 2, 0, 3, 4, 0, -1, 0, 2, 0, 2, 0, 0, 0, 2, 1, 0, 0, 0, 2, 0, 0, 2, 0, 0, 2, 0, 0, 2, 0, 0, 0, 2, 0, 2, 2, 0, 2, 2, 2, 2, 2, 0, 0, 0, 2, 0, 0, 0, 8, 0, 2, 2, 0, 2, 2, 1, 5, 0, 2, 2, 2, 0, 2, 0, 2, 2, 0, 0, 1, 2, 2, 2, 5, 2, 2, 0, 5, 6, 0, 2, 2, 2, 6, 0, 6, 0, 12, 0, 2, 2, 0, 0, 2, 0, 4, 2, 0, 0, 2, 0, 2, 2, 2, -1, 0, 2, 0, 2, 2, 0, 2, 0, 0, 4, 0, 7, 0, 0, 2, 6, 8, 2, 5, 0, 2, 4, 2, 0, 0, 2, 2, 0, 0, 2, 2, 0, 0, 4, 0, 0, 0, 2, 2, 0, 0, 5, 2, 0, 0, 0, 11, 2, 2, 4, 0, 0, 0, 2, 2, 2, 0, 2, 2, 2, 0, 0, 2, 2, 2, 1, 0, 2, 2, 0, 0, 0, 0, 0, 0, -1, 0, 12, 2, 2, 2, 0, 2, 2, 2, 2, 11, 2, 0, 0, 6, 2, 0, 0, 0, 2, 2, 2, 0, 0, 0, 2, 2, 0, 0, 2, 0, 0, 2, 0, 2, 0, 6, 0, 2, 0, 0, 0, 2, 2, 0, 2, -1, 0, 2, 0, 2, 2, 1, 0, 0, 0, 2, 2, 11, 0, 2, 2, 0, 12, 2, 2, 0, 0, 2, 2, 2, 0, 0, 0, 0, 2, 0, 2, 2, 0, 0, 0, 2, 0, 0, 0, 2, 2, 0, 0, 0, 2, 0, 7, 0, 0, 0, 2, 8, 0, 2, 2, 8, 2, 0, 0, 2, 2, 0, 2, 2, 2, 2, 7, 2, 0, 0, 2, 0, 2, 2, 2, 0, 0, 0, 0, 0, 2, 2, 0, -1, 0, 11, 0, 0, 2, 0, 2, 0, 0, 0, 2, 0, 0, 0, 2, 2, 0, 0, 1, 0, 2, 11, 2, 0, 0, 0, 0, 0, 2, 0, 5, 2, 2, 2, 0, 2, 0, 2, 2, 2, 12, 2, 1, 5, 2, 0, 0, 2, 1, 0, 2, 0, 2, 4, 0, 0, 2, 2, 2, 12, 0, 2, 0, 2, 0, 0, 2, -1, 0, 0, 2, 0, 0, 0, 2, 0, 0, 0, 0, 2, 2, 0, 0, 2, 0, 0, 5, 2, 0, 0, 0, 2, 2, 0, 2, 0, 2, 1, 2, 0, 0, 0, 2, 0, -1, 0, 0, 0, 0, 0, 2, 0, 2, 2, 2, 2, 0, 0, 2, 5, 0, 0, 2, 2, 2, 0, 0, 2, 12, 2, 0, 0, 0, 12, 2, 6, 2, 0, 8, 0, 0, 0, 0, 2, 2, 0, 0, 0, 0, 3, 0, 1, 0, 0, 0, 0, 0, 2, 2, 2, 12, 2, 0, 0, 0, 2, 0, 2, 0, 0, 0, 2, 0, 0, 0, 0, 2, 0, 0, 0, 0, 2, 9, 0, 12, 1, 2, 2, 0, 0, 2, 0, 0, 2, 0, 2, 2, 0, 0, 2, 3, 0, 0, 2, 0, 1, 0, 0, 0, 2, 0, 0, 2, 0, 2, 0, 0, 6, 0, 2, 2, 2, 2, 2, 2, 0, 9, 7, 2, 0, 0, 4, 4, 4, 0, 0, 0, 2, 0, 2, 14, 3, 2, 0, 0, 2, 0, 0, 0, 0, 0, 0, 0, 0, 2, 0, 2, 2, 7, 0, 11, 4, 2, 2, 2, 2, 0, 2, 2, 2, 4, 0, 2, 2, 2, 2, 1, 0, 2, 0, 0, 7, 5, 2, 0, 2, 0, 0, 0, 0, 2, 0, 0, 0, 2, 0, 2, 6, 0, 0, 9, 2, 2, 2, 2, 0, 2, -1, 0, 2, 2, 0, 0, 2, 0, 8, 0, 2, 2, 11, 8, 0, 2, 2, 8, 2, 0, 0, 2, 2, 4, 2, 0, 0, 0, 2, 10, 0, 2, 2, 0, 0, 2, 5, 0, 0, 2, 0, 2, 2, 0, 0, 2, 2, 0, 0, 0, 0, 0, 0, 0, 2, 2, 0, -1, 2, 0, 0, 0, 2, 0, 2, 0, 1, 2, 0, 5, 0, 2, 0, 0, 2, 2, 2, 0, 0, 2, 2, 0, 0, 0, 2, 2, 2, 2, 2, 2, 2, 2, 2, 0, 0, 0, 0, 0, 5, 0, 0, 0, 0, 0, 0, 0, 2, 2, 0, 0, 1, 2, 0, 2, 0, 2, 2, 2, 3, 2, 2, -1, 10, 2, 0, 12, 0, 0, 5, 2, 0, 0, 0, 2, 2, 0, 5, 2, 0, 0, 2, 4, 2, 0, 0, 5, 0, 0, 0, 2, 5, 2, 0, 2, 0, 1, 0, 0, 6, 0, 2, 0, 2, 2, 11, 2, 2, 2, 0, 2, 1, 0, 2, 2, 0, 0, 2, 0, 2, 0, -1, 2, 15, 2, 2, 2, 0, 0, 0, 0, 0, 2, 2, -1, 0, 2, 2, 0, 0, 0, 0, 0, 2, 0, 2, 2, 2, 0, 0, 2, 0, 2, 0, 2, 2, 0, 0, 2, 0, 0, 0, 0, 2, 0, 2, 4, 2, 0, 0, 2, 2, 0, 0, 0, 2, 0, 0, 0, 0, 2, 2, 2, 2, 2, 0, 2, 2, 2, 0, 0, 0, 0, 2, 2, 2, 2, 0, 2, 0, 0, 2, 2, 0, 0, 11, 2, 0, 10, 0, 2, 0, 2, 2, 0, 2, -1, 7, 2, 0, 0, 0, 0, 2, 2, 2, 2, 2, 0, 2, 0, 0, 2, 0, 0, 2, 2, 2, 12, 2, 14, 0, 0, 2, 0, 2, -1, 2, 0, 2, 0, 2, 6, 2, 0, 0, 2, 0, 2, 0, 0, 2, 0, 0, 0, 0, -1, 0, 2, 0, 2, 0, 0, 0, 0, 0, 0, 2, 2, 0, 0, 2, 0, 0, 0, 2, -1, 0, 0, 0, 0, 1, 2, 0, 2, 3, 0, 3, 0, 0, 0, 0, 0, 0, 2, 2, 2, 2, 2, 2, 2, 0, 2, 2, 2, 2, 2, 2, 2, 2, 2, 0, 2, 2, 0, 5, 2, 2, 2, -1, 0, 2, 8, 5, 0, 0, 2, 2, 2, 2, 2, 2, 10, 0, 0, 2, -1, 8, 6, 2, 2, 0, 0, 8, 0, 0, 0, 2, 2, 2, 4, 2, 0, 0, 2, 0, 2, 0, 3, 2, 2, 0, 0, 0, 2, 0, 0, 2, 0, 2, 2, 2, 4, 0, 0, 0, 6, 2, 0, 0, 0, 0, 0, 5, 2, 2, 0, 0, 2, 2, 7, 2, 2, 0, 2, 2, 2, 2, 0, 2, 2, 0, 0, 6, 6, 0, 0, 0, 0, 0, 2, 2, 0, 2, 8, 2, 2, 0, 1, 2, 2, 0, 0, 0, 0, -1, 2, 0, 2, 0, 0, 0, 0, 0, 2, 0, 0, 0, 0, 0, 0, 0, 12, 0, 2, 2, 0, 0, 0, 0, 0, 0, 2, 2, -1, 2, 0, 2, 0, 12, 0, 2, 2, 0, 0, 2, 2, 0, 0, 0, 2, 2, 2, 0, 2, 2, 0, 0, 2, 0, 2, 0, 0, 0, 0, 2, -1, 0, 2, 0, 2, 0, 4, 0, 2, 2, 2, 2, 0, 10, 0, 0, 0, 2, 2, 0, 2, 10, 2, 0, 6, 5, 2, 0, -1, 0, 2, 12, 0, 0, 2, 0, 2, -1, 0, 2, 10, 0, 0, 2, 0, 0, 0, 6, 0, 2, 2, 0, 2, 0, 2, 0, 2, 2, 0, 0, 2, 0, 0, 0, 0, 0, -1, 0, 0, 0, -1, 0, -1, 4, 0, 0, 0, 1, 2, 2, 2, 0, 0, 0, 0, 2, 0, 2, 2, 2, 2, 2, 0, 0, 0, 2, 2, 0, 0, 2, 0, 2, 0, 2, 0, 0, 2, 0, 0, 0, 2, 0, 0, 0, 0, 0, 0, 2, 2, 0, 0, 0, 0, 0, 0, 2, 0, 0, 0, 2, 0, 0, 0, 0, 2, 0, 2, 0, 2, 15, 0, 2, 2, 2, 6, 0, 2, 2, 0, 2, 2, 2, 0, 2, 0, 4, 0, 11, 0, 0, 3, 2, 0, 4, 0, 0, 2, 2, 2, 2, 12, 0, 0, 0, 2, 2, 5, 0, 0, 2, 2, 0, 2, 0, 2, 0, 0, 2, 0, 2, 2, 2, 8, 0, 2, 0, 2, 0, 0, 8, 0, -1, 0, 0, 0, 1, 0, 0, 1, 0, 0, 6, 0, 4, 0, 5, 2, 0, 0, 2, 2, 0, 2, 5, 0, 2, 2, 0, 0, 2, 2, 0, 0, 0, 0, 12, 2, 0, 2, 0, 2, 0, 0, 2, 0, 2, 0, 2, 2, 0, 0, 0, 4, 14, 0, 2, 0, 2, 2, 2, 0, 0, 2, 2, 0, 2, 2, 12, 2, -1, 2, 4, 2, 0, 8, 2, 2, 0, 2, 3, 2, 15, 0, 2, 2, 0, 0, 2, 0, 10, 0, 0, 0, 0, 2, 2, 0, 2, 2, 0, 2, 0, 5, 0, 0, 2, 2, 0, 4, 0, 2, 2, 6, 2, 2, 10, 0, -1, 0, 12, 2, 2, 0, 0, 0, 2, 2, 2, 0, 0, 2, 4, 0, 0, 0, 5, 0, 0, 2, 4, 5, 2, 0, 2, 2, 2, 4, 0, 0, 2, 8, 0, 2, 2, 0, 0, 0, 2, 0, 10, 2, 2, 2, 0, 0, 2, 0, 2, 2, 0, 0, 2, 2, 0, 0, 0, 2, 2, 0, 2, 2, 2, 0, 2, 2, 0, 2, 4, 2, 0, 0, 2, 0, 0, 2, 2, 2, 0, -1, 0, 2, 0, 0, 0, 0, 2, 0, 5, 0, 2, 0, 0, 2, 0, 0, 2, 2, 0, 2, 0, 2, 0, 2, 2, 0, 0, 2, 0, 6, 0, 0, 10, 0, 2, 1, 15, 8, 2, 0, 0, 0, 0, 0, 0, 2, 0, 2, 0, 0, 2, 0, 1, 3, 0, 2, 2, 0, 2, 2, 2, 0, 0, 0, 2, 4, 2, 0, 0, 0, -1, 2, 0, 2, 2, 2, 2, 2, 0, 2, 2, 0, 2, 5, 0, 2, 0, 2, 0, 2, 2, 2, 3, 0, 2, -1, 7, 0, 2, 0, 0, 2, 0, 5, 0, 2, 2, 0, 2, 2, 0, 0, 0, 0, 0, 2, 0, 0, 2, 2, 0, 2, 10, -1, 8, 6, 2, 4, 2, 0, 2, 2, 0, 2, 2, 0, 0, 2, 0, 0, 0, 0, 0, 0, 8, 0, 0, 2, 2, 0, 0, 0, 0, 0, 2, 2, 2, 2, 2, 2, 0, 2, 0, 3, 0, 4, 6, 0, 0, 0, 2, 0, 2, 0, 4, 12, 0, 0, 0, 4, 0, 0, 0, 2, 0, 0, 2, 0, 2, 0, 2, 0, 4, 7, 2, 0, 2, 0, 0, 2, 0, 0, 2, 2, -1, 0, 2, 2, 0, 0, 2, 0, 0, 2, 4, 0, 1, 0, 0, 2, 2, 0, 0, 2, 0, 0, 0, 2, 0, 6, -1, 0, 0, 0, 0, 0, 0, 4, 8, 2, 4, 11, 0, 2, 6, 2, 14, 2, 2, 0, 0, 2, 2, 0, 0, 2, 0, 2, 4, 10, 2, 2, 0, 0, 0, 7, 0, 2, 5, 0, 0, 2, 0, 0, 8, 14, 2, 0, 0, 2, 2, 2, 7, 2, 0, 0, 0, 2, 0, 2, 0, 2, 2, 2, 0, 2, 4, 0, 0, 0, 0, 0, 2, 2, 2, 2, 0, 0, 2, -1, 2, 0, 2, 2, 2, 5, 3, 11, 0, 0, 0, 0, 0, 2, 2, 2, 0, 0, 0, 2, 0, 0, 2, 4, 2, 2, 2, 2, 0, 2, 0, 0, 2, 8, 0, 7, 2, 0, 0, 0, 5, 0, 0, 2, 2, 3, 0, 0, 2, 4, 0, 4, 2, 4, 2, 13, 2, 3, 0, 6, 0, -1, 0, 0, 2, 0, 0, 0, 5, 0, 0, 0, 2, 0, 2, 2, 0, 2, 0, 5, 2, 2, 0, 0, 2, 0, 0, 0, 0, 0, 0, 2, 0, 0, 0, -1, -1, 0, 0, 2, 4, 2, 0, 2, 0, 0, 0, 0, 5, 14, 0, 2, 2, 0, 0, 2, 0, 0, 0, 0, 2, 6, 2, 2, 2, 2, 0, 0, 0, 2, 2, 2, 2, 2, 0, 2, 0, 0, 0, 2, 0, 2, 2, 2, 0, 0, 2, 0, 2, 2, 2, 0, 0, 0, 2, 0, 5, 0, 0, 0, 0, 4, 0, 2, 0, 0, 0, 1, 0, 0, 0, 15, 0, 0, 2, 2, 0, 2, 1, 0, 2, 2, 2, 0, 2, 0, 2, 0, 2, 0, 0, 2, 2, 0, 2, 4, 0, 2, 0, 0, 2, 0, 2, 0, 0, 0, 14, -1, 2, 6, 0, 2, 2, 2, 2, 2, 2, 2, 0, 2, 2, 2, 0, 2, 0, 0, 0, 2, 2, 0, 0, 2, 2, 2, 0, 2, 0, 2, 0, 0, 2, 2, 2, 2, 0, 2, 0, 0, 4, 0, 2, 0, 0, -1, 2, 0, 9, 2, 5, 2, 0, 0, 1, 0, 2, 2, 4, 0, 0, 2, 2, 12, 4, 0, 3, 0, 0, -1, 14, 0, 2, 2, 2, 12, 0, 0, 0, 0, 0, 2, 0, 0, 2, 0, 2, 2, 2, 5, 2, 0, 2, 0, 2, 4, 0, 0, 6, 2, 0, 5, 0, 0, 0, 0, 0, 2, 0, 4, 2, 0, 5, 8, 2, 2, 0, 0, 1, 2, 2, 0, 5, 2, 4, 0, 2, 0, 0, 2, 0, 0, 4, 0, 0, 0, 2, 0, -1, 2, 4, 0, 0, 2, 0, 0, 2, 0, 2, 2, 0, 0, 0, 2, 2, 0, 2, 0, 0, 0, 6, -1, 2, 2, 0, 2, 2, 0, 2, 0, 0, 0, 0, 0, 0, 4, 0, 0, 2, 2, 0, 0, 2, 0, 2, 14, 0, 2, 2, 0, 5, 0, 0, 0, 2, 0, 2, 2, 0, 2, -1, 2, 0, 0, 2, 2, 0, 0, 0, 0, 0, 0, 2, 2, 2, 0, 5, 0, 2, 2, 2, 0, 2, 2, 0, 2, 0, 0, 0, 11, 0, 2, 0, 2, 0, 2, 0, 3, 0, 6, 2, 2, 0, 0, 0, 0, 0, 2, 2, 0, 0, 2, 12, 0, 14, 4, 2, 2, 0, 0, 2, 2, 10, 0, 0, 0, 0, 0, 0, 0, 0, 2, 14, 2, 2, 2, 2, 6, -1, 0, 2, 2, 0, 2, 2, 2, 6, 2, 2, 2, 2, 0, 0, 0, 0, 1, 0, 2, 2, 4, 2, 0, 2, 2, 10, 2, 8, 0, 2, 0, 0, 2, 0, 7, 0, 1, 1, 2, 2, 0, 2, 4, 0, 0, 0, 0, 0, 0, 0, 0, -1, 2, 0, 2, 0, 5, 2, 0, 4, 2, 0, 6, 0, 2, 5, 0, 2, 0, 2, 2, 0, 2, 2, 2, 0, 6, 0, 2, 7, 2, 4, -1, 0, 2, 0, 0, 2, 0, 0, 2, 2, 4, 0, 0, 2, 5, 0, 2, 0, 2, 0, 0, 2, 0, 5, 2, 0, 2, 2, 11, 0, 2, 0, 0, 0, 2, 0, 0, 2, 2, 0, 2, 0, 2, 0, 0, 0, 2, 2, 4, 0, 0, 0, 0, 0, 2, 0, 0, 0, 5, 0, 2, 0, 2, 0, -1, 2, 0, 4, 0, 2, 2, 6, 0, 1, 0, 0, 2, 4, 0, 14, 0, 2, 0, 2, 2, 0, -1, -1, 2, 0, 2, 0, 4, 2, 0, 2, -1, 4, 0, 2, 2, 0, 2, 0, 2, 0, 0, 2, 7, 0, 2, 0, 2, 0, 1, 4, 2, 5, 2, 0, 2, 0, 2, -1, 12, 4, 0, 2, 0, 2, 2, 0, 2, 2, 0, 6, 0, 2, 0, 2, 0, 0, 0, -1, 0, 0, 0, 2, 8, 2, 1, 0, 0, 2, 2, 2, 2, 0, 2, 2, 2, 2, 0, 0, 1, 2, 0, 0, 0, 0, 0, 0, 2, 0, 0, 0, 2, 2, 2, 4, 5, 2, 9, 2, 2, 0, 4, 0, 8, 0, 2, 5, 2, 2, 2, 2, 0, 0, 2, 2, 2, 2, 2, 5, 8, 0, 2, 1, 0, 2, 0, 6, 2, 2, 2, 0, 0, 2, 11, 2, 2, 0, 2, 2, 0, 2, 2, 0, 0, 0, 0, 0, 0, 2, 0, -1, 5, 2, 0, -1, 0, 0, 0, 12, 0, 0, 0, 2, 2, 2, 0, 2, 12, 0, 0, 0, 2, 0, 5, 4, 0, 0, -1, 2, 2, 0, 2, 4, 0, 0, 8, 2, 0, 5, 2, 2, 0, 2, 2, 5, 2, 2, 0, 0, 2, -1, 0, 0, 2, 2, 0, 0, 2, 0, 2, 2, 2, 0, 2, 5, 2, 4, 0, 2, 2, 0, 0, 0, 9, 2, 2, 0, 0, 4, 0, 2, 2, 2, -1, 0, 0, 2, 2, 6, 2, 2, 0, -1, 0, 2, 2, 3, 0, 5, 2, 6, 0, 0, 2, 0, 0, 0, 2, 2, 0, 0, 1, 2, 0, 2, 2, 2, 2, 0, 0, 0, 0, 2, 0, 2, 0, 0, 0, 9, 0, 0, 3, 2, 0, 2, 0, 2, 0, 0, 0, 0, 2, 2, 2, -1, 0, 0, 0, 2, 2, 2, 0, 2, 2, 2, 12, 0, 12, 0, 2, 0, 2, 0, 0, 2, 0, 2, 2, 0, 2, 0, 0, 4, 2, 0, 2, 0, 0, 2, 0, 2, 2, 2, 0, 0, 2, 0, 2, 2, 0, 2, 2, 8, -1, 14, 0, 2, 0, 0, 2, 0, 2, 0, 14, 5, 0, 0, 2, -1, 0, 2, 2, 2, 2, 2, 0, 0, 0, 0, 2, 2, 0, -1, 2, 2, 2, 0, 0, 2, 0, 0, 0, 2, 2, 0, 0, 4, 1, 11, 0, 0, 0, 0, 0, 0, -1, 4, 0, 0, 2, 2, 2, 4, 2, 2, 0, 0, 7, 2, 0, 0, 0, 0, 0, 0, 0, 2, 0, 0, 12, 2, 0, 0, 2, 2, 2, 0, 0, 2, 2, 2, 2, 0, 4, 4, 0, 0, 2, 0, 2, 2, 7, 0, 2, 0, 2, 0, 2, 5, 0, 2, 2, 0, 2, 2, 2, 0, 14, 0, 0, 2, 0, 2, 3, 0, 0, 4, 0, 0, 0, 0, 1, 12, 2, 2, 6, 0, 2, 2, 0, 2, 2, 0, 0, 2, 10, 0, 0, 0, 0, 2, 6, 0, 6, 0, 2, 0, 5, 0, 2, 2, 0, -1, 2, 0, 0, 1, 2, 7, 0, 2, 2, 0, 0, 1, 0, 8, 0, 2, 0, 0, 0, 2, 0, 0, 0, 0, -1, 5, 0, 11, 11, 2, 0, 4, 0, 0, 2, 0, 2, 2, 0, 0, 3, 2, 2, 0, 2, 2, 2, 2, 0, 2, 0, 0, 0, 5, 0, 0, 2, 0, 0, 0, 2, 10, 2, 0, 2, 5, 2, 0, 6, 2, 0, 0, 0, 0, 0, 12, 0, 0, 2, 2, 2, 0, 2, 2, 6, 2, -1, 2, 0, 0, 0, 2, 0, 0, 14, 2, -1, -1, 0, 2, 0, 0, -1, 2, 2, 0, 2, 0, 0, 0, 2, 0, 2, 0, 0, 0, 2, 2, 0, 2, 9, 2, -1, 0, 2, 2, 0, 6, 0, 2, 0, 2, -1, 2, 14, 0, 0, 0, 0, 0, 0, 2, 0, 11, 0, 2, 0, 0, 2, 12, 4, 2, 2, -1, 2, 0, 0, 2, 0, 0, 12, 0, 0, 2, 2, 2, 0, 0, 0, 2, 0, 2, 3, 2, 2, 2, 2, 0, 2, 2, 0, 6, 0, 0, 2, 0, 0, 0, 0, 2, 2, 0, 0, 0, 0, 0, 2, 2, 12, 2, 0, 0, 0, 2, 2, 2, -1, 2, 2, 2, 2, 2, 10, 2, 0, 0, 5, 0, 2, 2, 0, 0, 0, 2, 2, 2, 0, 0, 0, 2, 5, 0, 0, 0, 2, 2, 0, 2, 0, 2, 2, 0, 2, 0, 2, 0, 5, 2, 2, 2, 2, 0, 2, 0, 2, 15, 2, 2, 2, 2, 0, 5, 0, 0, 0, 0, 2, 2, 0, 2, 2, 0, 0, -1, 2, 0, 2, 0, 0, 0, 0, 0, 2, 0, 2, 2, 2, 0, 0, 0, 0, 0, 6, 0, 0, 2, 0, 2, 0, 2, 2, 2, 0, 0, 0, 2, 2, 2, 2, 2, 0, 2, 2, 0, 0, 2, 4, 2, 7, 5, 0, 0, 0, 0, 0, 2, 0, 1, 2, 2, 2, 0, 0, 2, 0, 15, 2, 0, 0, 0, 2, 2, 2, 2, 2, 4, 0, 0, 2, 2, 0, 2, 2, 5, 0, 0, 0, 0, 2, 2, 0, 0, 0, 0, 1, 0, 2, 2, 2, -1, 2, 0, 5, 2, 2, 2, 0, -1, 2, 0, 0, 0, 2, 0, 0, 0, 0, 2, 0, 2, 0, 2, 12, 2, 0, 2, 2, 0, 2, 0, 0, 0, 2, 2, 1, 2, 0, 6, 0, 0, 2, 0, 0, 0, 0, 4, 2, 2, 2, 2, 3, 0, 0, 2, 0, 2, 2, 0, 0, 2, 2, 0, 2, 0, 0, 2, 0, 4, 0, 0, 2, 2, 5, 2, 0, 2, 0, 0, 2, 3, 0, -1, 2, 1, 2, 0, 2, 2, 2, 0, 2, 0, 0, 0, 2, 2, 2, 0, 2, 0, 0, 0, 0, 2, 2, 2, 0, 2, 0, 2, 2, 2, -1, 2, 0, 0, 0, 0, 0, 2, 2, 2, 0, 0, 0, 5, 2, 0, 0, 2, 2, 2, 0, 3, 0, 0, 2, 1, 0, -1, 0, 0, 2, 4, 0, 0, 2, 0, 2, 0, 2, 0, 2, 0, 0, 0, 2, 0, 10, 0, 2, 0, 6, 0, 2, 2, 2, 0, 0, 2, 0, 0, 6, 2, 4, 0, 2, 0, 6, 5, 0, 0, 5, 0, 2, 0, 2, 3, 0, 0, 2, 0, 2, 2, 0, 0, 0, 0, 2, 1, 0, 0, 11, 2, 2, 5, 2, 0, 2, 0, 2, 0, 0, 2, 1, 2, 2, 2, 0, 0, 0, 0, 0, 0, 2, 2, 2, 2, 2, 4, 0, 2, 2, 0, 2, 2, 2, 2, 0, 0, 0, 0, 2, 0, 11, 4, 0, 4, 0, 0, 2, 2, 0, 0, 2, 2, 0, 4, 2, 0, 0, 0, 2, 2, 2, 0, 2, 8, 0, 0, 2, 3, 2, 0, 2, 0, 4, 0, 0, 0, 2, 0, 0, 0, 0, 0, 11, 2, 2, 0, 2, 2, 2, 2, 0, 2, 0, 2, 0, 2, 5, 2, 2, 0, 0, 0, 0, 0, 2, 2, 1, 2, 2, 0, 5, 0, 0, 0, 0, 6, 2, 2, 4, 0, 2, 2, 2, 0, 0, 2, 0, 6, 2, 0, 0, 0, 0, 0, 2, 0, 2, 0, 2, 0, 0, 0, 0, 2, 2, 0, 2, 0, 2, 0, 2, 12, 0, 0, 0, 0, 0, 0, 0, 0, 0, 0, 2, 8, 2, 0, 1, 5, 2, 7, 0, 14, 2, 2, 4, 2, 1, 0, 2, 14, 2, 2, 0, 2, 0, 2, 0, 1, 2, 2, 0, 14, 0, 2, 2, 0, 0, 0, 0, 2, 0, 0, 0, 0, 0, 2, 0, 0, 2, 2, 2, 0, 2, 2, 0, 0, 2, 4, 2, 2, 0, 0, 0, 0, 2, 0, 0, 0, 2, 0, 4, 4, 2, 0, 2, 0, 0, 2, 2, 2, 0, 4, 2, 2, 0, 0, 0, 0, 0, 0, 2, 2, 0, 2, 6, 2, 2, 0, 2, 2, 2, 0, 2, 2, 2, 2, 12, 4, 0, 0, -1, -1, -1, 0, 0, 2, 0, 4, 2, 2, 0, 2, 0, 2, 2, 2, 0, -1, 0, 0, 2, 0, 2, 2, 2, 0, 0, 1, 0, 0, 2, 2, 2, 2, 2, 0, 0, 0, 0, 2, 2, 0, 0, 2, 0, 8, 0, 2, 2, 0, 2, 0, 0, 0, 2, 0, 2, 0, 2, 0, 0, 0, 0, 0, 0, 0, 2, 0, 0, 0, 0, 2, 0, 2, 6, 0, 5, 1, 2, 2, 6, 2, 0, 0, 2, 0, 5, 2, 2, 2, 12, 2, 0, 2, 0, 2, -1, 0, 0, 0, 2, 0, 6, 2, 0, 2, 2, 0, 2, 0, 0, 2, 2, 2, 2, 0, 2, 2, 0, 0, 2, 2, 0, 0, 2, 2, 2, 0, -1, 2, 12, 0, 0, 0, 2, 0, 0, 0, 2, 2, 15, 2, 4, 2, 11, 0, 2, 2, 0, 0, 0, 2, -1, 0, 0, 0, 0, 6, 2, 4, 0, 6, 0, 0, 0, 2, 0, 0, 2, 12, 9, 0, 2, 0, 2, 6, 2, 2, 11, 0, 0, 2, 0, 2, 2, 2, 8, 0, 0, 2, 0, 2, 2, 0, 2, 0, 2, -1, 0, 2, 2, 0, 0, 0, 0, 0, 2, 7, 0, 0, 2, 5, 0, 2, 2, 0, 2, 7, 2, 2, 0, 0, 2, 2, 0, 2, 0, 0, 0, 0, 2, 0, -1, 0, 2, 0, 2, 2, 4, 7, 8, 0, 2, 1, 2, 2, 2, 2, 0, 0, 2, 2, 4, 4, 2, 0, 2, 2, 0, 2, 0, 1, 2, 2, 12, 8, 2, 2, -1, 0, 0, 0, 0, 2, 0, 0, 0, 0, 2, 0, 2, 0, 0, 0, 2, 0, 0, 0, 0, 2, 0, 2, 0, 0, 8, 0, 2, 0, 0, 2, 0, 0, 2, 0, 0, 2, 14, 6, 2, 0, 2, 0, 0, 0, 2, 0, 2, 12, 0, 11, 0, 2, 2, 0, 0, 0, 0, 0, 0, 2, 0, 2, 6, 2, 0, 4, 2, 0, 0, 2, 2, 2, 8, 12, 2, 2, 2, 0, 2, 0, 0, 0, 2, 2, 0, 0, 2, 2, 0, 0, 0, 0, 10, 0, 2, 5, 2, 0, 2, 4, 0, 1, 2, 0, 14, 0, 0, 0, 2, 2, 2, 0, 2, 0, 2, 0, 0, 0, 2, 2, 2, 0, 2, 0, 0, 2, 0, 0, 2, 0, 6, 0, 0, 2, 0, 2, 0, 2, 0, 0, 0, 0, 0, 2, 2, 0, 2, 2, 0, 0, 0, 0, 2, 2, 0, 0, 7, 2, -1, 2, 0, 0, 2, 2, 2, 0, 0, 0, 0, 2, 2, 2, 0, 2, 0, 2, 0, 0, 5, 0, 0, 2, 0, 2, 0, 11, 0, 2, 2, 2, 2, -1, 2, 0, 0, 2, 4, 0, 0, 2, -1, 4, 2, 2, 0, 0, 0, 2, 0, 8, 0, 2, 0, 2, 0, 12, 2, 0, 0, 0, 8, 0, 0, 2, -1, 0, 2, 2, 0, 2, 2, 0, 4, 2, 0, 0, 0, 0, 2, 0, 7, 2, 0, 2, 11, 0, 5, 2, 0, 2, 4, 2, 2, 2, 0, 2, 2, 13, 0, 2, 0, -1, 4, 0, 0, 2, 0, 0, 2, 0, 6, 2, 2, 2, 14, -1, 0, 0, 0, 0, 1, 2, 0, 8, 0, 0, 0, 7, 2, 2, 0, 0, 0, 15, 2, 0, 2, 6, 2, 2, 0, 0, 2, 2, 0, 2, 2, 5, 0, 0, 0, 2, 2, 0, 0, 0, 2, 2, 6, 0, 2, 0, 4, 0, 9, 0, 0, 2, 2, 0, 0, -1, 0, 0, 2, 0, 0, 2, 12, 0, 2, 2, 0, 2, 0, 2, 0, 2, -1, 0, 0, 8, 0, 0, 14, 6, 2, -1, 2, 2, 0, 0, 2, 10, 0, 0, 2, 2, 2, 2, 0, 2, 0, 0, 0, 2, 0, 0, 0, 2, 0, 2, 2, 5, 0, 2, 2, 2, -1, 4, 0, 2, 0, 0, 2, 0, 2, 2, 2, 0, -1, 0, 0, 0, 2, 10, 2, 6, 0, 0, 0, 2, 0, 0, -1, 0, 2, 14, 2, 2, 2, 0, 0, 2, 2, 0, 0, 0, 2, 2, 2, 0, 2, 2, 0, 1, 2, 0, 2, 0, 2, 2, 2, 0, 2, 0, 0, 2, 0, 10, 8, 2, 0, 0, 0, 2, 0, 0, 2, 0, 2, 0, 0, 0, 3, 2, 2, 0, 0, 0, 0, 2, 0, 2, 2, 0, 0, 0, 0, 0, 0, 0, 10, 2, 0, 8, 0, 2, 12, 2, 0, 0, 2, 0, 4, 0, -1, 0, 7, 0, 2, 2, 0, 0, 2, 2, 12, 0, 2, 2, 2, 0, 2, 0, 0, 0, 0, 0, 0, 2, 0, 2, 3, 2, 2, 0, 0, 2, 2, 0, 0, -1, 0, -1, 0, 0, 2, 0, 0, 0, 0, 0, 2, 0, 2, 0, 2, 2, 0, 2, 0, 2, 2, 2, 0, 2, 0, 2, 2, 0, 0, 2, 0, 0, 2, 6, 14, 0, 0, 0, 0, 2, 2, 0, 2, 12, 0, 2, 0, 0, 0, 2, 0, 0, 2, 2, 1, 2, 2, 2, 2, 0, 0, 2, 2, 2, 2, 0, 0, 0, 2, 2, 0, 0, 1, 0, 0, 2, 0, 0, 0, 6, 0, 0, 0, 0, 0, 0, 0, 2, 0, 2, 0, 2, 2, 2, 3, 0, 0, 2, 2, 2, 2, 0, 2, 0, 2, 0, 2, 0, 2, 11, 0, 2, 0, 3, 0, 0, 2, 0, 2, 6, 2, 2, -1, 2, 0, 2, 2, 0, 0, 2, 0, 0, 0, 2, 0, 0, 0, 12, 0, 2, 2, 0, 4, 0, 0, 5, 0, 2, 0, 2, 2, 4, 2, 2, 2, 4, 0, 0, 5, 0, 2, 6, 0, 2, 0, 2, 1, 2, 2, -1, 2, 2, 0, 2, 0, 2, 0, 0, 0, 2, 2, 8, 0, 6, 2, 6, 0, 2, 0, 2, 2, 2, 6, 0, 0, 0, 2, 0, 6, 0, -1, 0, 0, 2, 2, 2, 2, 0, 0, 2, 2, 0, 2, 2, 2, 2, 0, 2, 0, 2, 0, 2, 0, 2, 2, 2, 2, 2, 0, 0, 0, 2, 2, 1, 0, 2, 2, 2, 0, 0, 2, 2, 2, 0, 2, 0, 0, 0, 2, 0, 2, 0, 4, 0, 2, 0, -1, 2, 4, 2, 0, 0, 3, 1, 0, 2, 2, 0, 6, 2, 0, 0, 2, 0, 5, 0, 0, 0, 0, 2, 2, 2, 0, 0, 2, 5, 2, 0, 2, 2, 14, 0, 2, 0, 2, 2, 2, 2, 0, 0, 2, 0, 4, 0, 0, 0, 2, 0, 0, 1, 2, 0, 0, 0, 2, 0, 3, 2, 2, 6, 2, 2, 0, 2, 7, 0, 2, 0, 2, 0, 2, 2, 2, 0, 2, -1, 2, 0, 10, 8, 0, 0, 2, 2, 4, 2, 0, 14, 2, 0, 8, 2, 2, 0, 0, 0, 2, 2, 0, 0, 9, 0, 0, 3, 2, 0, 0, 0, 0, -1, 2, 0, 0, 0, 2, 5, 2, 2, 0, 0, 0, 0, 0, 0, 2, 2, 0, 14, 0, 0, 0, 2, 0, 2, 0, 0, 0, 0, 0, 2, 0, 9, 2, 0, 2, 2, 0, 0, 2, 2, 0, 2, 2, 0, 0, 0, 0, 0, 2, 2, 0, 6, 2, 0, -1, -1, -1, -1, -1, 13, -1, -1, -1, 1, -1, 3, 15, -1, -1, -1, 1, -1, 12, -1, -1, 3, -1, -1, -1, 13, 13, -1, 1, -1, -1, 12, 13, -1, -1, -1, 6, 15, -1, 15, 1, 1, 13, 1, -1, 1, -1, 1, -1, 15, -1, -1, -1, -1, 1, -1, -1, 12, 13, 13, -1, 13, 13, -1, -1, 1, -1, 1, 6, -1, 1, -1, 15, -1, -1, -1, 1, -1, -1, -1, 12, 15, 1, 1, 13, -1, -1, 1, 3, -1, 12, 13, 1, 1, 1, 3, 6, 1, -1, -1, -1, -1, -1, 1, 1, 1, 1, 1, -1, 13, 1, -1, -1, -1, -1, 13, -1, -1, -1, -1, -1, -1, -1, 13, -1, 12, 1, -1, -1, 13, -1, -1, -1, -1, -1, 1, -1, -1, -1, 13, -1, 13, -1, 15, 15, -1, -1, -1, -1, -1, 12, -1, 1, -1, 13, -1, 9, -1, -1, 12, -1, 1, 13, -1, -1, -1, -1, 1, 3, 1, -1, 13, 1, 1, -1, -1, -1, -1, -1, 13, 1, 12, 15, 1, 1, 13, -1, 1, -1, 6, -1, -1, -1, 1, 14, -1, -1, -1, -1, 1]\n"
     ]
    }
   ],
   "source": [
    "#Check out the assigned cluster labels, Using the .labels_ command on our DBSCAN class\n",
    "labels = db.labels_  \n",
    "print(list(labels))"
   ]
  },
  {
   "cell_type": "code",
   "execution_count": 50,
   "metadata": {},
   "outputs": [
    {
     "name": "stdout",
     "output_type": "stream",
     "text": [
      "16\n"
     ]
    }
   ],
   "source": [
    "# how many clusters do we have?\n",
    "n_clusters_ = len(set(labels)) - (1 if -1 in labels else 0)\n",
    "print(n_clusters_)\n",
    "#The number of clusters is much higher than with K-means. For fraud detection this is for now OK, as we are only interested in the smallest clusters, since those are considered as abnormal. Now let's have a look at those clusters and decide which one to flag as fraud"
   ]
  },
  {
   "cell_type": "markdown",
   "metadata": {},
   "source": [
    "### Evaluate the DBSCAN clusters"
   ]
  },
  {
   "cell_type": "code",
   "execution_count": 52,
   "metadata": {},
   "outputs": [
    {
     "name": "stdout",
     "output_type": "stream",
     "text": [
      "Silhouette Coefficient: 0.431\n"
     ]
    }
   ],
   "source": [
    "#Check the silhouette score.\n",
    "from sklearn.metrics import silhouette_score\n",
    "\n",
    "print((\"Silhouette Coefficient: %0.3f\" % silhouette_score(Xs, labels)))\n",
    "#better than kmeans results"
   ]
  },
  {
   "cell_type": "code",
   "execution_count": 53,
   "metadata": {},
   "outputs": [],
   "source": [
    "from sklearn.metrics.cluster import homogeneity_score\n",
    "from sklearn.metrics.cluster import completeness_score\n",
    "from sklearn.metrics.cluster import v_measure_score\n"
   ]
  },
  {
   "cell_type": "code",
   "execution_count": 54,
   "metadata": {},
   "outputs": [
    {
     "name": "stdout",
     "output_type": "stream",
     "text": [
      "Estimated number of clusters: 16\n",
      "Homogeneity: 0.611\n",
      "Completeness: 0.054\n",
      "V-measure: 0.099\n"
     ]
    }
   ],
   "source": [
    "print(('Estimated number of clusters: %d' % n_clusters_))\n",
    "print((\"Homogeneity: %0.3f\" % homogeneity_score(y, labels)))\n",
    "print((\"Completeness: %0.3f\" % completeness_score(y, labels)))\n",
    "print((\"V-measure: %0.3f\" % v_measure_score(y, labels)))"
   ]
  },
  {
   "cell_type": "code",
   "execution_count": 55,
   "metadata": {},
   "outputs": [
    {
     "name": "stdout",
     "output_type": "stream",
     "text": [
      "[True, True, True, True, True, True, True, True, True, True, True, True, True, True, True, True, True, True, True, True, True, True, True, True, True, True, True, True, True, True, True, True, True, False, True, True, True, True, True, True, True, True, True, True, True, True, True, True, True, True, True, True, True, True, True, True, True, True, True, True, True, True, True, True, True, True, True, True, False, True, True, True, True, True, True, False, False, True, True, True, True, True, True, True, False, True, True, True, True, True, True, False, True, True, True, True, True, True, True, False, True, True, True, True, True, True, True, True, True, True, True, True, True, True, True, True, True, True, True, True, True, True, True, True, True, True, True, True, True, True, True, True, False, True, True, True, True, True, True, True, True, True, True, True, True, True, True, True, True, True, True, True, True, True, True, True, True, True, True, True, True, True, True, True, True, True, True, True, True, True, True, True, True, True, True, True, False, True, True, True, True, True, True, True, True, True, True, True, True, False, True, True, True, True, True, True, True, True, True, True, False, True, True, True, True, True, True, True, True, True, True, True, False, True, True, True, True, True, True, True, True, True, True, True, True, True, True, True, True, True, True, True, True, True, True, True, True, True, True, True, True, True, True, True, True, False, True, True, True, True, True, True, True, True, True, True, False, True, True, True, True, True, True, True, True, True, True, True, True, True, True, True, True, False, False, True, True, True, True, True, True, True, True, True, True, True, True, True, True, True, True, False, True, True, True, True, True, True, True, True, True, True, True, True, True, True, True, True, True, True, True, True, True, True, True, True, True, True, True, True, True, True, True, True, True, True, True, True, True, True, True, True, True, True, True, True, True, True, True, True, True, True, True, True, True, True, True, True, False, True, True, True, True, True, True, True, True, True, True, True, True, True, True, False, True, True, True, True, True, True, True, True, True, True, True, True, True, True, True, True, True, True, True, True, True, True, True, True, True, True, True, True, True, True, True, True, True, True, True, True, False, True, True, True, True, False, True, False, True, True, True, True, True, True, True, True, True, True, True, True, True, True, True, True, True, True, True, True, True, True, True, True, True, True, True, True, True, True, True, True, True, True, True, True, True, True, True, True, True, True, True, True, True, True, True, True, True, True, True, True, True, True, True, True, True, True, False, True, True, True, True, True, True, True, True, True, True, True, True, True, True, True, True, True, True, True, True, True, True, True, True, True, True, True, True, True, True, True, True, True, True, True, True, True, True, True, True, True, True, True, True, True, True, True, True, True, True, True, True, True, True, True, True, True, True, True, True, True, True, True, True, True, True, True, True, True, False, True, True, True, True, True, True, True, True, True, True, True, True, True, True, True, True, True, True, True, True, True, True, True, True, True, True, True, True, True, True, True, True, True, False, True, True, True, True, True, False, True, False, True, True, True, True, True, True, True, True, True, True, True, True, True, True, True, True, True, True, True, True, True, True, True, True, False, True, True, True, True, True, True, True, True, True, True, True, True, True, True, True, True, True, True, True, True, True, True, True, True, True, True, True, True, True, True, True, True, True, True, True, True, True, True, True, True, True, True, False, True, True, True, True, True, False, True, True, True, True, True, True, True, True, True, True, True, True, True, True, True, True, True, True, True, True, True, True, True, True, True, True, True, True, True, True, True, True, True, True, True, True, True, True, True, True, True, True, True, True, True, False, True, True, True, True, True, True, True, True, True, True, True, True, True, True, True, True, True, True, True, True, True, True, True, True, True, True, True, True, True, True, True, True, False, True, True, True, True, True, True, True, True, True, False, True, True, True, False, True, True, True, True, True, True, True, True, True, True, True, True, False, True, True, True, True, True, True, True, True, True, True, True, True, True, True, True, True, True, True, True, True, True, True, True, True, True, True, True, True, True, True, True, True, True, True, True, True, True, True, True, True, True, True, True, True, True, True, False, False, True, True, True, True, True, True, True, True, True, True, True, True, True, True, True, True, True, True, True, True, False, True, True, True, True, True, True, True, True, True, True, True, True, False, True, True, True, False, True, True, True, True, True, True, True, True, True, True, False, True, True, False, True, True, True, True, True, True, True, True, True, False, True, True, True, True, True, True, True, True, True, True, True, True, True, True, True, True, True, True, True, True, False, True, True, True, True, True, True, True, True, True, True, True, True, True, True, True, True, True, True, True, True, True, True, True, True, True, True, True, True, True, True, True, True, True, True, True, True, True, True, True, True, True, True, True, True, True, True, True, True, False, True, True, True, True, True, True, True, True, True, False, True, True, True, True, True, False, True, True, True, True, True, True, True, True, True, True, True, True, True, False, True, True, True, True, True, True, True, True, True, True, True, True, True, True, True, True, True, True, True, True, True, True, True, True, True, True, True, True, True, True, True, True, True, True, True, True, True, True, True, True, True, True, True, True, True, True, True, True, True, False, True, True, True, True, True, True, True, True, True, True, True, True, True, True, True, True, False, True, True, True, False, True, True, True, True, True, True, True, True, True, True, True, True, True, True, True, True, True, True, True, True, True, True, False, False, True, True, True, True, True, True, True, True, True, True, True, True, True, True, True, True, True, True, True, True, True, True, True, True, True, True, True, True, True, True, True, True, True, False, True, True, True, True, True, False, True, True, True, True, True, True, True, True, True, True, True, True, True, True, True, True, True, True, False, True, True, True, True, True, True, True, True, True, True, True, True, False, True, True, True, True, True, True, True, True, True, True, True, True, True, True, True, True, True, True, False, True, True, True, True, True, True, True, True, True, True, True, True, True, True, True, True, True, True, True, True, True, True, False, True, True, True, True, True, True, True, True, True, True, True, True, True, True, True, True, True, True, True, True, True, True, False, True, True, True, True, True, True, True, True, True, True, True, False, True, True, True, True, True, True, True, True, True, True, True, True, True, True, True, True, True, True, True, True, True, True, True, True, True, True, True, True, True, True, True, False, True, True, True, True, True, True, True, True, True, True, True, True, True, True, True, True, True, True, True, True, True, True, True, True, True, True, True, True, True, True, True, True, True, True, True, True, True, True, True, True, True, True, True, True, True, True, True, True, True, True, True, True, True, True, True, True, True, True, True, True, True, True, True, True, True, True, True, True, True, True, False, True, True, True, True, True, True, True, True, True, True, True, True, True, True, True, True, True, True, True, True, True, True, True, True, True, True, True, True, True, True, True, True, True, True, True, True, True, True, True, True, True, True, True, True, True, True, True, True, True, True, True, True, True, True, True, True, True, True, True, True, True, False, True, True, True, True, True, True, True, True, True, True, True, False, True, True, True, False, True, True, True, True, True, True, True, True, False, True, True, True, True, True, False, True, True, True, True, True, True, True, True, True, True, True, False, True, True, True, True, True, False, True, True, True, True, True, True, True, False, False, True, True, True, True, False, True, True, True, True, True, True, True, True, True, True, True, True, True, True, True, True, True, True, True, True, True, True, True, True, True, True, True, True, True, True, True, True, True, True, True, True, True, True, False, True, True, True, True, True, True, True, True, False, True, True, True, True, True, True, True, True, True, True, True, True, True, True, True, True, True, True, True, True, True, True, True, True, True, True, True, True, True, True, True, True, True, True, True, True, True, True, True, True, True, True, True, True, True, True, True, True, True, True, True, True, True, True, True, True, True, True, True, True, True, True, True, True, True, True, True, True, True, True, True, True, True, True, True, True, True, True, True, True, True, True, True, True, True, True, True, True, True, True, True, True, True, True, True, True, True, True, True, True, True, True, True, True, True, True, True, True, True, True, True, True, True, True, True, True, True, True, True, True, True, True, True, True, True, True, True, True, True, True, True, True, True, True, True, True, True, True, True, True, True, True, True, True, True, True, True, True, True, True, True, True, True, True, True, True, True, True, True, True, True, True, True, True, True, True, True, True, True, True, True, True, True, True, True, True, True, True, True, True, True, True, True, True, True, True, True, True, True, True, True, True, True, True, True, True, True, True, True, True, True, True, True, True, True, True, True, True, True, True, True, False, True, True, True, True, True, True, True, True, True, True, True, True, True, True, True, True, True, True, False, True, True, True, True, True, True, True, True, True, True, True, True, True, True, True, True, True, True, False, True, True, True, True, True, True, True, True, False, True, True, True, True, True, True, True, True, True, True, True, True, True, True, True, True, True, True, True, True, True, True, True, True, True, True, True, True, True, True, True, True, True, True, True, True, True, True, True, True, True, True, True, True, True, True, True, True, True, True, True, True, True, True, True, True, True, True, True, True, True, True, True, True, True, True, True, True, True, True, True, True, True, True, True, True, True, True, True, True, True, True, True, True, True, True, True, True, True, True, True, True, True, True, True, True, True, True, True, True, True, True, True, True, True, True, True, True, True, True, True, True, True, True, True, True, True, True, True, True, False, True, True, True, True, True, True, True, True, True, True, True, True, True, True, True, True, True, True, True, True, True, True, True, True, True, True, True, False, True, True, True, True, True, True, True, True, True, True, True, True, True, True, True, True, True, True, True, True, True, True, True, True, True, True, True, True, True, True, True, True, True, True, True, True, True, True, True, True, True, True, True, True, True, True, True, True, True, True, True, True, True, True, True, True, True, True, True, True, True, True, True, True, True, True, True, True, True, True, True, True, True, True, True, True, True, True, True, True, True, True, True, True, True, True, True, True, True, True, True, True, True, True, True, True, True, False, True, True, True, True, True, True, True, True, True, True, True, True, True, True, True, True, True, True, True, True, True, True, True, True, True, True, True, True, True, True, True, True, True, True, True, True, True, True, True, True, True, True, True, True, True, True, True, True, True, True, True, True, True, True, True, True, True, True, True, True, True, True, True, True, True, True, True, True, True, True, True, True, True, True, True, False, True, True, True, True, True, True, True, True, True, True, True, True, True, True, False, True, True, True, True, True, True, True, True, True, True, True, True, True, True, True, True, True, True, True, True, True, True, True, True, True, True, True, True, True, True, True, False, True, True, True, True, True, True, True, True, True, True, True, True, True, True, True, True, True, True, True, True, True, True, True, True, True, True, True, True, True, True, True, True, True, True, True, True, True, True, True, True, True, True, True, True, True, True, True, True, True, True, True, True, True, True, True, True, True, True, True, True, True, True, True, True, True, True, False, True, True, True, True, True, True, True, True, True, True, True, True, True, True, True, True, False, True, False, True, True, True, True, True, True, True, True, True, True, True, True, True, True, True, True, True, True, True, True, True, True, True, True, True, True, True, True, True, True, True, True, True, True, True, True, True, True, True, True, True, True, True, True, True, True, True, True, True, True, True, True, True, True, True, True, True, False, True, True, True, True, True, True, True, False, True, True, True, True, True, True, True, True, True, True, True, True, True, True, True, True, True, True, True, True, True, True, True, True, True, True, True, True, True, True, True, True, True, True, True, True, False, True, True, True, True, True, True, True, True, True, True, True, True, True, True, True, True, True, True, True, True, True, True, True, False, True, True, True, True, True, True, True, True, True, True, True, True, True, True, True, True, True, True, True, True, True, True, True, True, True, True, True, True, True, True, True, True, True, True, True, True, True, True, True, True, True, True, True, True, True, True, True, True, True, True, True, True, True, False, True, True, True, True, True, True, True, True, True, True, True, True, True, True, True, True, True, True, True, True, True, True, False, True, True, True, True, True, True, True, True, True, True, True, True, True, True, True, True, True, True, True, True, True, True, True, True, True, True, True, True, True, True, True, True, True, True, False, True, True, True, True, True, True, True, True, True, True, True, True, True, True, True, True, True, True, True, True, True, True, True, True, True, True, True, True, True, True, True, True, True, True, True, True, True, True, True, True, False, True, True, True, True, True, True, True, True, True, True, True, True, True, True, True, True, True, True, False, True, True, True, True, True, True, False, True, True, True, True, True, True, True, True, True, True, True, True, True, True, True, True, True, True, True, True, True, True, True, True, True, True, True, True, True, True, True, True, True, True, True, True, True, True, True, True, True, True, True, True, True, True, True, True, True, True, True, True, True, True, True, True, False, True, True, True, True, True, True, True, True, False, True, True, True, True, True, True, True, True, True, True, True, True, True, True, True, True, True, True, True, True, True, True, True, True, True, True, True, True, True, True, True, True, True, True, True, True, True, True, True, True, True, True, True, True, True, True, True, True, True, True, True, True, True, True, False, True, True, True, True, True, True, True, True, True, True, True, True, True, True, True, True, True, True, True, True, True, True, True, True, True, True, True, True, True, True, True, True, True, False, True, True, True, True, True, True, True, True, True, True, True, True, True, True, False, True, True, True, True, True, True, True, True, True, False, True, False, True, True, True, True, True, True, True, True, True, True, False, True, True, True, True, True, True, True, True, True, True, True, True, True, True, True, True, True, True, True, True, True, True, True, True, True, True, True, True, True, True, True, True, True, True, True, True, True, True, True, True, True, True, True, True, True, True, True, True, True, True, True, True, True, True, True, True, True, True, True, True, True, True, True, True, True, True, True, True, True, True, True, True, True, True, True, True, True, True, True, True, True, False, False, True, True, True, True, True, True, True, True, True, True, True, True, True, True, True, True, True, True, True, True, True, True, True, True, True, True, True, True, False, True, True, True, True, True, True, True, True, True, True, True, True, True, True, True, True, True, True, True, False, True, True, True, True, True, True, True, True, True, True, True, True, True, True, True, True, True, True, True, False, True, True, True, True, True, True, True, True, True, True, True, True, True, True, True, True, True, True, True, True, True, True, True, True, True, True, True, True, True, True, True, True, True, True, True, True, True, True, True, True, True, True, False, True, True, True, True, True, True, True, True, True, True, True, True, True, True, True, True, False, True, True, True, True, True, True, True, True, True, True, True, True, True, True, True, True, True, True, True, True, True, True, True, True, True, True, True, True, True, True, True, True, True, True, True, True, True, True, True, True, True, True, True, True, True, True, True, True, True, True, True, True, True, True, True, True, True, True, True, True, True, True, True, True, True, True, True, True, True, True, True, True, True, True, True, True, True, True, True, True, True, True, True, True, True, True, True, True, False, True, True, True, True, True, True, True, True, True, True, True, True, True, True, True, True, True, True, True, True, True, True, True, True, True, True, True, True, False, True, True, True, True, True, True, True, True, True, True, True, True, True, True, True, True, True, True, True, True, True, True, True, True, True, True, True, True, True, True, True, False, True, True, True, True, True, True, True, True, True, True, True, True, False, True, True, True, True, True, True, True, True, True, True, True, True, True, True, False, True, True, True, True, True, True, True, True, False, True, True, False, True, True, True, True, True, True, True, True, True, True, True, True, True, True, True, True, True, True, True, True, True, True, True, True, True, False, True, True, True, False, True, False, True, True, True, True, True, True, True, True, True, True, True, True, True, True, True, True, True, True, True, True, True, True, True, True, True, True, True, True, True, True, True, True, True, True, True, True, True, True, True, True, True, True, True, True, True, True, True, True, True, True, True, True, True, True, True, True, True, True, True, True, True, True, True, True, True, True, False, True, True, True, True, False, True, True, True, True, True, True, True, True, True, True, True, True, True, True, True, True, True, True, True, True, True, True, True, True, True, False, True, True, True, True, True, True, True, True, True, True, True, True, True, True, True, True, True, True, True, True, True, True, True, True, True, True, True, True, True, True, False, True, True, True, True, True, True, True, True, True, True, True, True, True, True, True, True, True, True, True, True, True, True, True, True, True, True, True, True, True, True, True, True, True, False, True, True, True, True, True, True, True, True, True, True, True, True, True, True, True, True, True, True, True, True, True, True, True, True, True, True, True, True, True, True, True, True, True, False, True, True, True, True, False, True, True, True, True, False, True, True, True, True, True, True, True, True, True, True, True, True, True, True, True, True, True, True, True, True, True, True, True, True, True, True, True, True, True, True, True, True, True, True, True, True, True, False, True, True, True, True, True, True, True, True, True, True, True, True, True, True, True, True, True, True, True, True, True, True, True, True, True, True, True, True, True, True, True, True, True, True, True, True, True, True, True, True, True, True, True, True, True, True, True, True, True, True, True, True, True, True, True, True, True, True, True, True, True, True, True, True, True, True, True, True, True, True, True, True, True, True, True, True, True, True, True, True, False, True, True, True, True, True, True, True, True, True, True, True, True, True, True, True, True, True, True, True, True, True, True, True, True, True, True, True, True, True, True, True, True, False, True, True, True, False, True, True, True, True, True, True, True, True, True, True, True, True, True, True, True, True, True, True, True, True, True, True, True, True, True, True, True, True, True, True, True, True, True, False, True, True, True, True, True, True, True, True, True, True, True, True, True, True, True, True, True, True, True, True, True, True, True, True, False, True, True, True, True, True, True, True, True, True, True, True, True, True, True, True, True, True, True, True, True, True, True, True, True, True, True, False, False, True, True, True, True, True, True, True, True, True, True, True, True, True, True, True, True, True, True, True, True, False, True, True, True, True, True, True, True, True, True, True, True, True, True, True, True, True, True, True, True, True, True, True, True, True, True, True, True, True, True, True, True, True, True, True, True, True, True, True, True, True, True, True, True, True, True, True, True, True, True, True, True, True, True, True, True, True, True, True, True, False, True, True, True, True, True, True, True, True, True, True, True, False, True, True, True, True, True, True, True, True, True, True, True, True, True, False, True, True, True, True, True, True, True, True, True, True, True, True, True, True, True, True, True, True, True, True, True, True, True, True, True, True, True, True, True, True, True, True, True, True, True, True, True, True, True, True, True, True, True, True, True, True, True, True, True, True, True, True, True, True, True, True, True, True, True, True, True, True, True, True, True, True, True, True, True, True, True, True, True, True, True, True, True, True, False, True, True, True, True, True, False, True, True, True, True, True, True, True, True, True, True, True, True, True, True, True, True, True, True, True, True, True, True, True, True, True, True, True, True, True, True, True, True, True, True, True, True, True, True, True, True, True, True, True, True, True, True, True, True, True, False, True, True, True, True, True, False, True, True, True, True, True, True, True, True, True, True, True, True, True, True, True, True, True, True, True, True, True, True, True, True, True, True, True, True, True, True, True, True, True, False, False, True, True, True, True, True, True, True, True, True, True, True, True, True, True, True, True, True, True, True, True, True, True, True, True, True, True, True, True, True, True, True, True, True, True, True, True, True, True, True, True, True, True, True, True, True, True, True, True, True, True, True, True, True, True, True, True, True, True, True, True, True, True, True, True, True, True, True, True, True, True, True, True, True, True, True, True, True, True, True, True, True, True, True, True, True, True, True, True, True, True, True, True, True, True, True, True, True, True, True, True, True, True, True, True, True, True, True, True, True, True, False, True, True, True, True, True, True, True, True, True, True, True, True, True, True, True, True, True, True, True, True, True, True, True, True, True, True, True, True, True, True, True, True, True, True, True, True, True, True, True, True, True, True, True, True, True, False, True, True, False, True, True, True, True, True, True, True, True, True, True, True, True, True, True, False, True, True, True, True, True, False, True, True, True, True, True, True, True, True, True, True, True, True, True, True, True, True, True, True, True, True, True, True, True, True, True, True, True, True, True, True, True, True, True, True, True, True, True, True, True, True, True, True, True, True, True, True, True, True, True, True, True, True, True, True, True, True, True, True, True, True, True, True, True, True, True, True, True, True, False, True, True, True, True, True, True, True, True, True, True, True, True, True, True, True, True, True, True, True, True, True, True, False, True, True, True, True, True, True, True, True, True, True, True, True, True, True, True, True, True, True, True, True, True, True, True, True, True, True, True, True, True, True, True, True, True, True, True, True, True, True, False, True, True, True, True, True, True, True, True, True, True, True, True, True, True, True, True, True, True, True, True, True, True, True, True, True, True, True, True, True, True, True, True, True, True, True, True, True, True, True, True, True, True, True, True, True, True, True, True, True, True, True, True, True, True, True, True, True, True, True, True, True, False, True, True, True, True, True, True, True, True, True, True, True, True, True, True, True, False, True, True, True, True, True, True, True, True, True, True, True, True, True, True, True, True, False, True, True, True, True, True, True, True, True, False, True, True, True, True, True, True, True, True, True, True, True, False, True, True, True, True, True, True, True, True, True, True, True, True, True, False, True, True, True, True, True, True, True, True, True, True, True, True, True, True, True, True, True, True, True, True, True, True, True, True, False, True, True, False, True, True, False, True, True, True, True, True, True, True, True, True, True, True, True, True, True, True, True, True, True, True, True, True, True, True, True, True, True, True, True, True, True, True, True, True, True, True, True, True, True, True, True, True, True, True, True, True, True, True, False, True, True, True, True, True, True, True, True, True, True, True, True, True, True, True, False, True, True, False, True, True, True, True, True, True, True, True, True, True, True, True, True, True, True, True, True, True, False, False, True, True, True, True, True, True, True, True, False, True, True, True, True, True, True, True, True, True, True, True, True, True, True, True, True, True, True, True, True, True, True, True, True, True, True, False, True, True, True, True, True, True, True, True, True, True, True, False, True, True, True, True, True, True, True, False, True, True, True, True, True, True, True, True, True, True, True, True, True, True, True, True, True, True, True, True, False, True, True, True, True, True, True, True, True, True, True, True, True, True, True, True, True, True, True, True, True, True, True, True, True, True, True, True, True, True, True, True, True, True, True, True, True, True, True, True, False, True, True, True, True, True, True, True, True, True, True, True, True, True, True, True, True, True, True, True, True, True, True, True, True, True, True, True, True, True, True, False, True, True, True, False, True, True, True, True, True, True, True, True, True, True, True, True, True, True, True, True, True, True, True, True, True, True, False, True, True, True, True, True, True, True, True, True, True, True, True, True, True, True, True, True, True, True, True, True, True, False, True, True, True, True, True, True, True, True, True, True, True, True, True, True, True, True, True, True, True, True, True, True, False, True, True, True, True, True, True, True, True, True, False, True, True, True, True, True, True, True, True, False, True, True, True, True, True, True, True, True, True, True, True, True, True, True, True, True, True, True, True, True, True, True, True, True, True, True, True, True, True, True, True, True, True, True, True, True, True, True, True, True, True, True, True, True, True, True, True, True, True, True, True, False, True, True, True, True, True, True, True, True, True, True, False, True, True, True, True, True, True, True, True, True, True, True, True, True, True, True, True, True, True, True, True, True, True, True, True, True, True, True, True, True, True, True, True, True, True, True, True, True, False, True, True, True, True, True, True, True, True, True, True, True, True, True, True, False, True, True, True, True, True, True, True, True, True, True, True, True, True, False, True, True, True, True, True, True, True, True, True, True, True, True, True, True, True, True, True, True, True, True, True, True, False, True, True, True, True, True, True, True, True, True, True, True, True, True, True, True, True, True, True, True, True, True, True, True, True, True, True, True, True, True, True, True, True, True, True, True, True, True, True, True, True, True, True, True, True, True, True, True, True, True, True, True, True, True, True, True, True, True, True, True, True, True, True, True, True, True, True, True, False, True, True, True, True, True, True, True, False, True, True, True, True, True, True, True, True, True, True, True, True, True, True, True, True, True, True, True, True, True, True, True, True, True, True, True, True, True, True, False, True, True, True, True, True, True, True, True, True, True, True, True, True, True, True, True, True, True, True, True, True, True, True, True, False, True, True, True, True, True, True, True, True, True, True, True, True, True, True, True, True, True, True, True, True, True, True, True, True, True, True, True, True, True, True, True, True, True, True, True, True, False, True, True, True, True, True, True, True, True, True, True, True, True, True, True, True, True, True, True, True, True, True, True, True, True, False, True, True, True, True, True, True, True, True, True, False, False, True, True, True, True, False, True, True, True, True, True, True, True, True, True, True, True, True, True, True, True, True, True, False, True, False, True, True, True, True, True, True, True, True, True, False, True, True, True, True, True, True, True, True, True, True, True, True, True, True, True, True, True, True, True, True, False, True, True, True, True, True, True, True, True, True, True, True, True, True, True, True, True, True, True, False, True, True, True, True, True, True, True, True, False, True, True, True, True, True, True, True, True, True, True, True, True, True, True, True, True, True, True, True, True, True, True, True, True, False, True, True, True, True, True, True, True, True, True, True, True, True, True, True, True, True, True, True, True, True, True, True, True, True, True, True, True, True, True, True, True, True, True, True, True, True, True, True, True, True, True, True, True, True, True, True, True, True, True, True, True, True, True, True, True, True, True, True, True, True, True, True, True, True, True, True, False, True, True, True, True, True, True, True, True, True, True, True, True, True, True, True, True, True, True, True, True, True, True, True, True, True, True, True, True, True, True, True, True, True, True, True, True, True, True, True, True, True, True, True, True, False, True, True, True, True, True, True, True, True, True, True, True, True, True, True, True, True, True, True, True, True, True, True, True, True, True, True, False, True, True, True, True, True, True, True, True, True, True, True, True, True, True, True, True, True, True, True, True, True, True, True, False, True, True, True, True, True, True, True, False, True, True, True, True, True, True, True, True, True, True, True, True, True, True, True, True, True, True, True, True, True, True, True, True, True, True, False, True, True, False, True, True, True, True, True, True, True, True, True, True, True, True, True, True, True, True, True, True, True, True, True, True, True, True, True, True, True, True, True, True, True, True, True, True, True, True, True, True, True, True, True, True, True, False, True, True, True, True, True, True, True, True, True, True, True, True, True, True, True, True, True, True, True, True, True, True, True, True, True, True, True, True, True, True, False, True, True, True, True, True, True, True, True, True, True, True, True, True, True, True, True, True, True, True, True, True, True, True, True, True, True, False, True, True, True, True, True, True, True, True, True, True, True, True, True, True, True, True, True, True, True, True, True, True, True, True, True, True, True, True, True, True, True, True, False, True, True, True, True, True, True, True, True, True, True, True, True, True, True, True, True, True, True, True, True, True, True, True, True, True, True, False, True, True, True, True, True, True, True, True, True, True, True, True, True, True, True, True, True, True, True, True, True, True, True, True, True, True, True, True, True, True, True, True, True, True, True, True, True, True, True, True, True, True, True, True, True, True, True, True, True, True, True, True, True, True, True, True, True, True, True, True, True, True, True, True, True, True, True, True, True, True, True, True, True, True, True, True, True, True, True, True, True, True, True, True, True, True, True, True, True, True, True, True, True, True, True, True, True, True, True, True, True, True, True, True, True, True, True, True, True, True, True, True, True, True, True, True, True, True, True, True, True, True, True, True, True, True, True, True, True, True, True, True, True, True, True, True, True, True, True, True, True, True, True, True, True, True, True, True, True, True, True, True, True, True, True, False, True, True, True, True, True, True, True, True, True, True, True, True, True, True, True, True, True, True, True, True, True, True, True, True, True, True, True, False, True, True, True, True, True, True, True, True, True, True, True, True, True, True, True, True, True, True, True, True, True, True, True, True, True, True, True, True, True, True, True, True, True, True, True, True, True, True, True, True, True, True, True, True, True, True, True, True, True, True, True, True, True, True, True, True, True, True, True, True, True, True, True, True, True, True, True, True, True, True, True, True, True, True, True, True, True, True, True, True, True, True, True, True, True, True, True, True, True, True, False, False, False, True, True, True, True, True, True, True, True, True, True, True, True, True, True, False, True, True, True, True, True, True, True, True, True, False, True, True, True, True, True, True, True, True, True, True, True, True, True, True, True, True, True, True, True, True, True, True, True, True, True, True, True, True, True, True, True, True, True, True, True, True, True, True, True, True, True, True, True, True, True, True, True, True, True, True, True, True, True, True, True, True, True, True, True, True, True, True, False, True, True, True, True, True, False, True, True, True, True, True, True, True, True, True, True, True, True, True, True, True, True, True, True, True, True, True, True, True, True, True, True, True, True, True, True, True, False, True, True, True, True, True, True, True, True, True, True, True, False, True, True, True, True, True, True, True, True, True, True, True, False, True, True, True, True, True, True, True, True, True, True, True, True, True, True, True, True, True, False, True, True, True, True, True, True, True, True, True, True, True, True, True, True, True, True, True, True, True, True, True, True, True, True, True, True, False, True, True, True, True, True, True, True, True, True, True, True, True, True, True, True, True, True, True, True, True, True, True, True, True, True, True, True, True, True, True, True, True, True, True, False, True, True, True, True, True, True, True, False, True, True, True, True, True, True, True, True, True, True, True, True, True, True, True, True, True, True, True, True, True, True, True, True, True, True, True, False, True, True, True, True, True, True, True, True, True, True, True, True, True, True, True, True, True, True, True, True, True, True, True, True, True, True, True, True, True, True, True, True, True, True, True, True, True, False, True, True, True, True, True, True, True, True, True, True, True, True, False, True, True, True, True, True, True, True, True, True, True, True, True, False, True, True, True, True, True, True, True, True, True, True, True, True, True, True, True, True, True, True, True, True, True, True, True, True, True, True, True, True, True, True, True, True, True, True, True, True, True, True, True, True, True, False, True, True, True, True, True, True, True, True, True, True, True, True, True, True, True, True, True, True, True, True, True, True, True, True, True, True, True, True, True, True, True, True, True, True, True, True, True, True, True, True, True, True, True, True, True, True, True, True, True, True, True, True, True, False, True, True, True, True, True, True, True, True, True, True, True, True, True, True, True, True, True, True, True, True, True, True, True, True, True, True, False, True, True, True, True, True, False, True, True, True, True, True, True, True, True, False, True, True, True, True, True, True, True, True, True, True, True, True, True, True, False, True, True, True, True, False, True, True, True, False, True, True, True, True, True, True, True, True, True, True, True, True, True, True, True, True, True, True, True, True, True, True, True, True, True, True, True, True, True, True, True, True, True, True, True, True, False, True, True, True, True, True, True, True, True, True, True, True, True, True, False, True, True, True, True, True, True, True, True, True, True, True, True, True, True, True, True, True, False, True, True, True, True, True, True, True, True, True, True, True, True, True, True, True, True, True, True, True, True, True, True, True, True, True, True, True, True, True, True, False, True, True, True, True, True, True, False, True, True, True, True, True, True, True, True, True, True, True, True, True, True, True, True, False, True, True, True, True, True, True, False, True, False, True, True, True, True, True, True, True, True, True, True, True, True, True, True, True, True, True, True, True, True, True, True, True, True, True, True, True, True, True, True, False, True, True, True, True, True, True, True, True, True, True, True, False, True, True, True, True, True, True, True, True, True, True, True, True, True, False, True, True, True, True, True, True, True, True, True, True, True, True, True, True, True, True, True, True, True, True, True, True, True, True, True, True, True, True, True, True, True, True, True, True, True, True, True, True, True, True, True, True, True, True, True, True, True, True, True, False, True, True, True, True, True, True, True, True, True, True, True, True, True, True, True, True, True, True, True, True, True, True, True, True, True, True, True, True, True, True, True, False, True, True, True, True, True, True, True, True, True, True, True, True, True, True, True, True, True, True, True, True, True, True, True, True, True, True, True, True, True, True, True, True, True, True, False, True, False, True, True, True, True, True, True, True, True, True, True, True, True, True, True, True, True, True, True, True, True, True, True, True, True, True, True, True, True, True, True, True, True, True, True, True, True, True, True, True, True, True, True, True, True, True, True, True, True, True, True, True, True, True, True, True, True, True, True, True, True, True, True, True, True, True, True, True, True, True, True, True, True, True, True, True, True, True, True, True, True, True, True, True, True, True, True, True, True, True, True, True, True, True, True, True, True, True, True, True, True, True, True, True, True, True, True, True, True, True, True, True, True, True, True, True, True, True, True, True, True, False, True, True, True, True, True, True, True, True, True, True, True, True, True, True, True, True, True, True, True, True, True, True, True, True, True, True, True, True, True, True, True, True, True, True, True, True, True, True, True, True, True, True, True, True, True, True, False, True, True, True, True, True, True, True, True, True, True, True, True, True, True, True, True, True, True, True, True, True, True, True, True, True, True, True, True, True, True, False, True, True, True, True, True, True, True, True, True, True, True, True, True, True, True, True, True, True, True, True, True, True, True, True, True, True, True, True, True, True, True, True, True, True, True, True, True, True, True, True, True, True, True, True, True, True, True, True, True, True, True, True, True, True, True, False, True, True, True, True, True, True, True, True, True, True, True, True, True, True, True, True, True, True, True, True, True, True, True, True, True, True, True, True, True, True, True, True, True, True, True, True, True, True, True, True, True, True, True, True, True, True, True, True, True, True, True, True, True, True, True, True, True, True, True, True, True, True, True, True, True, True, True, True, True, True, True, True, True, True, True, True, True, True, False, True, True, True, True, True, True, True, True, False, True, True, True, True, True, True, True, True, True, True, True, True, True, True, True, True, True, True, True, True, True, True, True, True, False, True, True, True, True, True, True, True, True, True, True, True, True, True, True, True, True, True, True, True, True, True, True, True, True, True, True, True, True, True, True, True, True, True, True, True, True, True, True, True, True, True, True, True, True, True, True, True, True, True, True, True, True, True, True, False, False, False, False, False, True, False, False, False, True, False, True, False, False, False, False, True, False, True, False, False, True, False, False, False, True, True, False, True, False, False, True, True, False, False, False, False, True, False, True, True, True, True, False, False, True, False, True, False, False, False, False, False, False, True, False, False, True, True, True, False, True, True, False, False, True, False, True, True, False, False, False, True, False, False, False, True, False, False, False, True, True, True, True, True, False, False, True, False, False, True, True, True, True, True, True, True, True, False, False, False, False, False, True, True, True, True, True, False, True, True, False, False, False, False, True, False, False, False, False, False, False, False, False, False, True, True, False, False, True, False, False, False, False, False, True, False, False, False, False, False, True, False, True, True, False, False, False, False, False, True, False, True, False, True, False, False, False, False, True, False, True, True, False, False, False, False, True, True, False, False, True, True, True, False, False, False, False, False, True, True, True, True, True, False, True, False, True, False, True, False, False, False, True, False, False, False, False, False, True]\n"
     ]
    }
   ],
   "source": [
    "import numpy as np\n",
    "core_samples = np.zeros_like(labels, dtype = bool)  \n",
    "core_samples[db.core_sample_indices_] = True \n",
    "print(list(core_samples))"
   ]
  },
  {
   "cell_type": "markdown",
   "metadata": {},
   "source": [
    "### Assessing smallest clusters"
   ]
  },
  {
   "cell_type": "code",
   "execution_count": 56,
   "metadata": {},
   "outputs": [
    {
     "name": "stdout",
     "output_type": "stream",
     "text": [
      "[3261  139 2714   51  175  118  113   40   74   18   36   36   71   25\n",
      "   43   20]\n"
     ]
    }
   ],
   "source": [
    "\n",
    "\n",
    "dbscn = DBSCAN(eps=0.9, min_samples=10, n_jobs=-1).fit(Xs)\n",
    "labels2 = dbscn.labels_ \n",
    "n2_clusters_ = len(set(labels2)) - (1 if -1 in labels2 else 0)\n",
    "#We first need to figure out how big the clusters are, and filter out the smallest.\n",
    "#Next, we're going to take the smallest ones and flag those as fraud\n",
    "#last,we'll check with the original labels whether this does actually do a good job in detecting fraud.\n",
    "counts2 = np.bincount(labels2[labels2 >= 0])\n",
    "\n",
    "# Print the result\n",
    "print(counts2)\n"
   ]
  },
  {
   "cell_type": "code",
   "execution_count": 65,
   "metadata": {},
   "outputs": [
    {
     "name": "stdout",
     "output_type": "stream",
     "text": [
      "The smallest clusters are clusters:\n",
      "[ 9 15 13]\n"
     ]
    }
   ],
   "source": [
    "# Sort the sample counts of the clusters and take the top 3 smallest clusters\n",
    "smallest_clusters = np.argsort(counts2)[:3]\n",
    "\n",
    "# Print the results \n",
    "print(\"The smallest clusters are clusters:\")      \n",
    "print(smallest_clusters)"
   ]
  },
  {
   "cell_type": "code",
   "execution_count": 66,
   "metadata": {},
   "outputs": [
    {
     "name": "stdout",
     "output_type": "stream",
     "text": [
      "Their counts are:\n",
      "[18 20 25]\n"
     ]
    }
   ],
   "source": [
    "# Print the counts of the smallest clusters only\n",
    "print(\"Their counts are:\")      \n",
    "print(counts2[smallest_clusters])"
   ]
  },
  {
   "cell_type": "markdown",
   "metadata": {},
   "source": [
    "So now we know which smallest clusters you could flag as fraud. If you were to take more of the smallest clusters, you cast your net wider and catch more fraud, but most likely also more false positives. It is up to the fraud analyst to find the right amount of cases to flag and to investigate."
   ]
  },
  {
   "cell_type": "code",
   "execution_count": 67,
   "metadata": {},
   "outputs": [
    {
     "name": "stdout",
     "output_type": "stream",
     "text": [
      "Flagged Fraud     0   1\n",
      "Actual Fraud           \n",
      "0              6969  31\n",
      "1               168  32\n"
     ]
    }
   ],
   "source": [
    "#Now,we check the results with the actual labels.\n",
    "# Create a dataframe of the predicted cluster numbers and fraud labels\n",
    "\n",
    "#In this case, WE'll use the fraud labels to check your model results.\n",
    "df = pd.DataFrame({'clusternr':labels2,'fraud':y})\n",
    "\n",
    "# Create a condition flagging fraud for the smallest clusters \n",
    "df['predicted_fraud'] = np.where((df['clusternr']==9) | (df['clusternr']==13) | (df['clusternr']==15), 1, 0)\n",
    "\n",
    "# Run a crosstab on the results \n",
    "print(pd.crosstab(df.fraud, df.predicted_fraud, rownames=['Actual Fraud'], colnames=['Flagged Fraud']))"
   ]
  },
  {
   "cell_type": "markdown",
   "metadata": {},
   "source": [
    "The good thing is:  Since we only took the three smallest clusters, by definition we flag less cases of fraud, so we catch less but also have less false positives. However, we are missing quite a lot of fraud cases. Increasing the amount of smallest clusters our flag could improve that, at the cost of more false positives of course. \n",
    "    Probabaly, we can improve fraud detection models by including text analysis."
   ]
  },
  {
   "cell_type": "markdown",
   "metadata": {},
   "source": [
    "|we need to think about how to deal with the imablanced data in DBSCAN as dbscan does not allow us to predict X_test. I will investigate further."
   ]
  },
  {
   "cell_type": "code",
   "execution_count": null,
   "metadata": {},
   "outputs": [],
   "source": []
  }
 ],
 "metadata": {
  "kernelspec": {
   "display_name": "Python 3",
   "language": "python",
   "name": "python3"
  },
  "language_info": {
   "codemirror_mode": {
    "name": "ipython",
    "version": 3
   },
   "file_extension": ".py",
   "mimetype": "text/x-python",
   "name": "python",
   "nbconvert_exporter": "python",
   "pygments_lexer": "ipython3",
   "version": "3.6.5"
  }
 },
 "nbformat": 4,
 "nbformat_minor": 2
}
