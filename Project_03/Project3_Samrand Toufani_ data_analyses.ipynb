{
 "cells": [
  {
   "cell_type": "code",
   "execution_count": 2,
   "metadata": {},
   "outputs": [],
   "source": [
    "from sklearn.feature_extraction.text import CountVectorizer\n",
    "from sklearn.model_selection import cross_val_score, cross_val_predict\n",
    "from sklearn import metrics\n",
    "from sklearn.model_selection import train_test_split\n",
    "from sklearn import linear_model\n",
    "from sklearn.linear_model import LogisticRegression\n",
    "import pandas as pd"
   ]
  },
  {
   "cell_type": "code",
   "execution_count": 24,
   "metadata": {},
   "outputs": [],
   "source": [
    "c=pd.read_csv('data_job.csv',index_col=0)"
   ]
  },
  {
   "cell_type": "code",
   "execution_count": 25,
   "metadata": {},
   "outputs": [],
   "source": [
    "from sklearn.feature_extraction.text import CountVectorizer\n",
    "cvec = CountVectorizer()\n",
    "X = c.job_title\n",
    "y = c.dumsal\n",
    "X_train, X_test, y_train, y_test = train_test_split(X, y, test_size=0.33)"
   ]
  },
  {
   "cell_type": "code",
   "execution_count": 26,
   "metadata": {},
   "outputs": [],
   "source": [
    "cvec = CountVectorizer(stop_words=['english','time']).fit(X_train)\n",
    "df_train = pd.DataFrame(cvec.transform(X_train).todense(),\n",
    "             columns=cvec.get_feature_names())"
   ]
  },
  {
   "cell_type": "code",
   "execution_count": 27,
   "metadata": {},
   "outputs": [
    {
     "name": "stdout",
     "output_type": "stream",
     "text": [
      "(651, 126)\n",
      "(651,)\n",
      "(321, 126)\n",
      "(321,)\n"
     ]
    }
   ],
   "source": [
    "df_test = pd.DataFrame(cvec.transform(X_test).todense(),\n",
    "                      columns=cvec.get_feature_names())\n",
    "print (df_train.shape)\n",
    "print (y_train.shape)\n",
    "print (df_test.shape)\n",
    "print (y_test.shape)"
   ]
  },
  {
   "cell_type": "code",
   "execution_count": 28,
   "metadata": {},
   "outputs": [
    {
     "data": {
      "text/plain": [
       "0.9813084112149533"
      ]
     },
     "execution_count": 28,
     "metadata": {},
     "output_type": "execute_result"
    }
   ],
   "source": [
    "lr = LogisticRegression()\n",
    "lr.fit(df_train, y_train)\n",
    "lr.score(df_test, y_test)\n",
    "#this is my title score"
   ]
  },
  {
   "cell_type": "code",
   "execution_count": 29,
   "metadata": {},
   "outputs": [
    {
     "name": "stdout",
     "output_type": "stream",
     "text": [
      "Cross-validated scores: [0.92592593 0.92592593 0.98148148 0.96296296 0.96226415 0.94230769]\n",
      "Cross-Predicted Accuracy: 0.9501557632398754\n"
     ]
    }
   ],
   "source": [
    "from sklearn.cross_validation import cross_val_score, cross_val_predict\n",
    "from sklearn import metrics\n",
    "# Perform 6-fold cross validation\n",
    "scores = cross_val_score(lr, df_test, y_test, cv=6)\n",
    "print (\"Cross-validated scores:\", scores)\n",
    "# Make cross validated predictions\n",
    "predictions = cross_val_predict(lr, df_test, y_test, cv=6)\n",
    "accuracy = metrics.accuracy_score(y_test, predictions)\n",
    "print (\"Cross-Predicted Accuracy:\", accuracy)\n",
    "#the measure shows the high predictability of the model"
   ]
  },
  {
   "cell_type": "code",
   "execution_count": 30,
   "metadata": {},
   "outputs": [
    {
     "name": "stdout",
     "output_type": "stream",
     "text": [
      "Random Forrest Score:\t0.983 ± 0.002\n"
     ]
    }
   ],
   "source": [
    "from sklearn.ensemble import RandomForestClassifier\n",
    "rf = RandomForestClassifier(class_weight='balanced')\n",
    "RF = rf.fit(df_train,y_train)\n",
    "s = cross_val_score(rf, df_train, y_train, n_jobs=-1)\n",
    "print (\"{} Score:\\t{:0.3} ± {:0.3}\".format(\"Random Forrest\", s.mean().round(3), s.std().round(3)))"
   ]
  },
  {
   "cell_type": "code",
   "execution_count": 31,
   "metadata": {},
   "outputs": [
    {
     "data": {
      "text/html": [
       "<div>\n",
       "<style scoped>\n",
       "    .dataframe tbody tr th:only-of-type {\n",
       "        vertical-align: middle;\n",
       "    }\n",
       "\n",
       "    .dataframe tbody tr th {\n",
       "        vertical-align: top;\n",
       "    }\n",
       "\n",
       "    .dataframe thead th {\n",
       "        text-align: right;\n",
       "    }\n",
       "</style>\n",
       "<table border=\"1\" class=\"dataframe\">\n",
       "  <thead>\n",
       "    <tr style=\"text-align: right;\">\n",
       "      <th></th>\n",
       "      <th>importance</th>\n",
       "    </tr>\n",
       "  </thead>\n",
       "  <tbody>\n",
       "    <tr>\n",
       "      <th>scientist</th>\n",
       "      <td>0.088349</td>\n",
       "    </tr>\n",
       "    <tr>\n",
       "      <th>analyst</th>\n",
       "      <td>0.078580</td>\n",
       "    </tr>\n",
       "    <tr>\n",
       "      <th>associate</th>\n",
       "      <td>0.076165</td>\n",
       "    </tr>\n",
       "    <tr>\n",
       "      <th>engineer</th>\n",
       "      <td>0.069471</td>\n",
       "    </tr>\n",
       "    <tr>\n",
       "      <th>python</th>\n",
       "      <td>0.067455</td>\n",
       "    </tr>\n",
       "    <tr>\n",
       "      <th>agile</th>\n",
       "      <td>0.056153</td>\n",
       "    </tr>\n",
       "    <tr>\n",
       "      <th>business</th>\n",
       "      <td>0.055829</td>\n",
       "    </tr>\n",
       "    <tr>\n",
       "      <th>research</th>\n",
       "      <td>0.055276</td>\n",
       "    </tr>\n",
       "    <tr>\n",
       "      <th>data</th>\n",
       "      <td>0.047393</td>\n",
       "    </tr>\n",
       "    <tr>\n",
       "      <th>content</th>\n",
       "      <td>0.041981</td>\n",
       "    </tr>\n",
       "    <tr>\n",
       "      <th>intelligence</th>\n",
       "      <td>0.038671</td>\n",
       "    </tr>\n",
       "    <tr>\n",
       "      <th>writer</th>\n",
       "      <td>0.027056</td>\n",
       "    </tr>\n",
       "    <tr>\n",
       "      <th>programmer</th>\n",
       "      <td>0.017736</td>\n",
       "    </tr>\n",
       "    <tr>\n",
       "      <th>and</th>\n",
       "      <td>0.013827</td>\n",
       "    </tr>\n",
       "    <tr>\n",
       "      <th>marketing</th>\n",
       "      <td>0.012776</td>\n",
       "    </tr>\n",
       "    <tr>\n",
       "      <th>freelance</th>\n",
       "      <td>0.011063</td>\n",
       "    </tr>\n",
       "    <tr>\n",
       "      <th>operations</th>\n",
       "      <td>0.010985</td>\n",
       "    </tr>\n",
       "    <tr>\n",
       "      <th>professional</th>\n",
       "      <td>0.010308</td>\n",
       "    </tr>\n",
       "    <tr>\n",
       "      <th>pathologist</th>\n",
       "      <td>0.010038</td>\n",
       "    </tr>\n",
       "    <tr>\n",
       "      <th>senior</th>\n",
       "      <td>0.009908</td>\n",
       "    </tr>\n",
       "  </tbody>\n",
       "</table>\n",
       "</div>"
      ],
      "text/plain": [
       "              importance\n",
       "scientist       0.088349\n",
       "analyst         0.078580\n",
       "associate       0.076165\n",
       "engineer        0.069471\n",
       "python          0.067455\n",
       "agile           0.056153\n",
       "business        0.055829\n",
       "research        0.055276\n",
       "data            0.047393\n",
       "content         0.041981\n",
       "intelligence    0.038671\n",
       "writer          0.027056\n",
       "programmer      0.017736\n",
       "and             0.013827\n",
       "marketing       0.012776\n",
       "freelance       0.011063\n",
       "operations      0.010985\n",
       "professional    0.010308\n",
       "pathologist     0.010038\n",
       "senior          0.009908"
      ]
     },
     "execution_count": 31,
     "metadata": {},
     "output_type": "execute_result"
    }
   ],
   "source": [
    "rf_features = pd.DataFrame(RF.feature_importances_,\n",
    "                                   index = df_train.columns,\n",
    "                                    columns=['importance']).sort_values('importance',\n",
    "                                                                        ascending=False)\n",
    "rf_features.head(20)\n",
    "#the most import keyword is sceintist,analyst,associate,engineer,,python,agile"
   ]
  },
  {
   "cell_type": "markdown",
   "metadata": {},
   "source": [
    "Create a few new variables in my dataframe to represent interesting features of a job title. Then I built a new Random Forest with these features."
   ]
  },
  {
   "cell_type": "code",
   "execution_count": 33,
   "metadata": {},
   "outputs": [
    {
     "data": {
      "text/html": [
       "<div>\n",
       "<style scoped>\n",
       "    .dataframe tbody tr th:only-of-type {\n",
       "        vertical-align: middle;\n",
       "    }\n",
       "\n",
       "    .dataframe tbody tr th {\n",
       "        vertical-align: top;\n",
       "    }\n",
       "\n",
       "    .dataframe thead th {\n",
       "        text-align: right;\n",
       "    }\n",
       "</style>\n",
       "<table border=\"1\" class=\"dataframe\">\n",
       "  <thead>\n",
       "    <tr style=\"text-align: right;\">\n",
       "      <th></th>\n",
       "      <th>state</th>\n",
       "      <th>job_title</th>\n",
       "      <th>company</th>\n",
       "      <th>job_description</th>\n",
       "      <th>avg</th>\n",
       "      <th>dumsal</th>\n",
       "      <th>vis</th>\n",
       "      <th>nlp</th>\n",
       "      <th>scientist</th>\n",
       "      <th>experience</th>\n",
       "      <th>...</th>\n",
       "      <th>sql</th>\n",
       "      <th>manager</th>\n",
       "      <th>machine</th>\n",
       "      <th>java</th>\n",
       "      <th>writing</th>\n",
       "      <th>matlab</th>\n",
       "      <th>associate</th>\n",
       "      <th>analyst</th>\n",
       "      <th>engineer</th>\n",
       "      <th>agile</th>\n",
       "    </tr>\n",
       "  </thead>\n",
       "  <tbody>\n",
       "    <tr>\n",
       "      <th>0</th>\n",
       "      <td>NSW</td>\n",
       "      <td>Pathologist and Research Scientist</td>\n",
       "      <td>Australian Army</td>\n",
       "      <td>Research Scientists are also integral componen...</td>\n",
       "      <td>87500.0</td>\n",
       "      <td>0</td>\n",
       "      <td>0</td>\n",
       "      <td>0</td>\n",
       "      <td>1</td>\n",
       "      <td>0</td>\n",
       "      <td>...</td>\n",
       "      <td>0</td>\n",
       "      <td>0</td>\n",
       "      <td>0</td>\n",
       "      <td>0</td>\n",
       "      <td>0</td>\n",
       "      <td>0</td>\n",
       "      <td>0</td>\n",
       "      <td>0</td>\n",
       "      <td>0</td>\n",
       "      <td>0</td>\n",
       "    </tr>\n",
       "    <tr>\n",
       "      <th>1</th>\n",
       "      <td>NSW</td>\n",
       "      <td>Business Analyst Process Improvement Professional</td>\n",
       "      <td>Children's Cancer Institute</td>\n",
       "      <td>5+ years’ experience as a Business...</td>\n",
       "      <td>87500.0</td>\n",
       "      <td>0</td>\n",
       "      <td>0</td>\n",
       "      <td>0</td>\n",
       "      <td>0</td>\n",
       "      <td>1</td>\n",
       "      <td>...</td>\n",
       "      <td>0</td>\n",
       "      <td>0</td>\n",
       "      <td>0</td>\n",
       "      <td>0</td>\n",
       "      <td>0</td>\n",
       "      <td>0</td>\n",
       "      <td>0</td>\n",
       "      <td>1</td>\n",
       "      <td>0</td>\n",
       "      <td>0</td>\n",
       "    </tr>\n",
       "    <tr>\n",
       "      <th>2</th>\n",
       "      <td>NSW</td>\n",
       "      <td>Operations Analyst</td>\n",
       "      <td>chill</td>\n",
       "      <td>You are passionate about the abili...</td>\n",
       "      <td>87500.0</td>\n",
       "      <td>0</td>\n",
       "      <td>0</td>\n",
       "      <td>0</td>\n",
       "      <td>0</td>\n",
       "      <td>0</td>\n",
       "      <td>...</td>\n",
       "      <td>0</td>\n",
       "      <td>0</td>\n",
       "      <td>0</td>\n",
       "      <td>0</td>\n",
       "      <td>0</td>\n",
       "      <td>0</td>\n",
       "      <td>0</td>\n",
       "      <td>1</td>\n",
       "      <td>0</td>\n",
       "      <td>0</td>\n",
       "    </tr>\n",
       "    <tr>\n",
       "      <th>3</th>\n",
       "      <td>NSW</td>\n",
       "      <td>Property Analyst</td>\n",
       "      <td>JLL</td>\n",
       "      <td>Taking the lead in quality managem...</td>\n",
       "      <td>87500.0</td>\n",
       "      <td>0</td>\n",
       "      <td>0</td>\n",
       "      <td>0</td>\n",
       "      <td>0</td>\n",
       "      <td>0</td>\n",
       "      <td>...</td>\n",
       "      <td>0</td>\n",
       "      <td>0</td>\n",
       "      <td>0</td>\n",
       "      <td>0</td>\n",
       "      <td>0</td>\n",
       "      <td>0</td>\n",
       "      <td>0</td>\n",
       "      <td>1</td>\n",
       "      <td>0</td>\n",
       "      <td>0</td>\n",
       "    </tr>\n",
       "    <tr>\n",
       "      <th>4</th>\n",
       "      <td>NSW</td>\n",
       "      <td>Technical Marketing Content Writer freelance /...</td>\n",
       "      <td>Daisee</td>\n",
       "      <td>Daisee employs data scientists, so...</td>\n",
       "      <td>90000.0</td>\n",
       "      <td>1</td>\n",
       "      <td>0</td>\n",
       "      <td>0</td>\n",
       "      <td>0</td>\n",
       "      <td>1</td>\n",
       "      <td>...</td>\n",
       "      <td>0</td>\n",
       "      <td>0</td>\n",
       "      <td>0</td>\n",
       "      <td>0</td>\n",
       "      <td>1</td>\n",
       "      <td>0</td>\n",
       "      <td>0</td>\n",
       "      <td>0</td>\n",
       "      <td>0</td>\n",
       "      <td>0</td>\n",
       "    </tr>\n",
       "  </tbody>\n",
       "</table>\n",
       "<p>5 rows × 21 columns</p>\n",
       "</div>"
      ],
      "text/plain": [
       "  state                                          job_title  \\\n",
       "0   NSW                Pathologist and Research Scientist    \n",
       "1   NSW  Business Analyst Process Improvement Professional   \n",
       "2   NSW                                Operations Analyst    \n",
       "3   NSW                                   Property Analyst   \n",
       "4   NSW  Technical Marketing Content Writer freelance /...   \n",
       "\n",
       "                               company  \\\n",
       "0                      Australian Army   \n",
       "1          Children's Cancer Institute   \n",
       "2                                chill   \n",
       "3                                  JLL   \n",
       "4                               Daisee   \n",
       "\n",
       "                                     job_description      avg  dumsal  vis  \\\n",
       "0  Research Scientists are also integral componen...  87500.0       0    0   \n",
       "1              5+ years’ experience as a Business...  87500.0       0    0   \n",
       "2              You are passionate about the abili...  87500.0       0    0   \n",
       "3              Taking the lead in quality managem...  87500.0       0    0   \n",
       "4              Daisee employs data scientists, so...  90000.0       1    0   \n",
       "\n",
       "   nlp  scientist  experience  ...    sql  manager  machine  java  writing  \\\n",
       "0    0          1           0  ...      0        0        0     0        0   \n",
       "1    0          0           1  ...      0        0        0     0        0   \n",
       "2    0          0           0  ...      0        0        0     0        0   \n",
       "3    0          0           0  ...      0        0        0     0        0   \n",
       "4    0          0           1  ...      0        0        0     0        1   \n",
       "\n",
       "   matlab  associate  analyst  engineer  agile  \n",
       "0       0          0        0         0      0  \n",
       "1       0          0        1         0      0  \n",
       "2       0          0        1         0      0  \n",
       "3       0          0        1         0      0  \n",
       "4       0          0        0         0      0  \n",
       "\n",
       "[5 rows x 21 columns]"
      ]
     },
     "execution_count": 33,
     "metadata": {},
     "output_type": "execute_result"
    }
   ],
   "source": [
    "#the most import keyword is sceintist,analyst,associate,engineer,,python,agile\n",
    "c['associate'] = list(map(int, c['job_title'].str.lower().str.contains('assoc')))\n",
    "c['scientist'] = list(map(int, c['job_title'].str.lower().str.contains('scien')))\n",
    "c['python'] = list(map(int, c['job_title'].str.lower().str.contains('pyth')))\n",
    "c['engineer'] = list(map(int, c['job_title'].str.lower().str.contains('engi'))) \n",
    "c['analyst']=list(map(int, c['job_title'].str.lower().str.contains('analyst'))) \n",
    "c['agile']=list(map(int, c['job_title'].str.lower().str.contains('agile'))) \n",
    "#making dummies for the words at the top of this cell\n",
    "c.head()"
   ]
  },
  {
   "cell_type": "code",
   "execution_count": 53,
   "metadata": {},
   "outputs": [
    {
     "data": {
      "text/plain": [
       "0.8894601542416453"
      ]
     },
     "execution_count": 53,
     "metadata": {},
     "output_type": "execute_result"
    }
   ],
   "source": [
    "predictors=['associate','scientist','python','engineer','analyst','agile']\n",
    "#completing a logistic regression model\n",
    "from sklearn.linear_model import LogisticRegression\n",
    "X = c[predictors]\n",
    "y = c.dumsal\n",
    "X_train, X_test, y_train, y_test = train_test_split(X, y, test_size=0.4)\n",
    "\n",
    "lr = LogisticRegression(penalty='l1', C=0.1, solver='liblinear')\n",
    "lr.fit(X_train, y_train)\n",
    "lr.score(X_test, y_test)\n",
    "#this is my concatonated score which is quite high"
   ]
  },
  {
   "cell_type": "code",
   "execution_count": 54,
   "metadata": {},
   "outputs": [
    {
     "name": "stdout",
     "output_type": "stream",
     "text": [
      "Random Forrest Score:\t0.925 ± 0.012\n"
     ]
    }
   ],
   "source": [
    "#and a random forest classifier\n",
    "rf = RandomForestClassifier(class_weight='balanced')\n",
    "s = cross_val_score(rf, X, y, n_jobs=-1)\n",
    "print (\"{} Score:\\t{:0.3} ± {:0.3}\".format(\"Random Forrest\", s.mean().round(3), s.std().round(3)))"
   ]
  },
  {
   "cell_type": "code",
   "execution_count": 55,
   "metadata": {},
   "outputs": [
    {
     "name": "stdout",
     "output_type": "stream",
     "text": [
      "Cross-validated scores: [0.90184049 0.93865031 0.94444444 0.9382716  0.93167702 0.89440994]\n",
      "Cross-Predicted Accuracy: 0.9248971193415638\n"
     ]
    }
   ],
   "source": [
    "from sklearn.cross_validation import cross_val_score, cross_val_predict\n",
    "from sklearn import metrics\n",
    "# Perform 6-fold cross validation\n",
    "scores = cross_val_score(rf, X, y, cv=6)\n",
    "print (\"Cross-validated scores:\", scores)\n",
    "# Make cross validated predictions\n",
    "predictions = cross_val_predict(rf, X, y, cv=6)\n",
    "accuracy = metrics.accuracy_score(y, predictions)\n",
    "print (\"Cross-Predicted Accuracy:\", accuracy)\n",
    "#accuracy of the model is high"
   ]
  },
  {
   "cell_type": "code",
   "execution_count": 56,
   "metadata": {},
   "outputs": [
    {
     "data": {
      "text/plain": [
       "<matplotlib.axes._subplots.AxesSubplot at 0x15b81615a90>"
      ]
     },
     "execution_count": 56,
     "metadata": {},
     "output_type": "execute_result"
    },
    {
     "data": {
      "image/png": "[encoded data removed]",
      "text/plain": [
       "<matplotlib.figure.Figure at 0x15bfd8eaf98>"
      ]
     },
     "metadata": {},
     "output_type": "display_data"
    }
   ],
   "source": [
    "\n",
    "#to illustrates the importance of some keywords compare to others\n",
    "sum_associate_title=c['associate'].sum()\n",
    "sum_scientist_title=c['scientist'].sum()\n",
    "sum_python_title=c['python'].sum()\n",
    "sum_engineer_title=c['engineer'].sum()\n",
    "sum_analyst_title=c['analyst'].sum()\n",
    "sum_agile_title=c['agile'].sum()\n",
    "\n",
    "import pandas as pd\n",
    "import matplotlib.pyplot as plt\n",
    "%matplotlib inline\n",
    "\n",
    "x = [('associate_title',sum_associate_title),\n",
    "     ('scientist_title', sum_scientist_title),\n",
    "     ('python_title', sum_python_title),\n",
    "     ('engineer_title', sum_engineer_title),\n",
    "     ('analyst_title', sum_analyst_title),\n",
    "     ('agile_title',sum_agile_title),\n",
    "    \n",
    "     #('sum_matlab',sum_matlab)\n",
    "     ]\n",
    "pd.DataFrame(x, columns=['keywords','val']).sort_values(by=['val'],ascending=False).set_index('keywords').plot(kind='bar')\n",
    "#for majority of jobs title analyst,scientist and python have been used more than other keywords."
   ]
  },
  {
   "cell_type": "code",
   "execution_count": 57,
   "metadata": {},
   "outputs": [],
   "source": [
    "predictors=['associate','scientist','python','engineer','analyst','agile']"
   ]
  },
  {
   "cell_type": "code",
   "execution_count": 58,
   "metadata": {},
   "outputs": [
    {
     "data": {
      "text/html": [
       "<div>\n",
       "<style scoped>\n",
       "    .dataframe tbody tr th:only-of-type {\n",
       "        vertical-align: middle;\n",
       "    }\n",
       "\n",
       "    .dataframe tbody tr th {\n",
       "        vertical-align: top;\n",
       "    }\n",
       "\n",
       "    .dataframe thead th {\n",
       "        text-align: right;\n",
       "    }\n",
       "</style>\n",
       "<table border=\"1\" class=\"dataframe\">\n",
       "  <thead>\n",
       "    <tr style=\"text-align: right;\">\n",
       "      <th></th>\n",
       "      <th>associate</th>\n",
       "      <th>scientist</th>\n",
       "      <th>python</th>\n",
       "      <th>engineer</th>\n",
       "      <th>analyst</th>\n",
       "      <th>agile</th>\n",
       "    </tr>\n",
       "    <tr>\n",
       "      <th>state</th>\n",
       "      <th></th>\n",
       "      <th></th>\n",
       "      <th></th>\n",
       "      <th></th>\n",
       "      <th></th>\n",
       "      <th></th>\n",
       "    </tr>\n",
       "  </thead>\n",
       "  <tbody>\n",
       "    <tr>\n",
       "      <th>NSW</th>\n",
       "      <td>12</td>\n",
       "      <td>16</td>\n",
       "      <td>12</td>\n",
       "      <td>0</td>\n",
       "      <td>22</td>\n",
       "      <td>12</td>\n",
       "    </tr>\n",
       "    <tr>\n",
       "      <th>QLD</th>\n",
       "      <td>0</td>\n",
       "      <td>9</td>\n",
       "      <td>0</td>\n",
       "      <td>0</td>\n",
       "      <td>8</td>\n",
       "      <td>0</td>\n",
       "    </tr>\n",
       "    <tr>\n",
       "      <th>VIC</th>\n",
       "      <td>0</td>\n",
       "      <td>4</td>\n",
       "      <td>0</td>\n",
       "      <td>12</td>\n",
       "      <td>12</td>\n",
       "      <td>0</td>\n",
       "    </tr>\n",
       "  </tbody>\n",
       "</table>\n",
       "</div>"
      ],
      "text/plain": [
       "       associate  scientist  python  engineer  analyst  agile\n",
       "state                                                        \n",
       "NSW           12         16      12         0       22     12\n",
       "QLD            0          9       0         0        8      0\n",
       "VIC            0          4       0        12       12      0"
      ]
     },
     "execution_count": 58,
     "metadata": {},
     "output_type": "execute_result"
    }
   ],
   "source": [
    "#to see the importance of some job kewords for paid job over the median.\n",
    "c.loc[c['dumsal']>0].groupby(['state'])[predictors].sum()"
   ]
  },
  {
   "cell_type": "code",
   "execution_count": 59,
   "metadata": {},
   "outputs": [
    {
     "data": {
      "text/html": [
       "<div>\n",
       "<style scoped>\n",
       "    .dataframe tbody tr th:only-of-type {\n",
       "        vertical-align: middle;\n",
       "    }\n",
       "\n",
       "    .dataframe tbody tr th {\n",
       "        vertical-align: top;\n",
       "    }\n",
       "\n",
       "    .dataframe thead th {\n",
       "        text-align: right;\n",
       "    }\n",
       "</style>\n",
       "<table border=\"1\" class=\"dataframe\">\n",
       "  <thead>\n",
       "    <tr style=\"text-align: right;\">\n",
       "      <th></th>\n",
       "      <th>associate</th>\n",
       "      <th>scientist</th>\n",
       "      <th>python</th>\n",
       "      <th>engineer</th>\n",
       "      <th>analyst</th>\n",
       "      <th>agile</th>\n",
       "    </tr>\n",
       "    <tr>\n",
       "      <th>state</th>\n",
       "      <th></th>\n",
       "      <th></th>\n",
       "      <th></th>\n",
       "      <th></th>\n",
       "      <th></th>\n",
       "      <th></th>\n",
       "    </tr>\n",
       "  </thead>\n",
       "  <tbody>\n",
       "    <tr>\n",
       "      <th>NSW</th>\n",
       "      <td>0</td>\n",
       "      <td>95</td>\n",
       "      <td>12</td>\n",
       "      <td>11</td>\n",
       "      <td>309</td>\n",
       "      <td>0</td>\n",
       "    </tr>\n",
       "    <tr>\n",
       "      <th>Nan</th>\n",
       "      <td>0</td>\n",
       "      <td>0</td>\n",
       "      <td>0</td>\n",
       "      <td>0</td>\n",
       "      <td>23</td>\n",
       "      <td>0</td>\n",
       "    </tr>\n",
       "    <tr>\n",
       "      <th>QLD</th>\n",
       "      <td>0</td>\n",
       "      <td>19</td>\n",
       "      <td>0</td>\n",
       "      <td>0</td>\n",
       "      <td>28</td>\n",
       "      <td>0</td>\n",
       "    </tr>\n",
       "    <tr>\n",
       "      <th>VIC</th>\n",
       "      <td>9</td>\n",
       "      <td>36</td>\n",
       "      <td>0</td>\n",
       "      <td>0</td>\n",
       "      <td>1</td>\n",
       "      <td>0</td>\n",
       "    </tr>\n",
       "    <tr>\n",
       "      <th>WA</th>\n",
       "      <td>0</td>\n",
       "      <td>0</td>\n",
       "      <td>0</td>\n",
       "      <td>0</td>\n",
       "      <td>1</td>\n",
       "      <td>0</td>\n",
       "    </tr>\n",
       "  </tbody>\n",
       "</table>\n",
       "</div>"
      ],
      "text/plain": [
       "       associate  scientist  python  engineer  analyst  agile\n",
       "state                                                        \n",
       "NSW            0         95      12        11      309      0\n",
       "Nan            0          0       0         0       23      0\n",
       "QLD            0         19       0         0       28      0\n",
       "VIC            9         36       0         0        1      0\n",
       "WA             0          0       0         0        1      0"
      ]
     },
     "execution_count": 59,
     "metadata": {},
     "output_type": "execute_result"
    }
   ],
   "source": [
    "#to see the importance of some job kewords for paid job over the median in diferent states\n",
    "c.loc[c['dumsal']==0].groupby(['state'])[predictors].sum()"
   ]
  },
  {
   "cell_type": "code",
   "execution_count": 60,
   "metadata": {},
   "outputs": [
    {
     "data": {
      "text/plain": [
       "<matplotlib.axes._subplots.AxesSubplot at 0x15b8251e898>"
      ]
     },
     "execution_count": 60,
     "metadata": {},
     "output_type": "execute_result"
    },
    {
     "data": {
      "image/png": "[encoded data removed]",
      "text/plain": [
       "<matplotlib.figure.Figure at 0x15b815dda90>"
      ]
     },
     "metadata": {},
     "output_type": "display_data"
    }
   ],
   "source": [
    "#for both groups analyst and scientists have been used in the job titles\n",
    "c.groupby(['dumsal'])[predictors].sum().sort_values(by=predictors,ascending=False).plot(kind='bar',figsize=(16,8), fontsize=10)"
   ]
  },
  {
   "cell_type": "code",
   "execution_count": 61,
   "metadata": {},
   "outputs": [
    {
     "data": {
      "text/plain": [
       "dumsal  company                                   \n",
       "0               NSW Health Service                    47\n",
       "                IBM                                   38\n",
       "                JLL                                   25\n",
       "                 chill                                24\n",
       "                AllAssignmentHelp.com                 24\n",
       "                Australian Army                       24\n",
       "                Children's Cancer Institute           24\n",
       "                Kim & Associates                      24\n",
       "                Microsoft                             24\n",
       "                The Treasury                          24\n",
       "                Medius Health                         22\n",
       "                Avis Budget Group                     19\n",
       "                CareerHub                             19\n",
       "                Freelancer.com                        19\n",
       "                GWF                                   19\n",
       "                ISS                                   19\n",
       "                JB Hi-Fi                              19\n",
       "                Laureate Education                    19\n",
       "                Mintel Group                          19\n",
       "                Nearmap - AU                          19\n",
       "                Qatar Airways                         19\n",
       "                SECORA                                19\n",
       "                See-Mode Technologies                 19\n",
       "                Spotless                              19\n",
       "                Torrens University Australia          19\n",
       "                Trusty Tailz                          19\n",
       "                University of Wollongong              19\n",
       "                Peter MacCallum Cancer Centre         18\n",
       "                Colonial First State                  12\n",
       "                Limelight Consulting Group Pty Ltd    12\n",
       "                                                      ..\n",
       "                Monash Health                          1\n",
       "                NSW Public Service Commission          1\n",
       "                Nielsen                                1\n",
       "                Nine Entertainment                     1\n",
       "                Omnicom Group                          1\n",
       "                OpenText                               1\n",
       "                Perpetual                              1\n",
       "                Propeller Aero                         1\n",
       "                Quantium                               1\n",
       "                QuantumBlack                           1\n",
       "                ROKT                                   1\n",
       "                ResMed                                 1\n",
       "                SafetyCulture                          1\n",
       "                Seven West Media                       1\n",
       "                Smart Group                            1\n",
       "                The GPT Group                          1\n",
       "                Westcon-Comstor                        1\n",
       "1               Daisee                                24\n",
       "                Clear Recruitment                     12\n",
       "                Correlate Resources                   12\n",
       "                University of Melbourne               12\n",
       "                University of New South Wales         12\n",
       "                IBM                                   10\n",
       "                Queensl Rail                           8\n",
       "                CSIRO                                  5\n",
       "                Crypto Recruit                         1\n",
       "                Fulsearch                              1\n",
       "                Macquarie University                   1\n",
       "                TILTSTA                                1\n",
       "                Teradata                               1\n",
       "Name: company, Length: 104, dtype: int64"
      ]
     },
     "execution_count": 61,
     "metadata": {},
     "output_type": "execute_result"
    }
   ],
   "source": [
    "c.groupby(['dumsal'])['company'].value_counts()"
   ]
  },
  {
   "cell_type": "code",
   "execution_count": 62,
   "metadata": {},
   "outputs": [],
   "source": []
  },
  {
   "cell_type": "code",
   "execution_count": 65,
   "metadata": {},
   "outputs": [],
   "source": [
    "#completing a logistic regression model\n",
    "from sklearn.linear_model import LogisticRegression\n",
    "\n",
    "X=c[predictors]\n",
    "y = c.dumsal\n",
    "X_train, X_test, y_train, y_test = train_test_split(X, y, test_size=0.5)\n",
    "\n",
    "lr = LogisticRegression(penalty='l1', C=0.1, solver='liblinear')\n",
    "lr.fit(X_train, y_train)\n",
    "lr.score(X_test, y_test)\n",
    "#this is my concatonated score since it's high I'm only going to use  \n",
    "y_pred = lr.predict(X_test)"
   ]
  },
  {
   "cell_type": "code",
   "execution_count": 66,
   "metadata": {},
   "outputs": [
    {
     "name": "stdout",
     "output_type": "stream",
     "text": [
      "y_test       427\n",
      "y_predict    427\n",
      "dtype: int64 y_test= 486\n"
     ]
    }
   ],
   "source": [
    "df = pd.DataFrame(columns=['y_test','y_predict'])\n",
    "df.y_test=y_test\n",
    "df.y_predict=y_pred\n",
    "print(df[df['y_test']==df['y_predict']].count(),'y_test=',len(y_test))"
   ]
  },
  {
   "cell_type": "code",
   "execution_count": 67,
   "metadata": {},
   "outputs": [
    {
     "name": "stdout",
     "output_type": "stream",
     "text": [
      "Random Forrest Score:\t0.925 ± 0.012\n"
     ]
    }
   ],
   "source": [
    "#and a random forest classifier\n",
    "rf = RandomForestClassifier(class_weight='balanced')\n",
    "s = cross_val_score(rf, X, y, n_jobs=-1)\n",
    "print (\"{} Score:\\t{:0.3} ± {:0.3}\".format(\"Random Forrest\", s.mean().round(3), s.std().round(3)))"
   ]
  },
  {
   "cell_type": "code",
   "execution_count": 68,
   "metadata": {},
   "outputs": [
    {
     "name": "stdout",
     "output_type": "stream",
     "text": [
      "Cross-validated scores: [0.90184049 0.93865031 0.94444444 0.9382716  0.93167702 0.89440994]\n",
      "Cross-Predicted Accuracy: 0.9248971193415638\n"
     ]
    }
   ],
   "source": [
    "from sklearn.cross_validation import cross_val_score, cross_val_predict\n",
    "from sklearn import metrics\n",
    "# Perform 6-fold cross validation\n",
    "scores = cross_val_score(rf, X, y, cv=6)\n",
    "print (\"Cross-validated scores:\", scores)\n",
    "# Make cross validated predictions\n",
    "predictions = cross_val_predict(rf, X, y, cv=6)\n",
    "accuracy = metrics.accuracy_score(y, predictions)\n",
    "print (\"Cross-Predicted Accuracy:\", accuracy)\n",
    "#accuracy is high"
   ]
  },
  {
   "cell_type": "code",
   "execution_count": 69,
   "metadata": {},
   "outputs": [
    {
     "name": "stdout",
     "output_type": "stream",
     "text": [
      "[[427   0]\n",
      " [ 59   0]]\n"
     ]
    }
   ],
   "source": [
    "from sklearn.metrics import confusion_matrix\n",
    "confusion_matrix = confusion_matrix(y_test, y_pred)\n",
    "print(confusion_matrix)"
   ]
  },
  {
   "cell_type": "markdown",
   "metadata": {},
   "source": [
    "The result is telling us that we have 427 correct predictions and 59 incorrect predictions."
   ]
  },
  {
   "cell_type": "code",
   "execution_count": 71,
   "metadata": {},
   "outputs": [
    {
     "name": "stdout",
     "output_type": "stream",
     "text": [
      "Accuracy of logistic regression classifier on test set: 0.88\n"
     ]
    }
   ],
   "source": [
    "print('Accuracy of logistic regression classifier on test set: {:.2f}'.format(lr.score(X_test, y_test)))"
   ]
  },
  {
   "cell_type": "code",
   "execution_count": 72,
   "metadata": {},
   "outputs": [
    {
     "name": "stdout",
     "output_type": "stream",
     "text": [
      "             precision    recall  f1-score   support\n",
      "\n",
      "          0       0.88      1.00      0.94       427\n",
      "          1       0.00      0.00      0.00        59\n",
      "\n",
      "avg / total       0.77      0.88      0.82       486\n",
      "\n"
     ]
    },
    {
     "name": "stderr",
     "output_type": "stream",
     "text": [
      "C:\\Users\\Jasper\\Downloads\\download\\Anaconda\\lib\\site-packages\\sklearn\\metrics\\classification.py:1135: UndefinedMetricWarning: Precision and F-score are ill-defined and being set to 0.0 in labels with no predicted samples.\n",
      "  'precision', 'predicted', average, warn_for)\n"
     ]
    }
   ],
   "source": [
    "from sklearn.metrics import classification_report\n",
    "print(classification_report(y_test, y_pred))\n",
    "#all the results are promising"
   ]
  },
  {
   "cell_type": "code",
   "execution_count": 73,
   "metadata": {},
   "outputs": [
    {
     "data": {
      "text/plain": [
       "[(0.1363394145519007, 'associate'),\n",
       " (0.10064732466211887, 'scientist'),\n",
       " (0.1940855086514699, 'python'),\n",
       " (0.12371141275791482, 'engineer'),\n",
       " (0.1764877048637023, 'analyst'),\n",
       " (0.26872863451289347, 'agile')]"
      ]
     },
     "execution_count": 73,
     "metadata": {},
     "output_type": "execute_result"
    }
   ],
   "source": [
    "from sklearn.ensemble import ExtraTreesClassifier\n",
    "clf = ExtraTreesClassifier()\n",
    "clf = clf.fit(X, y)\n",
    "list(zip(clf.feature_importances_,X))\n",
    "#it seems all features are important and none of them was deleted by L1-seems agile is the most keyword"
   ]
  },
  {
   "cell_type": "code",
   "execution_count": 74,
   "metadata": {},
   "outputs": [],
   "source": [
    "#sending my final to a csv\n",
    "c.to_csv(\"data_job_title\" , sep=',', encoding='utf-8')"
   ]
  },
  {
   "cell_type": "code",
   "execution_count": null,
   "metadata": {},
   "outputs": [],
   "source": []
  }
 ],
 "metadata": {
  "kernelspec": {
   "display_name": "Python 3",
   "language": "python",
   "name": "python3"
  },
  "language_info": {
   "codemirror_mode": {
    "name": "ipython",
    "version": 3
   },
   "file_extension": ".py",
   "mimetype": "text/x-python",
   "name": "python",
   "nbconvert_exporter": "python",
   "pygments_lexer": "ipython3",
   "version": "3.6.4"
  }
 },
 "nbformat": 4,
 "nbformat_minor": 2
}
