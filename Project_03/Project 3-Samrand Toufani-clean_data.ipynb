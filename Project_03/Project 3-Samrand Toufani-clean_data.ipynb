{
 "cells": [
  {
   "cell_type": "code",
   "execution_count": 1,
   "metadata": {},
   "outputs": [
    {
     "name": "stdout",
     "output_type": "stream",
     "text": [
      "Collecting https://get.graphlab.com/GraphLab-Create/2.1/samrand.toufani@acu.edu.au/CD85-2E71-9EDD-ABA4-3097-FB97-501A-EBA3/GraphLab-Create-License.tar.gz\n",
      "  Downloading https://get.graphlab.com/GraphLab-Create/2.1/samrand.toufani@acu.edu.au/CD85-2E71-9EDD-ABA4-3097-FB97-501A-EBA3/GraphLab-Create-License.tar.gz\n",
      "Collecting graphlab-create>=2.1 (from GraphLab-Create-License==2.1)\n"
     ]
    },
    {
     "name": "stderr",
     "output_type": "stream",
     "text": [
      "  Could not find a version that satisfies the requirement graphlab-create>=2.1 (from GraphLab-Create-License==2.1) (from versions: )\n",
      "No matching distribution found for graphlab-create>=2.1 (from GraphLab-Create-License==2.1)\n"
     ]
    }
   ],
   "source": [
    "!pip install --upgrade --no-cache-dir https://get.graphlab.com/GraphLab-Create/2.1/samrand.toufani@acu.edu.au/CD85-2E71-9EDD-ABA4-3097-FB97-501A-EBA3/GraphLab-Create-License.tar.gz"
   ]
  },
  {
   "cell_type": "code",
   "execution_count": 2,
   "metadata": {},
   "outputs": [
    {
     "name": "stdout",
     "output_type": "stream",
     "text": [
      "Requirement already up-to-date: pip in c:\\users\\jasper\\downloads\\download\\anaconda\\lib\\site-packages (18.0)\n"
     ]
    }
   ],
   "source": [
    "!pip install --upgrade pip"
   ]
  },
  {
   "cell_type": "code",
   "execution_count": 3,
   "metadata": {},
   "outputs": [],
   "source": [
    "import requests, numpy as np\n",
    "import pandas as pd\n",
    "\n",
    "import numpy as np\n",
    "import seaborn as sns\n",
    "import matplotlib.pyplot as plt"
   ]
  },
  {
   "cell_type": "code",
   "execution_count": 4,
   "metadata": {},
   "outputs": [],
   "source": [
    "scrape_data=pd.read_csv('my_new_job.csv',index_col=[0])"
   ]
  },
  {
   "cell_type": "code",
   "execution_count": 5,
   "metadata": {},
   "outputs": [
    {
     "data": {
      "text/plain": [
       "(1029, 9)"
      ]
     },
     "execution_count": 5,
     "metadata": {},
     "output_type": "execute_result"
    }
   ],
   "source": [
    "#dropping any duplicate rows:\n",
    "scrape_data = scrape_data.drop_duplicates()\n",
    "scrape_data.reset_index(drop=True, inplace=True)\n",
    "scrape_data.shape"
   ]
  },
  {
   "cell_type": "markdown",
   "metadata": {},
   "source": [
    "# Cleaning Salary"
   ]
  },
  {
   "cell_type": "markdown",
   "metadata": {},
   "source": [
    "we need to get rid of these and “\\n” strings before we can go much further.\n",
    "\n",
    "On top of this, you’ll notice that salaries can be presented as single figures, or ranges, and that they can appear on different scales of payment — per year, per month, or per hour. I needed to take care of all of these items in the course of preparing my salary data for further analysis."
   ]
  },
  {
   "cell_type": "code",
   "execution_count": 6,
   "metadata": {},
   "outputs": [],
   "source": [
    "#some targeted cleaning of salary information to make parsing easier #—> remove “\\n”, “$”, and “,”\n",
    "scrape_data[\"salary\"] = scrape_data[\"salary\"].str.replace(\"\\r\\n\", \"\")\n",
    "#scrape_data[\"salary\"] = scrape_data[\"salary\"].str.replace(\"\\r\", \"\")\n",
    "scrape_data[\"salary\"] = scrape_data[\"salary\"].str.replace(\",\", \"\")\n",
    "scrape_data[\"salary\"] = scrape_data[\"salary\"].str.replace(\"$\", \"\")"
   ]
  },
  {
   "cell_type": "markdown",
   "metadata": {},
   "source": [
    "I did want to preserve information about these original pay scales for possible future use. As such, I created a new column of data to capture this. I called this new column “og_salary_period”:"
   ]
  },
  {
   "cell_type": "code",
   "execution_count": 7,
   "metadata": {},
   "outputs": [],
   "source": [
    "scrape_data[\"og_salary_period\"] = 0\n",
    "scrape_data[\"salary_year\"]=0\n",
    "scrape_data[\"salary_month\"]=0\n",
    "scrape_data[\"salary_week\"]=0\n",
    "scrape_data[\"salary_day\"]=0\n",
    "scrape_data[\"salary_hour\"]=0\n",
    "#if the salary contains information on time period, save that time\n",
    "#period string in the og_salary_period column"
   ]
  },
  {
   "cell_type": "code",
   "execution_count": 8,
   "metadata": {},
   "outputs": [],
   "source": [
    "mask=scrape_data.loc[scrape_data[\"salary\"].str.contains(\"year\")==True].index\n",
    "mask1=scrape_data.loc[scrape_data[\"salary\"].str.contains(\"month\")==True].index\n",
    "mask2=scrape_data.loc[scrape_data[\"salary\"].str.contains(\"week\")==True].index\n",
    "mask3=scrape_data.loc[scrape_data[\"salary\"].str.contains(\"day\")==True].index\n",
    "mask4=scrape_data.loc[scrape_data[\"salary\"].str.contains(\"hour\")==True].index\n"
   ]
  },
  {
   "cell_type": "code",
   "execution_count": 9,
   "metadata": {},
   "outputs": [
    {
     "name": "stderr",
     "output_type": "stream",
     "text": [
      "C:\\Users\\Jasper\\Downloads\\download\\Anaconda\\lib\\site-packages\\ipykernel_launcher.py:2: SettingWithCopyWarning: \n",
      "A value is trying to be set on a copy of a slice from a DataFrame\n",
      "\n",
      "See the caveats in the documentation: http://pandas.pydata.org/pandas-docs/stable/indexing.html#indexing-view-versus-copy\n",
      "  \n",
      "C:\\Users\\Jasper\\Downloads\\download\\Anaconda\\lib\\site-packages\\pandas\\core\\indexing.py:194: SettingWithCopyWarning: \n",
      "A value is trying to be set on a copy of a slice from a DataFrame\n",
      "\n",
      "See the caveats in the documentation: http://pandas.pydata.org/pandas-docs/stable/indexing.html#indexing-view-versus-copy\n",
      "  self._setitem_with_indexer(indexer, value)\n",
      "C:\\Users\\Jasper\\Downloads\\download\\Anaconda\\lib\\site-packages\\ipykernel_launcher.py:3: SettingWithCopyWarning: \n",
      "A value is trying to be set on a copy of a slice from a DataFrame\n",
      "\n",
      "See the caveats in the documentation: http://pandas.pydata.org/pandas-docs/stable/indexing.html#indexing-view-versus-copy\n",
      "  This is separate from the ipykernel package so we can avoid doing imports until\n"
     ]
    },
    {
     "data": {
      "text/plain": [
       "0                                            0\n",
       "1                                            0\n",
       "2                                            0\n",
       "3                                            0\n",
       "4                        60000 - 120000 a year\n",
       "5                                            0\n",
       "6                                            0\n",
       "7                                            0\n",
       "8                                            0\n",
       "9                                            0\n",
       "10                                           0\n",
       "11                                           0\n",
       "12                                           0\n",
       "13                       60000 - 120000 a year\n",
       "14                                           0\n",
       "15                                           0\n",
       "16                                           0\n",
       "17                                           0\n",
       "18                                           0\n",
       "19                                           0\n",
       "20                                           0\n",
       "21                                           0\n",
       "22                                           0\n",
       "23                                           0\n",
       "24                       60000 - 120000 a year\n",
       "25                                           0\n",
       "26                                           0\n",
       "27                                           0\n",
       "28                                           0\n",
       "29                                           0\n",
       "                         ...                  \n",
       "999                                          0\n",
       "1000                                         0\n",
       "1001                                         0\n",
       "1002                                         0\n",
       "1003                     70000 - 110000 a year\n",
       "1004                                         0\n",
       "1005                                         0\n",
       "1006                                         0\n",
       "1007                                         0\n",
       "1008                     97000 - 105000 a year\n",
       "1009                                         0\n",
       "1010                                         0\n",
       "1011                                         0\n",
       "1012                     95000 - 103000 a year\n",
       "1013                                         0\n",
       "1014                    109000 - 128000 a year\n",
       "1015                                         0\n",
       "1016                                         0\n",
       "1017                     73300 - 108400 a year\n",
       "1018                    200000 - 300000 a year\n",
       "1019                                         0\n",
       "1020                                         0\n",
       "1021                                         0\n",
       "1022                                         0\n",
       "1023                                         0\n",
       "1024                    100000 - 150000 a year\n",
       "1025                                         0\n",
       "1026                                         0\n",
       "1027                                         0\n",
       "1028                                         0\n",
       "Name: salary_year, Length: 1029, dtype: object"
      ]
     },
     "execution_count": 9,
     "metadata": {},
     "output_type": "execute_result"
    }
   ],
   "source": [
    "for i in mask:\n",
    "    scrape_data['og_salary_period'][i]='year'\n",
    "    scrape_data[\"salary_year\"][i]=scrape_data[\"salary\"][i]\n",
    "scrape_data[\"salary_year\"]"
   ]
  },
  {
   "cell_type": "code",
   "execution_count": 10,
   "metadata": {},
   "outputs": [],
   "source": [
    "for i in mask1:\n",
    "    scrape_data['og_salary_period'][i]='month'\n",
    "    scrape_data[\"salary_month\"][i]=scrape_data[\"salary\"][i]\n",
    "    "
   ]
  },
  {
   "cell_type": "code",
   "execution_count": 11,
   "metadata": {},
   "outputs": [
    {
     "name": "stderr",
     "output_type": "stream",
     "text": [
      "C:\\Users\\Jasper\\Downloads\\download\\Anaconda\\lib\\site-packages\\ipykernel_launcher.py:5: SettingWithCopyWarning: \n",
      "A value is trying to be set on a copy of a slice from a DataFrame\n",
      "\n",
      "See the caveats in the documentation: http://pandas.pydata.org/pandas-docs/stable/indexing.html#indexing-view-versus-copy\n",
      "  \"\"\"\n",
      "C:\\Users\\Jasper\\Downloads\\download\\Anaconda\\lib\\site-packages\\ipykernel_launcher.py:6: SettingWithCopyWarning: \n",
      "A value is trying to be set on a copy of a slice from a DataFrame\n",
      "\n",
      "See the caveats in the documentation: http://pandas.pydata.org/pandas-docs/stable/indexing.html#indexing-view-versus-copy\n",
      "  \n",
      "C:\\Users\\Jasper\\Downloads\\download\\Anaconda\\lib\\site-packages\\pandas\\core\\indexing.py:194: SettingWithCopyWarning: \n",
      "A value is trying to be set on a copy of a slice from a DataFrame\n",
      "\n",
      "See the caveats in the documentation: http://pandas.pydata.org/pandas-docs/stable/indexing.html#indexing-view-versus-copy\n",
      "  self._setitem_with_indexer(indexer, value)\n",
      "C:\\Users\\Jasper\\Downloads\\download\\Anaconda\\lib\\site-packages\\ipykernel_launcher.py:8: SettingWithCopyWarning: \n",
      "A value is trying to be set on a copy of a slice from a DataFrame\n",
      "\n",
      "See the caveats in the documentation: http://pandas.pydata.org/pandas-docs/stable/indexing.html#indexing-view-versus-copy\n",
      "  \n",
      "C:\\Users\\Jasper\\Downloads\\download\\Anaconda\\lib\\site-packages\\ipykernel_launcher.py:9: SettingWithCopyWarning: \n",
      "A value is trying to be set on a copy of a slice from a DataFrame\n",
      "\n",
      "See the caveats in the documentation: http://pandas.pydata.org/pandas-docs/stable/indexing.html#indexing-view-versus-copy\n",
      "  if __name__ == '__main__':\n"
     ]
    }
   ],
   "source": [
    "for i in mask2:\n",
    "    scrape_data['og_salary_period'][i]='week'\n",
    "    scrape_data[\"salary_week\"][i]=scrape_data[\"salary\"][i]\n",
    "for i in mask3:\n",
    "    scrape_data['og_salary_period'][i]='day'\n",
    "    scrape_data[\"salary_day\"][i]=scrape_data[\"salary\"][i]\n",
    "for i in mask4:\n",
    "    scrape_data['og_salary_period'][i]='hour'\n",
    "    scrape_data[\"salary_hour\"][i]=scrape_data[\"salary\"][i]"
   ]
  },
  {
   "cell_type": "code",
   "execution_count": 12,
   "metadata": {},
   "outputs": [
    {
     "data": {
      "text/plain": [
       "                60000 - 120000 a year     24\n",
       "                75000 - 80000 a year      19\n",
       "                42000 - 50500 a year      19\n",
       "                75000 - 100000 a year     19\n",
       "                65000 - 110000 a year     19\n",
       "                82110 a year              19\n",
       "                70000 - 80000 a year      19\n",
       "                22.50 an hour             19\n",
       "                120000 - 160000 a year    12\n",
       "                88171 - 95444 a year      12\n",
       "                750 a day                 12\n",
       "                91000 - 98000 a year      12\n",
       "                109620 a year              9\n",
       "                67562 - 90827 a year       9\n",
       "                64501 - 75731 a year       9\n",
       "                91435 a year               8\n",
       "                80000 - 90000 a year       2\n",
       "                109000 - 128000 a year     2\n",
       "                82281 - 88333 a year       1\n",
       "                200000 - 300000 a year     1\n",
       "                131000 - 145000 a year     1\n",
       "                97000 - 105000 a year      1\n",
       "                157080 a year              1\n",
       "                65000 - 75000 a year       1\n",
       "                70000 - 110000 a year      1\n",
       "                73300 - 108400 a year      1\n",
       "                100000 - 150000 a year     1\n",
       "                101877 - 120537 a year     1\n",
       "                95000 - 103000 a year      1\n",
       "Name: salary, dtype: int64"
      ]
     },
     "execution_count": 12,
     "metadata": {},
     "output_type": "execute_result"
    }
   ],
   "source": [
    "scrape_data[\"salary\"].value_counts()"
   ]
  },
  {
   "cell_type": "code",
   "execution_count": 13,
   "metadata": {},
   "outputs": [],
   "source": [
    "# removing string values(\" a year\", \" a week\", etc. from salary dfs)\n",
    "scrape_data[\"salary_year\"] = scrape_data[\"salary_year\"].str.replace(\"a year\", \"\")\n",
    "#scrape_data[\"salary_month\"] = scrape_data[\"salary_month\"].str.replace(\"a month\", \"\")\n",
    "#scrape_data[\"salary_week\"] = scrape_data[\"salary_week\"].str.replace(\"a week\", \"\")\n",
    "scrape_data[\"salary_day\"] = scrape_data[\"salary_day\"].str.replace(\"a day\", \"\")\n",
    "scrape_data[\"salary_hour\"] = scrape_data[\"salary_hour\"].str.replace(\"an hour\", \"\")\n"
   ]
  },
  {
   "cell_type": "markdown",
   "metadata": {},
   "source": [
    "Next, I defined a function that would detect when salary information was provided in a range (by looking for a hyphen in the data), and return an average of the two values. If there is no hyphen, it simply returns the single value as a float."
   ]
  },
  {
   "cell_type": "code",
   "execution_count": 14,
   "metadata": {},
   "outputs": [],
   "source": [
    "def remove_whitespace(x):\n",
    "    \"\"\"\n",
    "    Helper function to remove any blank space from a string\n",
    "    x: a string\n",
    "    \"\"\"\n",
    "    try:\n",
    "        # Remove spaces inside of the string\n",
    "        x = \"\".join(x.split())\n",
    "\n",
    "    except:\n",
    "        pass\n",
    "    return x\n",
    "\n",
    "scrape_data.salary_year = scrape_data.salary_year.apply(remove_whitespace)\n",
    "scrape_data.salary_day=scrape_data.salary_day.apply(remove_whitespace)\n",
    "scrape_data.salary_hour=scrape_data.salary_hour.apply(remove_whitespace)"
   ]
  },
  {
   "cell_type": "code",
   "execution_count": 15,
   "metadata": {},
   "outputs": [],
   "source": [
    "scrape_data.salary_year.replace('nan',0,inplace=True)\n",
    "scrape_data.salary_day.replace('nan',0,inplace=True)\n",
    "scrape_data.salary_hour.replace('nan',0,inplace=True)"
   ]
  },
  {
   "cell_type": "code",
   "execution_count": 16,
   "metadata": {},
   "outputs": [
    {
     "name": "stdout",
     "output_type": "stream",
     "text": [
      "salary_day:  750    12\n",
      "Name: salary_day, dtype: int64 \n",
      " salary_hour  22.50    19\n",
      "Name: salary_hour, dtype: int64\n"
     ]
    }
   ],
   "source": [
    "print('salary_day: ',scrape_data.salary_day.value_counts(),'\\n salary_hour ',scrape_data.salary_hour.value_counts())"
   ]
  },
  {
   "cell_type": "code",
   "execution_count": 17,
   "metadata": {},
   "outputs": [],
   "source": [
    "scrape_data[['salary_day','salary_hour']] = scrape_data[['salary_day','salary_hour']].astype(float)\n",
    "scrape_data[\"salary_day\"]=scrape_data[\"salary_day\"]*260\n",
    "scrape_data[\"salary_hour\"]=scrape_data[\"salary_hour\"]*8*260"
   ]
  },
  {
   "cell_type": "code",
   "execution_count": 18,
   "metadata": {},
   "outputs": [],
   "source": [
    "#splitting my salaries to find an average\n",
    "\n",
    "scrape_data[\"salary_year\"]=scrape_data[\"salary_year\"].str.split('-',2)\n"
   ]
  },
  {
   "cell_type": "code",
   "execution_count": 19,
   "metadata": {},
   "outputs": [],
   "source": [
    "scrape_data['lower'] = scrape_data['salary_year'].str[0].astype('float')\n",
    "scrape_data['upper'] = scrape_data['salary_year'].str[1].astype('float')\n",
    "scrape_data['avg'] = scrape_data[['lower','upper']].mean(axis=1)\n",
    "#finding an average salary\n",
    "    \n",
    " "
   ]
  },
  {
   "cell_type": "code",
   "execution_count": 20,
   "metadata": {},
   "outputs": [
    {
     "data": {
      "text/plain": [
       " Reserve                                                 24\n",
       " Java/C/C++/PHP                                          24\n",
       "2018                                                     24\n",
       " Fast Growing Startup                                    24\n",
       "time or Job Share) Technology Solutions Professional     23\n",
       " Medical Image Analysis                                  20\n",
       " Sydney Airport ABG                                      19\n",
       "time Casual Dog Walker                                   19\n",
       " 1 years fixed term hire                                 19\n",
       " FIFO                                                    19\n",
       " Big Data / Machine Learning                             12\n",
       " AI, Machine Learning, Innovation                        12\n",
       " Plant Development                                       12\n",
       " Customer Analytics                                      12\n",
       "based)                                                   11\n",
       " Site Reliability Enginee...                             11\n",
       " Intern                                                  11\n",
       " Internship                                              11\n",
       " Fixed Term 12 months                                     9\n",
       " 12 months fixed term contract                            9\n",
       " BUSINESS INTELLIGENCE (12 MTHS MTC)                      9\n",
       " June 2019 Intake                                         1\n",
       " Industrials                                              1\n",
       " Sydney (ANL/ASO)                                         1\n",
       " Computer Vision for 3D                                   1\n",
       " Machine Learning                                         1\n",
       " Sydney                                                   1\n",
       " Analytics                                                1\n",
       " ANZ                                                      1\n",
       " 1year Fixed Term Contract                                1\n",
       "Name: job_title, dtype: int64"
      ]
     },
     "execution_count": 20,
     "metadata": {},
     "output_type": "execute_result"
    }
   ],
   "source": [
    "scrape_data[\"job_title\"].str.split('-',2).str[1].value_counts()"
   ]
  },
  {
   "cell_type": "code",
   "execution_count": 21,
   "metadata": {},
   "outputs": [],
   "source": [
    "scrape_data[\"job_title\"] = scrape_data[\"job_title\"].str.replace(\"22-2018 - APS Level 6 - Executive Level 1 - Budget Analyst,...\", \"Budget Analyst\")\n",
    "scrape_data[\"job_title\"] = scrape_data[\"job_title\"].str.replace(\"(Part-time or Job Share)\", \"\")\n",
    "list1=[\"(freelance / part time) \",\"(\", \") \",\"- June 2019 Intake\",\"Part Time\",\"- 1year Fixed Term Contract - Sydney \",\"-\",\"Part Time\",\"Reserve\",\"Sydney\",\"(Sydney)\"]\n",
    "scrape_data[\"job_title\"].replace(list1, \"\") \n",
    "scrape_data[\"job_title\"] = scrape_data[\"job_title\"].str.replace(\"(\", \"\")\n",
    "scrape_data[\"job_title\"] = scrape_data[\"job_title\"].str.replace(\")\", \"\")"
   ]
  },
  {
   "cell_type": "code",
   "execution_count": 22,
   "metadata": {},
   "outputs": [
    {
     "data": {
      "text/plain": [
       "Data Scientist                                                     46\n",
       "Business Intelligence Analyst                                      33\n",
       "Data Analyst                                                       26\n",
       "Property Analyst                                                   24\n",
       "Advanced Trainee                                                   24\n",
       "Operations Analyst - Fast Growing Startup                          24\n",
       "Pathologist and Research Scientist - Reserve                       24\n",
       "Technical Marketing Content Writer freelance / part time           24\n",
       "Budget Analyst                                                     24\n",
       "Programming Geek - Java/C/C++/PHP                                  24\n",
       "Business Analyst Process Improvement Professional                  24\n",
       "Executive Interviewer – Part Time                                  24\n",
       "Provisional Fellow                                                 23\n",
       " Technology Solutions Professional -...                            23\n",
       "Airport Services Agent 9 months contract                           19\n",
       "Machine Learning- Medical Image Analysis                           19\n",
       "Passenger Attendant                                                19\n",
       "Supply Chain & Procurement Business Analyst                        19\n",
       "Chocolate moulding                                                 19\n",
       "Data Scientist/Analyst Programmer                                  19\n",
       "Minesite Cleaner - FIFO                                            19\n",
       "Business AnalystCards & Payment - 1 years fixed term hire -...     19\n",
       "Junior Data Analyst                                                19\n",
       "Student Administration Officer                                     19\n",
       "BUSINESS INTELLIGENCE ANALYST                                      19\n",
       "Business Intelligence Data Modeller and ETL                        19\n",
       "Full-time Casual Dog Walker                                        19\n",
       "Consumer Research Data Analyst, ANZ                                19\n",
       "Airport Manager - Sydney Airport ABG - NSW Sydney Airport          19\n",
       "Pick Packer                                                        19\n",
       "                                                                   ..\n",
       "Research and Consumer Insights Analyst                              1\n",
       "Business Data Analyst                                               1\n",
       "Statistician / Data Analyst                                         1\n",
       "Business Intelligence Data Analyst                                  1\n",
       "Customer Insights and Data Analyst                                  1\n",
       "Equities Research Analyst - Industrials                             1\n",
       "Junior Quantitative Researcher - Machine Learning                   1\n",
       "Intelligence Officer - June 2019 Intake                             1\n",
       "Research Scientist - Computer Vision for 3D                         1\n",
       "Data Scientist - 1year Fixed Term Contract - Sydney                 1\n",
       "Data Scientist Australia                                            1\n",
       "Data and Reporting Analyst                                          1\n",
       "Administrator and Data Analyst                                      1\n",
       "Data Insights Analyst                                               1\n",
       "Retailer Data Analyst                                               1\n",
       "IBM Research Scientist – Distributed Ledger Technologies DL...      1\n",
       "Data Warehouse Analyst                                              1\n",
       "Master Data Analyst                                                 1\n",
       "Senior Research Scientist in Data Science                           1\n",
       "Data Scientist - Analytics                                          1\n",
       "Research Scientist - Medical Image Analysis                         1\n",
       "ERP data analyst                                                    1\n",
       "Data and Business Intelligence Specialist                           1\n",
       "Principal Research Scientist in Data Science                        1\n",
       "Research Analyst Gaming                                             1\n",
       "Senior Research Scientist in Data Survey Design, Integration...     1\n",
       "Senior Data Analyst/Scientist                                       1\n",
       "Data Scientist / Machine Learning blockchain                        1\n",
       "Research Analyst, Banks - Sydney ANL/ASO                            1\n",
       "Data & Applied Scientist                                            1\n",
       "Name: job_title, Length: 99, dtype: int64"
      ]
     },
     "execution_count": 22,
     "metadata": {},
     "output_type": "execute_result"
    }
   ],
   "source": [
    "scrape_data.job_title.value_counts()"
   ]
  },
  {
   "cell_type": "code",
   "execution_count": 23,
   "metadata": {},
   "outputs": [
    {
     "data": {
      "text/plain": [
       "0                     Pathologist and Research Scientist \n",
       "1       Business Analyst Process Improvement Professional\n",
       "2                                     Operations Analyst \n",
       "3                                        Property Analyst\n",
       "4       Technical Marketing Content Writer freelance /...\n",
       "5                                       Programming Geek \n",
       "6                                        Advanced Trainee\n",
       "7                       Executive Interviewer – Part Time\n",
       "8                                          Budget Analyst\n",
       "9                     Pathologist and Research Scientist \n",
       "10      Business Analyst Process Improvement Professional\n",
       "11                                    Operations Analyst \n",
       "12                                       Property Analyst\n",
       "13      Technical Marketing Content Writer freelance /...\n",
       "14                                      Programming Geek \n",
       "15                                       Advanced Trainee\n",
       "16                      Executive Interviewer – Part Time\n",
       "17                                         Budget Analyst\n",
       "18                                     Provisional Fellow\n",
       "19                     Technology Solutions Professional \n",
       "20                    Pathologist and Research Scientist \n",
       "21      Business Analyst Process Improvement Professional\n",
       "22                                    Operations Analyst \n",
       "23                                       Property Analyst\n",
       "24      Technical Marketing Content Writer freelance /...\n",
       "25                                      Programming Geek \n",
       "26                                       Advanced Trainee\n",
       "27                      Executive Interviewer – Part Time\n",
       "28                                         Budget Analyst\n",
       "29                                     Provisional Fellow\n",
       "                              ...                        \n",
       "999                          Business Operations Analyst \n",
       "1000                                       Data Scientist\n",
       "1001                             Data & Applied Scientist\n",
       "1002                             Data Scientist Australia\n",
       "1003    Data Scientist, Google Analytics / Mixpanel ex...\n",
       "1004                                Retailer Data Analyst\n",
       "1005                        Business Intelligence Analyst\n",
       "1006                          Research & Insights Analyst\n",
       "1007                                       Data Scientist\n",
       "1008                                  Research Scientist \n",
       "1009                                     Research Analyst\n",
       "1010                                Data Scientist Sydney\n",
       "1011                               Data Warehouse Analyst\n",
       "1012                                  Research Scientist \n",
       "1013                       Junior Data Fulfilment Analyst\n",
       "1014    Senior Research Scientist in Data Survey Desig...\n",
       "1015                   Business Intelligence Data Analyst\n",
       "1016                       Administrator and Data Analyst\n",
       "1017                                       Data Scientist\n",
       "1018                           Equities Research Analyst \n",
       "1019                  Analytics Analyst, Data & Platforms\n",
       "1020                                       Data Scientist\n",
       "1021                                Data Insights Analyst\n",
       "1022                             Research Analyst, Banks \n",
       "1023                              Research Analyst Gaming\n",
       "1024         Data Scientist / Machine Learning blockchain\n",
       "1025                                         Data Analyst\n",
       "1026                          Bureau Data Quality Analyst\n",
       "1027                           Data and Reporting Analyst\n",
       "1028                                        Data Analyst \n",
       "Name: job_title, Length: 1029, dtype: object"
      ]
     },
     "execution_count": 23,
     "metadata": {},
     "output_type": "execute_result"
    }
   ],
   "source": [
    "#Technology Solutions Professional\n",
    "scrape_data[\"job_title\"].str.split('-',2).str[0]"
   ]
  },
  {
   "cell_type": "code",
   "execution_count": 24,
   "metadata": {},
   "outputs": [],
   "source": [
    "scrape_data[\"job_title\"]=scrape_data[\"job_title\"].str.split('-',2).str[0]"
   ]
  },
  {
   "cell_type": "code",
   "execution_count": 25,
   "metadata": {},
   "outputs": [
    {
     "data": {
      "text/plain": [
       "195000.0    12\n",
       "Name: salary_day, dtype: int64"
      ]
     },
     "execution_count": 25,
     "metadata": {},
     "output_type": "execute_result"
    }
   ],
   "source": [
    "scrape_data[\"salary_day\"].value_counts()"
   ]
  },
  {
   "cell_type": "code",
   "execution_count": 26,
   "metadata": {},
   "outputs": [
    {
     "data": {
      "text/plain": [
       "69     46800.0\n",
       "89     46800.0\n",
       "118    46800.0\n",
       "148    46800.0\n",
       "180    46800.0\n",
       "213    46800.0\n",
       "263    46800.0\n",
       "296    46800.0\n",
       "336    46800.0\n",
       "385    46800.0\n",
       "436    46800.0\n",
       "495    46800.0\n",
       "556    46800.0\n",
       "617    46800.0\n",
       "678    46800.0\n",
       "739    46800.0\n",
       "800    46800.0\n",
       "861    46800.0\n",
       "922    46800.0\n",
       "Name: salary_hour, dtype: float64"
      ]
     },
     "execution_count": 26,
     "metadata": {},
     "output_type": "execute_result"
    }
   ],
   "source": [
    "scrape_data[\"salary_hour\"][mask4]"
   ]
  },
  {
   "cell_type": "code",
   "execution_count": 27,
   "metadata": {},
   "outputs": [
    {
     "name": "stderr",
     "output_type": "stream",
     "text": [
      "C:\\Users\\Jasper\\Downloads\\download\\Anaconda\\lib\\site-packages\\ipykernel_launcher.py:2: SettingWithCopyWarning: \n",
      "A value is trying to be set on a copy of a slice from a DataFrame\n",
      "\n",
      "See the caveats in the documentation: http://pandas.pydata.org/pandas-docs/stable/indexing.html#indexing-view-versus-copy\n",
      "  \n"
     ]
    },
    {
     "data": {
      "text/plain": [
       "69     46800.0\n",
       "89     46800.0\n",
       "118    46800.0\n",
       "148    46800.0\n",
       "180    46800.0\n",
       "213    46800.0\n",
       "263    46800.0\n",
       "296    46800.0\n",
       "336    46800.0\n",
       "385    46800.0\n",
       "436    46800.0\n",
       "495    46800.0\n",
       "556    46800.0\n",
       "617    46800.0\n",
       "678    46800.0\n",
       "739    46800.0\n",
       "800    46800.0\n",
       "861    46800.0\n",
       "922    46800.0\n",
       "Name: avg, dtype: float64"
      ]
     },
     "execution_count": 27,
     "metadata": {},
     "output_type": "execute_result"
    }
   ],
   "source": [
    "for i in mask4:\n",
    "    scrape_data['avg'][i] = 46800\n",
    "scrape_data['avg'][mask4] #bring back the calclculated salary per hour to year to salary_avg"
   ]
  },
  {
   "cell_type": "code",
   "execution_count": 28,
   "metadata": {},
   "outputs": [
    {
     "name": "stderr",
     "output_type": "stream",
     "text": [
      "C:\\Users\\Jasper\\Downloads\\download\\Anaconda\\lib\\site-packages\\ipykernel_launcher.py:2: SettingWithCopyWarning: \n",
      "A value is trying to be set on a copy of a slice from a DataFrame\n",
      "\n",
      "See the caveats in the documentation: http://pandas.pydata.org/pandas-docs/stable/indexing.html#indexing-view-versus-copy\n",
      "  \n"
     ]
    },
    {
     "data": {
      "text/plain": [
       "313    195000.0\n",
       "353    195000.0\n",
       "402    195000.0\n",
       "453    195000.0\n",
       "512    195000.0\n",
       "573    195000.0\n",
       "634    195000.0\n",
       "695    195000.0\n",
       "756    195000.0\n",
       "817    195000.0\n",
       "878    195000.0\n",
       "939    195000.0\n",
       "Name: avg, dtype: float64"
      ]
     },
     "execution_count": 28,
     "metadata": {},
     "output_type": "execute_result"
    }
   ],
   "source": [
    "for i in mask3:\n",
    "    scrape_data[\"avg\"][i]= 195000\n",
    "scrape_data['avg'][mask3]"
   ]
  },
  {
   "cell_type": "code",
   "execution_count": 29,
   "metadata": {},
   "outputs": [
    {
     "data": {
      "text/plain": [
       "87500.0     38\n",
       "90000.0     25\n",
       "82110.0     19\n",
       "46250.0     19\n",
       "46800.0     19\n",
       "77500.0     19\n",
       "75000.0     19\n",
       "195000.0    12\n",
       "94500.0     12\n",
       "91807.5     12\n",
       "140000.0    12\n",
       "70116.0      9\n",
       "109620.0     9\n",
       "79194.5      9\n",
       "91435.0      8\n",
       "118500.0     2\n",
       "85000.0      2\n",
       "138000.0     1\n",
       "125000.0     1\n",
       "111207.0     1\n",
       "99000.0      1\n",
       "90850.0      1\n",
       "250000.0     1\n",
       "85307.0      1\n",
       "101000.0     1\n",
       "70000.0      1\n",
       "157080.0     1\n",
       "Name: avg, dtype: int64"
      ]
     },
     "execution_count": 29,
     "metadata": {},
     "output_type": "execute_result"
    }
   ],
   "source": [
    "scrape_data [\"avg\"].value_counts()                                     "
   ]
  },
  {
   "cell_type": "markdown",
   "metadata": {},
   "source": [
    "# Cleaning State"
   ]
  },
  {
   "cell_type": "code",
   "execution_count": 30,
   "metadata": {},
   "outputs": [],
   "source": [
    "scrape_data[\"city\"]=scrape_data[\"city\"].replace(\"Australia\",\" Sydney NSW\")"
   ]
  },
  {
   "cell_type": "code",
   "execution_count": 31,
   "metadata": {},
   "outputs": [],
   "source": [
    "#to create a column for state and replaces the null values of rows with state's name\n",
    "\n",
    "mask_NSW=scrape_data.loc[scrape_data[\"city\"].str.contains(\"NSW\")==True].index\n",
    "mask_VIC=scrape_data.loc[scrape_data[\"city\"].str.contains(\"VIC\")==True].index\n",
    "mask_QLD=scrape_data.loc[scrape_data[\"city\"].str.contains(\"QLD\")==True].index\n",
    "mask_ACT=scrape_data.loc[scrape_data[\"city\"].str.contains(\"ACT\")==True].index\n",
    "mask_WA=scrape_data.loc[scrape_data[\"city\"].str.contains(\"WA\")==True].index\n"
   ]
  },
  {
   "cell_type": "code",
   "execution_count": 32,
   "metadata": {},
   "outputs": [
    {
     "name": "stderr",
     "output_type": "stream",
     "text": [
      "C:\\Users\\Jasper\\Downloads\\download\\Anaconda\\lib\\site-packages\\ipykernel_launcher.py:2: SettingWithCopyWarning: \n",
      "A value is trying to be set on a copy of a slice from a DataFrame\n",
      "\n",
      "See the caveats in the documentation: http://pandas.pydata.org/pandas-docs/stable/indexing.html#indexing-view-versus-copy\n",
      "  \n",
      "C:\\Users\\Jasper\\Downloads\\download\\Anaconda\\lib\\site-packages\\ipykernel_launcher.py:4: SettingWithCopyWarning: \n",
      "A value is trying to be set on a copy of a slice from a DataFrame\n",
      "\n",
      "See the caveats in the documentation: http://pandas.pydata.org/pandas-docs/stable/indexing.html#indexing-view-versus-copy\n",
      "  after removing the cwd from sys.path.\n",
      "C:\\Users\\Jasper\\Downloads\\download\\Anaconda\\lib\\site-packages\\ipykernel_launcher.py:6: SettingWithCopyWarning: \n",
      "A value is trying to be set on a copy of a slice from a DataFrame\n",
      "\n",
      "See the caveats in the documentation: http://pandas.pydata.org/pandas-docs/stable/indexing.html#indexing-view-versus-copy\n",
      "  \n",
      "C:\\Users\\Jasper\\Downloads\\download\\Anaconda\\lib\\site-packages\\ipykernel_launcher.py:8: SettingWithCopyWarning: \n",
      "A value is trying to be set on a copy of a slice from a DataFrame\n",
      "\n",
      "See the caveats in the documentation: http://pandas.pydata.org/pandas-docs/stable/indexing.html#indexing-view-versus-copy\n",
      "  \n",
      "C:\\Users\\Jasper\\Downloads\\download\\Anaconda\\lib\\site-packages\\ipykernel_launcher.py:10: SettingWithCopyWarning: \n",
      "A value is trying to be set on a copy of a slice from a DataFrame\n",
      "\n",
      "See the caveats in the documentation: http://pandas.pydata.org/pandas-docs/stable/indexing.html#indexing-view-versus-copy\n",
      "  # Remove the CWD from sys.path while we load stuff.\n"
     ]
    }
   ],
   "source": [
    "for i in mask_NSW:\n",
    "    scrape_data['state'][i]='NSW'\n",
    "for i in mask_VIC:\n",
    "    scrape_data['state'][i]='VIC'\n",
    "for i in mask_QLD:\n",
    "    scrape_data['state'][i]='QLD'\n",
    "for i in mask_ACT:\n",
    "    scrape_data['state'][i]='NSW'\n",
    "for i in mask_WA:\n",
    "    scrape_data['state'][i]='WA'   \n",
    "    "
   ]
  },
  {
   "cell_type": "code",
   "execution_count": 33,
   "metadata": {},
   "outputs": [
    {
     "data": {
      "text/plain": [
       "NSW    853\n",
       "VIC     96\n",
       "Nan     42\n",
       "QLD     37\n",
       "WA       1\n",
       "Name: state, dtype: int64"
      ]
     },
     "execution_count": 33,
     "metadata": {},
     "output_type": "execute_result"
    }
   ],
   "source": [
    "scrape_data.state.value_counts()"
   ]
  },
  {
   "cell_type": "code",
   "execution_count": 34,
   "metadata": {},
   "outputs": [],
   "source": [
    "#some targeted cleaning of company information to make parsing easier #—> remove “\\r\\n\"\n",
    "scrape_data[\"company\"] = scrape_data[\"company\"].str.replace(\"\\r\\n\", \"\")\n",
    "scrape_data[\"job_description\"] = scrape_data[\"job_description\"].str.replace(\"\\r\\n\", \"\")\n",
    "scrape_data[\"company\"] = scrape_data[\"company\"].str.replace(\"and\", \"\")"
   ]
  },
  {
   "cell_type": "code",
   "execution_count": 35,
   "metadata": {},
   "outputs": [],
   "source": [
    "#dropping columns so I'm only left with average column\n",
    "scrape_data=scrape_data.drop(columns=['salary_category', 'city','salary','date','lower','upper','salary_year'],axis=1)"
   ]
  },
  {
   "cell_type": "code",
   "execution_count": 36,
   "metadata": {},
   "outputs": [],
   "source": [
    "#dropping columns so I'm only left with average column\n",
    "scrape_data=scrape_data.drop(columns=['salary_month','salary_week','og_salary_period','salary_day','salary_hour'],axis=1)"
   ]
  },
  {
   "cell_type": "code",
   "execution_count": 37,
   "metadata": {},
   "outputs": [],
   "source": [
    "scrape_data=scrape_data.drop(columns=['job_type'],axis=1)"
   ]
  },
  {
   "cell_type": "code",
   "execution_count": 38,
   "metadata": {},
   "outputs": [],
   "source": [
    "#fillout the null values with median for salary\n",
    "scrape_data.avg=scrape_data.avg.fillna(scrape_data.avg.median())\n",
    "\n"
   ]
  },
  {
   "cell_type": "code",
   "execution_count": 39,
   "metadata": {},
   "outputs": [],
   "source": [
    "#deleting jobs that are non related\n",
    "scrape_data=scrape_data[scrape_data.job_title!='Chocolate moulding']\n",
    "scrape_data=scrape_data[scrape_data.job_title!='Airport Services Agent (9 months contract)']\n",
    "scrape_data=scrape_data[scrape_data.job_title!='Passenger Attendant']\n",
    "scrape_data=scrape_data[scrape_data.job_title!='Full-time Casual Dog Walker']\n",
    "scrape_data=scrape_data[scrape_data.job_title!='Airport Manager']  \n",
    "scrape_data=scrape_data[scrape_data.job_title!='Storepeople (Stock Inventory)']  \n",
    "scrape_data=scrape_data[scrape_data.job_title!='Pick Packer'] \n",
    "\n"
   ]
  },
  {
   "cell_type": "code",
   "execution_count": 40,
   "metadata": {},
   "outputs": [
    {
     "data": {
      "text/plain": [
       "(972, 5)"
      ]
     },
     "execution_count": 40,
     "metadata": {},
     "output_type": "execute_result"
    }
   ],
   "source": [
    "scrape_data.shape"
   ]
  },
  {
   "cell_type": "markdown",
   "metadata": {},
   "source": [
    "# Save my results as a CSV"
   ]
  },
  {
   "cell_type": "code",
   "execution_count": 41,
   "metadata": {},
   "outputs": [],
   "source": [
    "#saving my clean salary data to a csv\n",
    "scrape_data.to_csv(\"Pythonclean_salary.csv\" , sep=',', encoding='utf-8')"
   ]
  },
  {
   "cell_type": "markdown",
   "metadata": {},
   "source": [
    "Predicting salaries using Random Forests + Another Classifier"
   ]
  },
  {
   "cell_type": "code",
   "execution_count": 42,
   "metadata": {},
   "outputs": [],
   "source": [
    "data=pd.read_csv(\"Pythonclean_salary.csv\",index_col=0)"
   ]
  },
  {
   "cell_type": "markdown",
   "metadata": {},
   "source": [
    "I want to predict a binary variable - whether the salary was low or high. Compute the median salary and create a new binary variable that is true when the salary is high (above the median)¶\n",
    "I could also perform Linear Regression (or any regression) to predict the salary value here. Instead, we are going to convert this into a binary classification problem, by predicting two classes, HIGH vs LOW salary.\n",
    "\n",
    "H0: there is no difference between low and high salary receivers in terms of tools and expereince applicants need to know \n",
    "Hi1: There is a big difference between between low and high salary receivers in terms of tools and expereince applicants need to know  \n",
    "\n"
   ]
  },
  {
   "cell_type": "code",
   "execution_count": 43,
   "metadata": {},
   "outputs": [
    {
     "name": "stdout",
     "output_type": "stream",
     "text": [
      "87500.0\n"
     ]
    }
   ],
   "source": [
    "#finding the median\n",
    "import numpy as np\n",
    "median = np.median(data.avg)\n",
    "print (median)"
   ]
  },
  {
   "cell_type": "code",
   "execution_count": 44,
   "metadata": {},
   "outputs": [
    {
     "data": {
      "text/plain": [
       "0    872\n",
       "1    100\n",
       "Name: dumsal, dtype: int64"
      ]
     },
     "execution_count": 44,
     "metadata": {},
     "output_type": "execute_result"
    }
   ],
   "source": [
    "data['dumsal'] = (data[\"avg\"] > data[\"avg\"].median()).astype(int)\n",
    "\n",
    "data.dumsal.value_counts()\n",
    "#inorder to find high and low income earne jobs, I create a dummy column which return 1 if the salary over the average and 0 if it is lower than average"
   ]
  },
  {
   "cell_type": "code",
   "execution_count": 45,
   "metadata": {},
   "outputs": [
    {
     "data": {
      "text/plain": [
       "<matplotlib.axes._subplots.AxesSubplot at 0x25d0010b7f0>"
      ]
     },
     "execution_count": 45,
     "metadata": {},
     "output_type": "execute_result"
    },
    {
     "data": {
      "image/png": "[encoded data removed]",
      "text/plain": [
       "<matplotlib.figure.Figure at 0x25d000f1c88>"
      ]
     },
     "metadata": {},
     "output_type": "display_data"
    }
   ],
   "source": [
    "data.loc[data['dumsal']>0].groupby(['state']).dumsal.sum().plot(kind='bar') #majority of the high income jobs are in NSW"
   ]
  },
  {
   "cell_type": "code",
   "execution_count": 46,
   "metadata": {},
   "outputs": [],
   "source": [
    "from sklearn.feature_extraction.text import CountVectorizer\n",
    "from sklearn.model_selection import cross_val_score, cross_val_predict\n",
    "from sklearn import metrics\n",
    "from sklearn.model_selection import train_test_split\n",
    "from sklearn import linear_model\n",
    "from sklearn.linear_model import LogisticRegression"
   ]
  },
  {
   "cell_type": "code",
   "execution_count": 47,
   "metadata": {},
   "outputs": [],
   "source": [
    "from sklearn.feature_extraction.text import CountVectorizer\n",
    "cvec = CountVectorizer()\n",
    "X = data.job_description\n",
    "y = data.dumsal\n",
    "X_train, X_test, y_train, y_test = train_test_split(X, y, test_size=0.33)"
   ]
  },
  {
   "cell_type": "code",
   "execution_count": 48,
   "metadata": {},
   "outputs": [],
   "source": [
    "list_stop_words=['english','term','payment','store','external','homes','professionals',\n",
    "                 'opening','2018','pearl','we','and','currently','one','that','they','pick','july','fixed','will','information','tourist','2600','destination','nsw','days','coast','where','partner','up','in','or','on','ensuring','join','shell','area','specialist','operational','to','00am','from','dogs','retail','park','sqm','centre','payments','cards','closely','plant','be','undertake','them','of','manufacturing','off','you','hire','which','per','their','able','for','the','week','30','similar','work','are','take','include','areas','an','as','is','outputs','at','position','is','with','initiate','our','agencies','duties','ensure','require','other','by','about','looking','year','recruiting','these','these','process','sydney','within','exciting','these','teams','conduct','verification','strategic','responsible','central','run',\n",
    "                 'help','can','skills','qualification','recognition','evaluation','provide',\n",
    "                 'end','analysts','required','suite','including',\n",
    "                 'job','business','implementation','development','analytics',\n",
    "                 'lgbti','time','criteria','computer','facilitate','learning',\n",
    "                 'client','related','ability','improvement','value','have','also',\n",
    "                 'how','opportunity','junior','12','concepts','numbers',\n",
    "                 'processing','manage','manipulation','qualifaction','team','products',\n",
    "                 'chief','high','teaching','pattern','month','apply','into','depth','large',\n",
    "                 'contract','change','advanced','lead','skill','meet','perform',\n",
    "                 'key','understanding','qualification','months','appropriate',\n",
    "                 'years','insight','complex','minimum','proven','system','function','below',\n",
    "                'working','product','need','group','extensive','obtain','ll','there','efficient',\n",
    "                 'training','engineering','stock','quality','performs','services','following','transformed',\n",
    "                'torres','strong','purpose','desdcription','ai','based','decisions','deliver','successful',\n",
    "                'this','field','devops','growing','respond','positions','queries','then','qualifications',\n",
    "                 'integrated','but','staff','assigned','medical','prompted','incoming','management','quantitative','science','strategy','lifecycle','projects'\n",
    "                ,'research','analysis','technical','selection','roles','writers','heavily','who','part','now','regularly','economic'\n",
    "                'after','if','division','taking','out','groups','variety','market','financial','passionate','after','substantial','role'\n",
    "                'particiaption','spotless','developing','officer','requests','systems','description','sets','description'\n",
    "                'corporate','application','participation','diverse','mintel','focussed','staff','corporate','background','fill','45',\n",
    "                'role','interviews','identify','created','driven','candidate','administration','projects','account','big','re','needs','social','cultivate',\n",
    "                'carry','handful','candidates','averaging','multiple','economic','maintain','minutes','sources','students','internal','includes','demonstrated','clients','insights','analyst','interface','online','westfield',\n",
    "                 'preferably','tumours','basis','problems','partners','inventory','utilising','real','full','but','enrichment',\n",
    "                 'storeperson','consumer','make','applications','commitment','using','employment','neuroendocrine','relationship','platform','qualitative',\n",
    "                'procurement','techniques','world','fruit','aboriginal','range','collection','industry','centres','cancer','collaborate','project',\n",
    "                'dev','primarily','script','primarily','collate','clinical','leading','baseline','simulations','expert','understand','globally','maintaining','enable','makers','ages','responsibility','various',\n",
    "                'knowledge','methods','solve','agree','units','image','solutions','activities','gr','salary','explore','drive','adds','strait','patients','sme','hr','scientists','promote','theory','disabilities','robust','cash','marketing','people','operate','engineers','daisee',\n",
    "                'savings','software','2019','islander','plus','community','learn','relationships','get','use','june','rx1','consultants','welcome','encourage','discounts','knowledgeable','optimised','designing','yr','mac','algorithm','bdms','leads','submit','joining','competitive','data',\n",
    "                 'peter','empowered','supporting','great','adoption','edition','do','addition','app','employs','equities',\n",
    "                'army','contribute','leaders','treatment','produce','brisbane','education','food','licensing','tactical','unit',\n",
    "                'cool','newly','map','gaming','through','sits','known','proving','assessment','internally',\n",
    "                 'customer','involve','least','health','condition','strategies','decision',\n",
    "                 'previous','network','survey','innovation','my','added','while']\n",
    "\n",
    "cvec = CountVectorizer(stop_words=list_stop_words).fit(X_train)\n",
    "df_train = pd.DataFrame(cvec.transform(X_train).todense(),\n",
    "             columns=cvec.get_feature_names())"
   ]
  },
  {
   "cell_type": "code",
   "execution_count": 49,
   "metadata": {},
   "outputs": [
    {
     "name": "stdout",
     "output_type": "stream",
     "text": [
      "(651, 294)\n",
      "(651,)\n",
      "(321, 294)\n",
      "(321,)\n"
     ]
    }
   ],
   "source": [
    "df_test = pd.DataFrame(cvec.transform(X_test).todense(),\n",
    "                      columns=cvec.get_feature_names())\n",
    "print (df_train.shape)\n",
    "print (y_train.shape)\n",
    "print (df_test.shape)\n",
    "print (y_test.shape)"
   ]
  },
  {
   "cell_type": "code",
   "execution_count": 50,
   "metadata": {},
   "outputs": [
    {
     "data": {
      "text/plain": [
       "0.881619937694704"
      ]
     },
     "execution_count": 50,
     "metadata": {},
     "output_type": "execute_result"
    }
   ],
   "source": [
    "lr = LogisticRegression(penalty='l1', C=0.1, solver='liblinear')\n",
    "lr.fit(df_train, y_train)\n",
    "lr.score(df_test, y_test)\n",
    "#The model made has high score which mean we can trust\n",
    "#this is my description score"
   ]
  },
  {
   "cell_type": "markdown",
   "metadata": {},
   "source": [
    "R-square .88 is high enough to accept the predictivity of the model.Run Logistic Regression With A L1 Penalty With Various Regularization Strengths The usefulness of L1 is that it can push feature coefficients to 0, creating a method for feature selection. In the code below we run a logistic regression with a L1 penalty four times, each time decreasing the value of C. We should expect that as C decreases, more coefficients become 0."
   ]
  },
  {
   "cell_type": "code",
   "execution_count": 51,
   "metadata": {},
   "outputs": [
    {
     "name": "stdout",
     "output_type": "stream",
     "text": [
      "Cross-validated scores: [0.87272727 0.87037037 0.88679245 0.88679245 0.88679245 0.88679245]\n",
      "Cross-Predicted Accuracy: 0.881619937694704\n"
     ]
    },
    {
     "name": "stderr",
     "output_type": "stream",
     "text": [
      "C:\\Users\\Jasper\\Downloads\\download\\Anaconda\\lib\\site-packages\\sklearn\\cross_validation.py:41: DeprecationWarning: This module was deprecated in version 0.18 in favor of the model_selection module into which all the refactored classes and functions are moved. Also note that the interface of the new CV iterators are different from that of this module. This module will be removed in 0.20.\n",
      "  \"This module will be removed in 0.20.\", DeprecationWarning)\n"
     ]
    }
   ],
   "source": [
    "from sklearn.cross_validation import cross_val_score, cross_val_predict\n",
    "from sklearn import metrics\n",
    "# Perform 6-fold cross validation\n",
    "scores = cross_val_score(lr, df_test, y_test, cv=6)\n",
    "print (\"Cross-validated scores:\", scores)\n",
    "# Make cross validated predictions\n",
    "predictions = cross_val_predict(lr, df_test, y_test, cv=6)\n",
    "accuracy = metrics.accuracy_score(y_test, predictions)\n",
    "print (\"Cross-Predicted Accuracy:\", accuracy)"
   ]
  },
  {
   "cell_type": "markdown",
   "metadata": {},
   "source": [
    "ANother measure of the predictivity is Cross-Predicted Accuracy which high "
   ]
  },
  {
   "cell_type": "code",
   "execution_count": 52,
   "metadata": {},
   "outputs": [
    {
     "name": "stdout",
     "output_type": "stream",
     "text": [
      "Random Forrest Score:\t0.847 ± 0.148\n"
     ]
    }
   ],
   "source": [
    "from sklearn.ensemble import RandomForestClassifier\n",
    "rf = RandomForestClassifier(class_weight='balanced')\n",
    "RF = rf.fit(df_train,y_train)\n",
    "s = cross_val_score(rf, df_train, y_train, n_jobs=-1)\n",
    "print (\"{} Score:\\t{:0.3} ± {:0.3}\".format(\"Random Forrest\", s.mean().round(3), s.std().round(3)))"
   ]
  },
  {
   "cell_type": "code",
   "execution_count": 53,
   "metadata": {},
   "outputs": [
    {
     "data": {
      "text/html": [
       "<div>\n",
       "<style scoped>\n",
       "    .dataframe tbody tr th:only-of-type {\n",
       "        vertical-align: middle;\n",
       "    }\n",
       "\n",
       "    .dataframe tbody tr th {\n",
       "        vertical-align: top;\n",
       "    }\n",
       "\n",
       "    .dataframe thead th {\n",
       "        text-align: right;\n",
       "    }\n",
       "</style>\n",
       "<table border=\"1\" class=\"dataframe\">\n",
       "  <thead>\n",
       "    <tr style=\"text-align: right;\">\n",
       "      <th></th>\n",
       "      <th>importance</th>\n",
       "    </tr>\n",
       "  </thead>\n",
       "  <tbody>\n",
       "    <tr>\n",
       "      <th>writing</th>\n",
       "      <td>0.222347</td>\n",
       "    </tr>\n",
       "    <tr>\n",
       "      <th>experience</th>\n",
       "      <td>0.093193</td>\n",
       "    </tr>\n",
       "    <tr>\n",
       "      <th>intelligence</th>\n",
       "      <td>0.063077</td>\n",
       "    </tr>\n",
       "    <tr>\n",
       "      <th>linux</th>\n",
       "      <td>0.054975</td>\n",
       "    </tr>\n",
       "    <tr>\n",
       "      <th>artificial</th>\n",
       "      <td>0.051900</td>\n",
       "    </tr>\n",
       "    <tr>\n",
       "      <th>programming</th>\n",
       "      <td>0.045941</td>\n",
       "    </tr>\n",
       "    <tr>\n",
       "      <th>solving</th>\n",
       "      <td>0.027982</td>\n",
       "    </tr>\n",
       "    <tr>\n",
       "      <th>machine</th>\n",
       "      <td>0.027056</td>\n",
       "    </tr>\n",
       "    <tr>\n",
       "      <th>scientist</th>\n",
       "      <td>0.020335</td>\n",
       "    </tr>\n",
       "    <tr>\n",
       "      <th>statistics</th>\n",
       "      <td>0.019148</td>\n",
       "    </tr>\n",
       "    <tr>\n",
       "      <th>sql</th>\n",
       "      <td>0.016297</td>\n",
       "    </tr>\n",
       "    <tr>\n",
       "      <th>matlab</th>\n",
       "      <td>0.014945</td>\n",
       "    </tr>\n",
       "    <tr>\n",
       "      <th>technology</th>\n",
       "      <td>0.011379</td>\n",
       "    </tr>\n",
       "    <tr>\n",
       "      <th>visualisations</th>\n",
       "      <td>0.009629</td>\n",
       "    </tr>\n",
       "    <tr>\n",
       "      <th>java</th>\n",
       "      <td>0.009288</td>\n",
       "    </tr>\n",
       "    <tr>\n",
       "      <th>python</th>\n",
       "      <td>0.008663</td>\n",
       "    </tr>\n",
       "    <tr>\n",
       "      <th>statistical</th>\n",
       "      <td>0.008203</td>\n",
       "    </tr>\n",
       "    <tr>\n",
       "      <th>gather</th>\n",
       "      <td>0.008031</td>\n",
       "    </tr>\n",
       "    <tr>\n",
       "      <th>raamc</th>\n",
       "      <td>0.007958</td>\n",
       "    </tr>\n",
       "    <tr>\n",
       "      <th>gathers</th>\n",
       "      <td>0.007952</td>\n",
       "    </tr>\n",
       "  </tbody>\n",
       "</table>\n",
       "</div>"
      ],
      "text/plain": [
       "                importance\n",
       "writing           0.222347\n",
       "experience        0.093193\n",
       "intelligence      0.063077\n",
       "linux             0.054975\n",
       "artificial        0.051900\n",
       "programming       0.045941\n",
       "solving           0.027982\n",
       "machine           0.027056\n",
       "scientist         0.020335\n",
       "statistics        0.019148\n",
       "sql               0.016297\n",
       "matlab            0.014945\n",
       "technology        0.011379\n",
       "visualisations    0.009629\n",
       "java              0.009288\n",
       "python            0.008663\n",
       "statistical       0.008203\n",
       "gather            0.008031\n",
       "raamc             0.007958\n",
       "gathers           0.007952"
      ]
     },
     "execution_count": 53,
     "metadata": {},
     "output_type": "execute_result"
    }
   ],
   "source": [
    "rf_features = pd.DataFrame(RF.feature_importances_,\n",
    "                                   index = df_train.columns,\n",
    "                                    columns=['importance']).sort_values('importance',\n",
    "                                                                        ascending=False)\n",
    "rf_features.head(20)"
   ]
  },
  {
   "cell_type": "markdown",
   "metadata": {},
   "source": [
    "The most important words in the dataset are intelligence, experience,linux,artifical,python,scientist)"
   ]
  },
  {
   "cell_type": "markdown",
   "metadata": {},
   "source": [
    "#### Create a few new variables in my dataframe to represent interesting features of a job description. Then I built a new Random Forest with these features."
   ]
  },
  {
   "cell_type": "code",
   "execution_count": 54,
   "metadata": {},
   "outputs": [
    {
     "data": {
      "text/html": [
       "<div>\n",
       "<style scoped>\n",
       "    .dataframe tbody tr th:only-of-type {\n",
       "        vertical-align: middle;\n",
       "    }\n",
       "\n",
       "    .dataframe tbody tr th {\n",
       "        vertical-align: top;\n",
       "    }\n",
       "\n",
       "    .dataframe thead th {\n",
       "        text-align: right;\n",
       "    }\n",
       "</style>\n",
       "<table border=\"1\" class=\"dataframe\">\n",
       "  <thead>\n",
       "    <tr style=\"text-align: right;\">\n",
       "      <th></th>\n",
       "      <th>state</th>\n",
       "      <th>job_title</th>\n",
       "      <th>company</th>\n",
       "      <th>job_description</th>\n",
       "      <th>avg</th>\n",
       "      <th>dumsal</th>\n",
       "      <th>vis</th>\n",
       "      <th>nlp</th>\n",
       "      <th>scientist</th>\n",
       "      <th>experience</th>\n",
       "      <th>python</th>\n",
       "      <th>sql</th>\n",
       "      <th>manager</th>\n",
       "      <th>machine</th>\n",
       "      <th>java</th>\n",
       "      <th>writing</th>\n",
       "      <th>matlab</th>\n",
       "    </tr>\n",
       "  </thead>\n",
       "  <tbody>\n",
       "    <tr>\n",
       "      <th>0</th>\n",
       "      <td>NSW</td>\n",
       "      <td>Pathologist and Research Scientist</td>\n",
       "      <td>Australian Army</td>\n",
       "      <td>Research Scientists are also integral componen...</td>\n",
       "      <td>87500.0</td>\n",
       "      <td>0</td>\n",
       "      <td>0</td>\n",
       "      <td>0</td>\n",
       "      <td>1</td>\n",
       "      <td>0</td>\n",
       "      <td>0</td>\n",
       "      <td>0</td>\n",
       "      <td>0</td>\n",
       "      <td>0</td>\n",
       "      <td>0</td>\n",
       "      <td>0</td>\n",
       "      <td>0</td>\n",
       "    </tr>\n",
       "    <tr>\n",
       "      <th>1</th>\n",
       "      <td>NSW</td>\n",
       "      <td>Business Analyst Process Improvement Professional</td>\n",
       "      <td>Children's Cancer Institute</td>\n",
       "      <td>5+ years’ experience as a Business...</td>\n",
       "      <td>87500.0</td>\n",
       "      <td>0</td>\n",
       "      <td>0</td>\n",
       "      <td>0</td>\n",
       "      <td>0</td>\n",
       "      <td>1</td>\n",
       "      <td>0</td>\n",
       "      <td>0</td>\n",
       "      <td>0</td>\n",
       "      <td>0</td>\n",
       "      <td>0</td>\n",
       "      <td>0</td>\n",
       "      <td>0</td>\n",
       "    </tr>\n",
       "    <tr>\n",
       "      <th>2</th>\n",
       "      <td>NSW</td>\n",
       "      <td>Operations Analyst</td>\n",
       "      <td>chill</td>\n",
       "      <td>You are passionate about the abili...</td>\n",
       "      <td>87500.0</td>\n",
       "      <td>0</td>\n",
       "      <td>0</td>\n",
       "      <td>0</td>\n",
       "      <td>0</td>\n",
       "      <td>0</td>\n",
       "      <td>0</td>\n",
       "      <td>0</td>\n",
       "      <td>0</td>\n",
       "      <td>0</td>\n",
       "      <td>0</td>\n",
       "      <td>0</td>\n",
       "      <td>0</td>\n",
       "    </tr>\n",
       "    <tr>\n",
       "      <th>3</th>\n",
       "      <td>NSW</td>\n",
       "      <td>Property Analyst</td>\n",
       "      <td>JLL</td>\n",
       "      <td>Taking the lead in quality managem...</td>\n",
       "      <td>87500.0</td>\n",
       "      <td>0</td>\n",
       "      <td>0</td>\n",
       "      <td>0</td>\n",
       "      <td>0</td>\n",
       "      <td>0</td>\n",
       "      <td>0</td>\n",
       "      <td>0</td>\n",
       "      <td>0</td>\n",
       "      <td>0</td>\n",
       "      <td>0</td>\n",
       "      <td>0</td>\n",
       "      <td>0</td>\n",
       "    </tr>\n",
       "    <tr>\n",
       "      <th>4</th>\n",
       "      <td>NSW</td>\n",
       "      <td>Technical Marketing Content Writer freelance /...</td>\n",
       "      <td>Daisee</td>\n",
       "      <td>Daisee employs data scientists, so...</td>\n",
       "      <td>90000.0</td>\n",
       "      <td>1</td>\n",
       "      <td>0</td>\n",
       "      <td>0</td>\n",
       "      <td>1</td>\n",
       "      <td>1</td>\n",
       "      <td>0</td>\n",
       "      <td>0</td>\n",
       "      <td>0</td>\n",
       "      <td>0</td>\n",
       "      <td>0</td>\n",
       "      <td>1</td>\n",
       "      <td>0</td>\n",
       "    </tr>\n",
       "  </tbody>\n",
       "</table>\n",
       "</div>"
      ],
      "text/plain": [
       "  state                                          job_title  \\\n",
       "0   NSW                Pathologist and Research Scientist    \n",
       "1   NSW  Business Analyst Process Improvement Professional   \n",
       "2   NSW                                Operations Analyst    \n",
       "3   NSW                                   Property Analyst   \n",
       "4   NSW  Technical Marketing Content Writer freelance /...   \n",
       "\n",
       "                               company  \\\n",
       "0                      Australian Army   \n",
       "1          Children's Cancer Institute   \n",
       "2                                chill   \n",
       "3                                  JLL   \n",
       "4                               Daisee   \n",
       "\n",
       "                                     job_description      avg  dumsal  vis  \\\n",
       "0  Research Scientists are also integral componen...  87500.0       0    0   \n",
       "1              5+ years’ experience as a Business...  87500.0       0    0   \n",
       "2              You are passionate about the abili...  87500.0       0    0   \n",
       "3              Taking the lead in quality managem...  87500.0       0    0   \n",
       "4              Daisee employs data scientists, so...  90000.0       1    0   \n",
       "\n",
       "   nlp  scientist  experience  python  sql  manager  machine  java  writing  \\\n",
       "0    0          1           0       0    0        0        0     0        0   \n",
       "1    0          0           1       0    0        0        0     0        0   \n",
       "2    0          0           0       0    0        0        0     0        0   \n",
       "3    0          0           0       0    0        0        0     0        0   \n",
       "4    0          1           1       0    0        0        0     0        1   \n",
       "\n",
       "   matlab  \n",
       "0       0  \n",
       "1       0  \n",
       "2       0  \n",
       "3       0  \n",
       "4       0  "
      ]
     },
     "execution_count": 54,
     "metadata": {},
     "output_type": "execute_result"
    }
   ],
   "source": [
    "#manager, visualization, nlp,scientist,experience,python,sql\n",
    "data['vis'] = list(map(int, data['job_description'].str.lower().str.contains('vis')))\n",
    "data['nlp'] = list(map(int, data['job_description'].str.lower().str.contains('nlp')))\n",
    "data['scientist'] = list(map(int, data['job_description'].str.lower().str.contains('scien')))\n",
    "data['experience'] = list(map(int, data['job_description'].str.lower().str.contains('exp')))\n",
    "data['python'] = list(map(int, data['job_description'].str.lower().str.contains('pyth')))\n",
    "data['sql'] = list(map(int, data['job_description'].str.lower().str.contains('sql'))) \n",
    "data['manager']=list(map(int, data['job_description'].str.lower().str.contains('manager')|\n",
    "                  data['job_description'].str.lower().str.contains('mngr')|\n",
    "                  data['job_description'].str.lower().str.contains('mgr')))\n",
    "data['machine']=list(map(int, data['job_description'].str.lower().str.contains('mach'))) \n",
    "data['java']=list(map(int, data['job_description'].str.lower().str.contains('java'))) \n",
    "data['writing']=list(map(int, data['job_description'].str.lower().str.contains('writ')))\n",
    "data['matlab']=list(map(int, data['job_description'].str.lower().str.contains('matla')))\n",
    "#making dummies for the words at the top of this cell\n",
    "data.head()"
   ]
  },
  {
   "cell_type": "code",
   "execution_count": 55,
   "metadata": {},
   "outputs": [],
   "source": [
    "#to illustrates the importance of some keywords compare to others\n",
    "sum_vis=data['vis'].sum()\n",
    "sum_nlp=data['nlp'].sum()\n",
    "sum_scientist=data['scientist'].sum()\n",
    "sum_python=data['python'].sum()\n",
    "sum_sql=data['sql'].sum()\n",
    "sum_exp=data['experience'].sum()\n",
    "sum_manager=data['manager'].sum()\n",
    "sum_machine=data['machine'].sum()\n",
    "sum_java=data['java'].sum()\n",
    "sum_writing=data['writing'].sum()\n",
    "sum_matlab=data['matlab'].sum\n",
    "import pandas as pd\n",
    "import matplotlib.pyplot as plt\n",
    "%matplotlib inline\n",
    "\n",
    "x = [('sum_vis', sum_vis),\n",
    "     ('sum_nlp', sum_nlp),\n",
    "     ('sum_scientist', sum_scientist),\n",
    "     ('sum_python', sum_python),\n",
    "     ('sum_sql', sum_sql),\n",
    "     ('sum_exp', sum_exp),\n",
    "     ('sum_manager',sum_manager),\n",
    "     ('sum_machine',sum_machine),\n",
    "     ('sum_java',sum_java),\n",
    "     ('sum_writing',sum_writing),\n",
    "     #('sum_matlab',sum_matlab)\n",
    "     ]"
   ]
  },
  {
   "cell_type": "code",
   "execution_count": 56,
   "metadata": {},
   "outputs": [
    {
     "data": {
      "text/plain": [
       "<matplotlib.axes._subplots.AxesSubplot at 0x25d000eb5f8>"
      ]
     },
     "execution_count": 56,
     "metadata": {},
     "output_type": "execute_result"
    },
    {
     "data": {
      "image/png": "[encoded data removed]",
      "text/plain": [
       "<matplotlib.figure.Figure at 0x25d000dc630>"
      ]
     },
     "metadata": {},
     "output_type": "display_data"
    }
   ],
   "source": [
    "pd.DataFrame(x, columns=['keywords','val']).sort_values(by=['val'],ascending=False).set_index('keywords').plot(kind='bar')\n",
    "#for majority of jobs experience,being data scientist and know machine learning,Python and visualisation  are the most important thing, but i need to find out if there is any difference betweena and lower rate ones"
   ]
  },
  {
   "cell_type": "code",
   "execution_count": 57,
   "metadata": {},
   "outputs": [],
   "source": [
    "list2=['vis','nlp','scientist','python','sql','experience','manager','java','writing','machine']"
   ]
  },
  {
   "cell_type": "code",
   "execution_count": 58,
   "metadata": {},
   "outputs": [
    {
     "data": {
      "text/html": [
       "<div>\n",
       "<style scoped>\n",
       "    .dataframe tbody tr th:only-of-type {\n",
       "        vertical-align: middle;\n",
       "    }\n",
       "\n",
       "    .dataframe tbody tr th {\n",
       "        vertical-align: top;\n",
       "    }\n",
       "\n",
       "    .dataframe thead th {\n",
       "        text-align: right;\n",
       "    }\n",
       "</style>\n",
       "<table border=\"1\" class=\"dataframe\">\n",
       "  <thead>\n",
       "    <tr style=\"text-align: right;\">\n",
       "      <th></th>\n",
       "      <th>vis</th>\n",
       "      <th>nlp</th>\n",
       "      <th>scientist</th>\n",
       "      <th>python</th>\n",
       "      <th>sql</th>\n",
       "      <th>experience</th>\n",
       "      <th>manager</th>\n",
       "      <th>java</th>\n",
       "      <th>writing</th>\n",
       "      <th>machine</th>\n",
       "    </tr>\n",
       "    <tr>\n",
       "      <th>state</th>\n",
       "      <th></th>\n",
       "      <th></th>\n",
       "      <th></th>\n",
       "      <th></th>\n",
       "      <th></th>\n",
       "      <th></th>\n",
       "      <th></th>\n",
       "      <th></th>\n",
       "      <th></th>\n",
       "      <th></th>\n",
       "    </tr>\n",
       "  </thead>\n",
       "  <tbody>\n",
       "    <tr>\n",
       "      <th>NSW</th>\n",
       "      <td>1</td>\n",
       "      <td>0</td>\n",
       "      <td>38</td>\n",
       "      <td>12</td>\n",
       "      <td>0</td>\n",
       "      <td>37</td>\n",
       "      <td>0</td>\n",
       "      <td>0</td>\n",
       "      <td>24</td>\n",
       "      <td>14</td>\n",
       "    </tr>\n",
       "    <tr>\n",
       "      <th>QLD</th>\n",
       "      <td>0</td>\n",
       "      <td>0</td>\n",
       "      <td>1</td>\n",
       "      <td>0</td>\n",
       "      <td>0</td>\n",
       "      <td>0</td>\n",
       "      <td>0</td>\n",
       "      <td>0</td>\n",
       "      <td>0</td>\n",
       "      <td>0</td>\n",
       "    </tr>\n",
       "    <tr>\n",
       "      <th>VIC</th>\n",
       "      <td>0</td>\n",
       "      <td>0</td>\n",
       "      <td>1</td>\n",
       "      <td>0</td>\n",
       "      <td>0</td>\n",
       "      <td>2</td>\n",
       "      <td>0</td>\n",
       "      <td>0</td>\n",
       "      <td>0</td>\n",
       "      <td>3</td>\n",
       "    </tr>\n",
       "  </tbody>\n",
       "</table>\n",
       "</div>"
      ],
      "text/plain": [
       "       vis  nlp  scientist  python  sql  experience  manager  java  writing  \\\n",
       "state                                                                         \n",
       "NSW      1    0         38      12    0          37        0     0       24   \n",
       "QLD      0    0          1       0    0           0        0     0        0   \n",
       "VIC      0    0          1       0    0           2        0     0        0   \n",
       "\n",
       "       machine  \n",
       "state           \n",
       "NSW         14  \n",
       "QLD          0  \n",
       "VIC          3  "
      ]
     },
     "execution_count": 58,
     "metadata": {},
     "output_type": "execute_result"
    }
   ],
   "source": [
    "#to see the importance of some job features for paid job over the median.\n",
    "data.loc[data['dumsal']>0].groupby(['state'])[list2].sum()"
   ]
  },
  {
   "cell_type": "code",
   "execution_count": 59,
   "metadata": {},
   "outputs": [
    {
     "data": {
      "text/html": [
       "<div>\n",
       "<style scoped>\n",
       "    .dataframe tbody tr th:only-of-type {\n",
       "        vertical-align: middle;\n",
       "    }\n",
       "\n",
       "    .dataframe tbody tr th {\n",
       "        vertical-align: top;\n",
       "    }\n",
       "\n",
       "    .dataframe thead th {\n",
       "        text-align: right;\n",
       "    }\n",
       "</style>\n",
       "<table border=\"1\" class=\"dataframe\">\n",
       "  <thead>\n",
       "    <tr style=\"text-align: right;\">\n",
       "      <th></th>\n",
       "      <th>vis</th>\n",
       "      <th>nlp</th>\n",
       "      <th>scientist</th>\n",
       "      <th>python</th>\n",
       "      <th>sql</th>\n",
       "      <th>experience</th>\n",
       "      <th>manager</th>\n",
       "      <th>java</th>\n",
       "      <th>writing</th>\n",
       "      <th>machine</th>\n",
       "    </tr>\n",
       "    <tr>\n",
       "      <th>state</th>\n",
       "      <th></th>\n",
       "      <th></th>\n",
       "      <th></th>\n",
       "      <th></th>\n",
       "      <th></th>\n",
       "      <th></th>\n",
       "      <th></th>\n",
       "      <th></th>\n",
       "      <th></th>\n",
       "      <th></th>\n",
       "    </tr>\n",
       "  </thead>\n",
       "  <tbody>\n",
       "    <tr>\n",
       "      <th>NSW</th>\n",
       "      <td>64</td>\n",
       "      <td>0</td>\n",
       "      <td>81</td>\n",
       "      <td>46</td>\n",
       "      <td>14</td>\n",
       "      <td>187</td>\n",
       "      <td>12</td>\n",
       "      <td>24</td>\n",
       "      <td>24</td>\n",
       "      <td>94</td>\n",
       "    </tr>\n",
       "    <tr>\n",
       "      <th>Nan</th>\n",
       "      <td>0</td>\n",
       "      <td>0</td>\n",
       "      <td>0</td>\n",
       "      <td>0</td>\n",
       "      <td>0</td>\n",
       "      <td>0</td>\n",
       "      <td>0</td>\n",
       "      <td>0</td>\n",
       "      <td>0</td>\n",
       "      <td>0</td>\n",
       "    </tr>\n",
       "    <tr>\n",
       "      <th>QLD</th>\n",
       "      <td>0</td>\n",
       "      <td>0</td>\n",
       "      <td>0</td>\n",
       "      <td>19</td>\n",
       "      <td>19</td>\n",
       "      <td>0</td>\n",
       "      <td>0</td>\n",
       "      <td>19</td>\n",
       "      <td>0</td>\n",
       "      <td>19</td>\n",
       "    </tr>\n",
       "    <tr>\n",
       "      <th>VIC</th>\n",
       "      <td>0</td>\n",
       "      <td>26</td>\n",
       "      <td>59</td>\n",
       "      <td>0</td>\n",
       "      <td>0</td>\n",
       "      <td>1</td>\n",
       "      <td>0</td>\n",
       "      <td>0</td>\n",
       "      <td>0</td>\n",
       "      <td>37</td>\n",
       "    </tr>\n",
       "    <tr>\n",
       "      <th>WA</th>\n",
       "      <td>0</td>\n",
       "      <td>0</td>\n",
       "      <td>0</td>\n",
       "      <td>0</td>\n",
       "      <td>0</td>\n",
       "      <td>1</td>\n",
       "      <td>0</td>\n",
       "      <td>0</td>\n",
       "      <td>0</td>\n",
       "      <td>0</td>\n",
       "    </tr>\n",
       "  </tbody>\n",
       "</table>\n",
       "</div>"
      ],
      "text/plain": [
       "       vis  nlp  scientist  python  sql  experience  manager  java  writing  \\\n",
       "state                                                                         \n",
       "NSW     64    0         81      46   14         187       12    24       24   \n",
       "Nan      0    0          0       0    0           0        0     0        0   \n",
       "QLD      0    0          0      19   19           0        0    19        0   \n",
       "VIC      0   26         59       0    0           1        0     0        0   \n",
       "WA       0    0          0       0    0           1        0     0        0   \n",
       "\n",
       "       machine  \n",
       "state           \n",
       "NSW         94  \n",
       "Nan          0  \n",
       "QLD         19  \n",
       "VIC         37  \n",
       "WA           0  "
      ]
     },
     "execution_count": 59,
     "metadata": {},
     "output_type": "execute_result"
    }
   ],
   "source": [
    "#those with salary overage have experience and knowledge of visualisation and python\n",
    "data.loc[data['dumsal']==0].groupby(['state'])[list2].sum()"
   ]
  },
  {
   "cell_type": "code",
   "execution_count": 60,
   "metadata": {},
   "outputs": [
    {
     "data": {
      "text/plain": [
       "<matplotlib.axes._subplots.AxesSubplot at 0x25d000dca90>"
      ]
     },
     "execution_count": 60,
     "metadata": {},
     "output_type": "execute_result"
    },
    {
     "data": {
      "image/png": "[encoded data removed]",
      "text/plain": [
       "<matplotlib.figure.Figure at 0x25d00c3bcf8>"
      ]
     },
     "metadata": {},
     "output_type": "display_data"
    }
   ],
   "source": [
    "\n",
    "#to see what are the most important features for the two different job payments\n",
    "data.groupby(['dumsal'])[list2].sum().sort_values(by=list2,ascending=False).plot(kind='bar',figsize=(16,8), fontsize=10)"
   ]
  },
  {
   "cell_type": "markdown",
   "metadata": {},
   "source": [
    "### We have to reject Null hypthesises as for high job payments, features such as visualisation and python are not as important as they are for jobs with low payments.  "
   ]
  },
  {
   "cell_type": "code",
   "execution_count": 61,
   "metadata": {},
   "outputs": [
    {
     "data": {
      "text/plain": [
       "dumsal  job_title                                                      \n",
       "0       Data Scientist                                                     45\n",
       "        Business Intelligence Analyst                                      33\n",
       "        Data Analyst                                                       26\n",
       "        Advanced Trainee                                                   24\n",
       "        Budget Analyst                                                     24\n",
       "        Business Analyst Process Improvement Professional                  24\n",
       "        Executive Interviewer – Part Time                                  24\n",
       "        Operations Analyst                                                 24\n",
       "        Pathologist and Research Scientist                                 24\n",
       "        Programming Geek                                                   24\n",
       "        Property Analyst                                                   24\n",
       "         Technology Solutions Professional                                 23\n",
       "        Provisional Fellow                                                 23\n",
       "        Airport Manager                                                    19\n",
       "        Airport Services Agent 9 months contract                           19\n",
       "        BUSINESS INTELLIGENCE ANALYST                                      19\n",
       "        Business AnalystCards & Payment                                    19\n",
       "        Business Intelligence Data Modeller and ETL                        19\n",
       "        Consumer Research Data Analyst, ANZ                                19\n",
       "        Data Scientist/Analyst Programmer                                  19\n",
       "        Full                                                               19\n",
       "        Junior Data Analyst                                                19\n",
       "        Machine Learning                                                   19\n",
       "        Minesite Cleaner                                                   19\n",
       "        Storepeople Stock Inventory                                        19\n",
       "        Student Administration Officer                                     19\n",
       "        Supply Chain & Procurement Business Analyst                        19\n",
       "        Medical Scientist Grade 1                                          18\n",
       "        AI/NLP Research Scientist                                          17\n",
       "        Data Analyst                                                       12\n",
       "                                                                           ..\n",
       "        ERP data analyst                                                    1\n",
       "        IBM Research Scientist – Distributed Ledger Technologies DL...      1\n",
       "        Intelligence Officer                                                1\n",
       "        Junior Data Fulfilment Analyst                                      1\n",
       "        Junior Quantitative Researcher                                      1\n",
       "        Master Data Analyst                                                 1\n",
       "        Research & Insights Analyst                                         1\n",
       "        Research Analyst Gaming                                             1\n",
       "        Research Analyst, Banks                                             1\n",
       "        Research and Consumer Insights Analyst                              1\n",
       "        Retailer Data Analyst                                               1\n",
       "        Senior Data Analyst/Scientist                                       1\n",
       "        Statistician / Data Analyst                                         1\n",
       "1       Technical Marketing Content Writer freelance / part time           24\n",
       "        Agile Business Analyst                                             12\n",
       "        DATA OPERATIONS ENGINEER & ANALYST                                 12\n",
       "        Data Scientist Python/R                                            12\n",
       "        Research Associate                                                 12\n",
       "        Business Analyst                                                    9\n",
       "        Data Scientist / Analyst                                            8\n",
       "        Research Scientist                                                  2\n",
       "        Data Scientist                                                      1\n",
       "        Data Scientist                                                      1\n",
       "        Data Scientist / Machine Learning blockchain                        1\n",
       "        Data Scientist, Google Analytics / Mixpanel expert                  1\n",
       "        Equities Research Analyst                                           1\n",
       "        Postdoctoral Research Fellow x2 positions                           1\n",
       "        Principal Research Scientist in Data Science                        1\n",
       "        Senior Research Scientist in Data Science                           1\n",
       "        Senior Research Scientist in Data Survey Design, Integration...     1\n",
       "Name: job_title, Length: 95, dtype: int64"
      ]
     },
     "execution_count": 61,
     "metadata": {},
     "output_type": "execute_result"
    }
   ],
   "source": [
    "data.groupby(['dumsal'])['job_title'].value_counts()"
   ]
  },
  {
   "cell_type": "code",
   "execution_count": 62,
   "metadata": {},
   "outputs": [
    {
     "data": {
      "text/plain": [
       "0.8691588785046729"
      ]
     },
     "execution_count": 62,
     "metadata": {},
     "output_type": "execute_result"
    }
   ],
   "source": [
    "#completing a logistic regression model\n",
    "from sklearn.linear_model import LogisticRegression\n",
    "\n",
    "X=data[list2]\n",
    "y = data.dumsal\n",
    "X_train, X_test, y_train, y_test = train_test_split(X, y, test_size=0.33)\n",
    "\n",
    "lr = LogisticRegression(penalty='l1', C=0.1, solver='liblinear')\n",
    "lr.fit(X_train, y_train)\n",
    "lr.score(X_test, y_test)\n",
    "#this is my concatonated score since it's high I'm only going to use  "
   ]
  },
  {
   "cell_type": "code",
   "execution_count": 63,
   "metadata": {},
   "outputs": [],
   "source": [
    "y_pred = lr.predict(X_test)\n"
   ]
  },
  {
   "cell_type": "code",
   "execution_count": 64,
   "metadata": {},
   "outputs": [
    {
     "name": "stdout",
     "output_type": "stream",
     "text": [
      "y_test       279\n",
      "y_predict    279\n",
      "dtype: int64 y_test= 321\n"
     ]
    }
   ],
   "source": [
    "df = pd.DataFrame(columns=['y_test','y_predict'])\n",
    "df.y_test=y_test\n",
    "df.y_predict=y_pred\n",
    "print(df[df['y_test']==df['y_predict']].count(),'y_test=',len(y_test))"
   ]
  },
  {
   "cell_type": "code",
   "execution_count": 65,
   "metadata": {},
   "outputs": [
    {
     "name": "stdout",
     "output_type": "stream",
     "text": [
      "Random Forrest Score:\t0.877 ± 0.007\n"
     ]
    }
   ],
   "source": [
    "#and a random forest classifier\n",
    "rf = RandomForestClassifier(class_weight='balanced')\n",
    "s = cross_val_score(rf, X, y, n_jobs=-1)\n",
    "print (\"{} Score:\\t{:0.3} ± {:0.3}\".format(\"Random Forrest\", s.mean().round(3), s.std().round(3)))"
   ]
  },
  {
   "cell_type": "code",
   "execution_count": 66,
   "metadata": {},
   "outputs": [
    {
     "name": "stdout",
     "output_type": "stream",
     "text": [
      "Cross-validated scores: [0.87730061 0.88343558 0.88888889 0.87037037 0.89440994 0.85093168]\n",
      "Cross-Predicted Accuracy: 0.8775720164609053\n"
     ]
    }
   ],
   "source": [
    "from sklearn.cross_validation import cross_val_score, cross_val_predict\n",
    "from sklearn import metrics\n",
    "# Perform 6-fold cross validation\n",
    "scores = cross_val_score(rf, X, y, cv=6)\n",
    "print (\"Cross-validated scores:\", scores)\n",
    "# Make cross validated predictions\n",
    "predictions = cross_val_predict(rf, X, y, cv=6)\n",
    "accuracy = metrics.accuracy_score(y, predictions)\n",
    "print (\"Cross-Predicted Accuracy:\", accuracy)\n",
    "#accuracy is high"
   ]
  },
  {
   "cell_type": "code",
   "execution_count": 67,
   "metadata": {},
   "outputs": [
    {
     "name": "stdout",
     "output_type": "stream",
     "text": [
      "[[279   0]\n",
      " [ 42   0]]\n"
     ]
    }
   ],
   "source": [
    "from sklearn.metrics import confusion_matrix\n",
    "confusion_matrix = confusion_matrix(y_test, y_pred)\n",
    "print(confusion_matrix)"
   ]
  },
  {
   "cell_type": "markdown",
   "metadata": {},
   "source": [
    "The result is telling us that we have 271+12=283 correct predictions and 31incorrect predictions."
   ]
  },
  {
   "cell_type": "code",
   "execution_count": 68,
   "metadata": {},
   "outputs": [
    {
     "name": "stdout",
     "output_type": "stream",
     "text": [
      "Accuracy of logistic regression classifier on test set: 0.87\n"
     ]
    }
   ],
   "source": [
    "print('Accuracy of logistic regression classifier on test set: {:.2f}'.format(lr.score(X_test, y_test)))"
   ]
  },
  {
   "cell_type": "code",
   "execution_count": 69,
   "metadata": {},
   "outputs": [
    {
     "name": "stdout",
     "output_type": "stream",
     "text": [
      "             precision    recall  f1-score   support\n",
      "\n",
      "          0       0.87      1.00      0.93       279\n",
      "          1       0.00      0.00      0.00        42\n",
      "\n",
      "avg / total       0.76      0.87      0.81       321\n",
      "\n"
     ]
    },
    {
     "name": "stderr",
     "output_type": "stream",
     "text": [
      "C:\\Users\\Jasper\\Downloads\\download\\Anaconda\\lib\\site-packages\\sklearn\\metrics\\classification.py:1135: UndefinedMetricWarning: Precision and F-score are ill-defined and being set to 0.0 in labels with no predicted samples.\n",
      "  'precision', 'predicted', average, warn_for)\n"
     ]
    }
   ],
   "source": [
    "from sklearn.metrics import classification_report\n",
    "print(classification_report(y_test, y_pred))\n",
    "#all the results are promising"
   ]
  },
  {
   "cell_type": "code",
   "execution_count": 75,
   "metadata": {},
   "outputs": [
    {
     "data": {
      "text/plain": [
       "[(0.05155537534762953, 'vis'),\n",
       " (0.006786416633610823, 'nlp'),\n",
       " (0.2170255438247089, 'scientist'),\n",
       " (0.1962756370846519, 'python'),\n",
       " (0.023060230122627305, 'sql'),\n",
       " (0.1386661398441759, 'experience'),\n",
       " (0.0019553683693859705, 'manager'),\n",
       " (0.08729924676454094, 'java'),\n",
       " (0.18770270388457447, 'writing'),\n",
       " (0.08967333812409425, 'machine')]"
      ]
     },
     "execution_count": 75,
     "metadata": {},
     "output_type": "execute_result"
    }
   ],
   "source": [
    "from sklearn.ensemble import ExtraTreesClassifier\n",
    "clf = ExtraTreesClassifier()\n",
    "clf = clf.fit(X, y)\n",
    "list(zip(clf.feature_importances_,X))\n",
    "#it seems all features are important and none of them was deleted by L1-sceintist,experience,writing, machine an python are the most important"
   ]
  },
  {
   "cell_type": "code",
   "execution_count": 76,
   "metadata": {},
   "outputs": [],
   "source": [
    "#sending my final to a csv\n",
    "data.to_csv(\"data_job.csv\" , sep=',', encoding='utf-8')\n"
   ]
  },
  {
   "cell_type": "code",
   "execution_count": null,
   "metadata": {},
   "outputs": [],
   "source": []
  },
  {
   "cell_type": "code",
   "execution_count": null,
   "metadata": {},
   "outputs": [],
   "source": []
  },
  {
   "cell_type": "code",
   "execution_count": null,
   "metadata": {},
   "outputs": [],
   "source": []
  },
  {
   "cell_type": "code",
   "execution_count": null,
   "metadata": {},
   "outputs": [],
   "source": []
  },
  {
   "cell_type": "code",
   "execution_count": null,
   "metadata": {},
   "outputs": [],
   "source": []
  }
 ],
 "metadata": {
  "kernelspec": {
   "display_name": "Python 3",
   "language": "python",
   "name": "python3"
  },
  "language_info": {
   "codemirror_mode": {
    "name": "ipython",
    "version": 3
   },
   "file_extension": ".py",
   "mimetype": "text/x-python",
   "name": "python",
   "nbconvert_exporter": "python",
   "pygments_lexer": "ipython3",
   "version": "3.6.5"
  }
 },
 "nbformat": 4,
 "nbformat_minor": 2
}
