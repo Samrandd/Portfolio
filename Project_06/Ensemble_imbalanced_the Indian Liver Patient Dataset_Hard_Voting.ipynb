{
 "cells": [
  {
   "cell_type": "markdown",
   "metadata": {},
   "source": [
    "In the following exercise, we'll work with the Indian Liver Patient Dataset from the Kaggle.\n",
    "In this exercise, we'll instantiate three classifiers and different decidion tree algorithms to predict whether a patient suffers from a liver disease using all the features present in the dataset.\n",
    "\n",
    "The classes are LogisticRegression, DecisionTreeClassifier, and KNeighborsClassifier u.  "
   ]
  },
  {
   "cell_type": "code",
   "execution_count": 57,
   "metadata": {},
   "outputs": [],
   "source": [
    "# Import function to compute accuracy\n",
    "from sklearn.metrics import accuracy_score\n",
    "\n",
    "# Import function to split data\n",
    "from sklearn.model_selection import train_test_split\n",
    "# Import models\n",
    "from sklearn.linear_model import LogisticRegression\n",
    "from sklearn.tree import DecisionTreeClassifier\n",
    "from sklearn.neighbors import KNeighborsClassifier as KNN\n",
    "import pandas as pd\n",
    "from sklearn.model_selection import cross_val_score\n",
    "import matplotlib.pyplot as plt"
   ]
  },
  {
   "cell_type": "code",
   "execution_count": 2,
   "metadata": {},
   "outputs": [],
   "source": [
    "data=pd.read_csv(\"Indian Liver Patient Dataset (ILPD).csv\")"
   ]
  },
  {
   "cell_type": "code",
   "execution_count": 3,
   "metadata": {},
   "outputs": [
    {
     "name": "stdout",
     "output_type": "stream",
     "text": [
      "<class 'pandas.core.frame.DataFrame'>\n",
      "RangeIndex: 583 entries, 0 to 582\n",
      "Data columns (total 11 columns):\n",
      "age                 583 non-null int64\n",
      "gender              583 non-null object\n",
      "tot_bilirubin       583 non-null float64\n",
      "direct_bilirubin    583 non-null float64\n",
      "tot_proteins        583 non-null int64\n",
      "albumin             583 non-null int64\n",
      "ag_ratio            583 non-null int64\n",
      "sgpt                583 non-null float64\n",
      "sgot                583 non-null float64\n",
      "alkphos             579 non-null float64\n",
      "is_patient          583 non-null int64\n",
      "dtypes: float64(5), int64(5), object(1)\n",
      "memory usage: 50.2+ KB\n"
     ]
    }
   ],
   "source": [
    "data.info()"
   ]
  },
  {
   "cell_type": "code",
   "execution_count": 4,
   "metadata": {},
   "outputs": [
    {
     "data": {
      "text/plain": [
       "(583, 11)"
      ]
     },
     "execution_count": 4,
     "metadata": {},
     "output_type": "execute_result"
    }
   ],
   "source": [
    "data.shape"
   ]
  },
  {
   "cell_type": "code",
   "execution_count": 5,
   "metadata": {},
   "outputs": [
    {
     "data": {
      "text/plain": [
       "Index(['age', 'gender', 'tot_bilirubin', 'direct_bilirubin', 'tot_proteins',\n",
       "       'albumin', 'ag_ratio', 'sgpt', 'sgot', 'alkphos', 'is_patient'],\n",
       "      dtype='object')"
      ]
     },
     "execution_count": 5,
     "metadata": {},
     "output_type": "execute_result"
    }
   ],
   "source": [
    "data.columns"
   ]
  },
  {
   "cell_type": "code",
   "execution_count": 6,
   "metadata": {},
   "outputs": [],
   "source": [
    "data.gender=data.gender.map(lambda x: 0 if x == 'Male' else 1) "
   ]
  },
  {
   "cell_type": "code",
   "execution_count": 7,
   "metadata": {},
   "outputs": [
    {
     "data": {
      "text/plain": [
       "age                 0\n",
       "gender              0\n",
       "tot_bilirubin       0\n",
       "direct_bilirubin    0\n",
       "tot_proteins        0\n",
       "albumin             0\n",
       "ag_ratio            0\n",
       "sgpt                0\n",
       "sgot                0\n",
       "alkphos             4\n",
       "is_patient          0\n",
       "dtype: int64"
      ]
     },
     "execution_count": 7,
     "metadata": {},
     "output_type": "execute_result"
    }
   ],
   "source": [
    "data.isnull().sum()"
   ]
  },
  {
   "cell_type": "code",
   "execution_count": 8,
   "metadata": {},
   "outputs": [],
   "source": [
    "data.alkphos.fillna(data.alkphos.mean(),inplace=True)"
   ]
  },
  {
   "cell_type": "code",
   "execution_count": 9,
   "metadata": {},
   "outputs": [],
   "source": [
    "y = data.is_patient.values"
   ]
  },
  {
   "cell_type": "code",
   "execution_count": 10,
   "metadata": {},
   "outputs": [
    {
     "data": {
      "text/plain": [
       "1    416\n",
       "2    167\n",
       "Name: is_patient, dtype: int64"
      ]
     },
     "execution_count": 10,
     "metadata": {},
     "output_type": "execute_result"
    }
   ],
   "source": [
    "data.is_patient.value_counts()"
   ]
  },
  {
   "cell_type": "code",
   "execution_count": 11,
   "metadata": {},
   "outputs": [
    {
     "data": {
      "text/plain": [
       "1    0.713551\n",
       "2    0.286449\n",
       "Name: is_patient, dtype: float64"
      ]
     },
     "execution_count": 11,
     "metadata": {},
     "output_type": "execute_result"
    }
   ],
   "source": [
    "data.is_patient.value_counts(normalize=True)\n",
    "#Since the data is not balanced((71% to 21% ), we need to use Smote technnique solve the issue"
   ]
  },
  {
   "cell_type": "code",
   "execution_count": 12,
   "metadata": {},
   "outputs": [],
   "source": [
    "X = data.drop('is_patient',axis=1)\n"
   ]
  },
  {
   "cell_type": "code",
   "execution_count": 13,
   "metadata": {},
   "outputs": [],
   "source": [
    "from sklearn.preprocessing import StandardScaler\n",
    "ss = StandardScaler()\n",
    "Xs=ss.fit_transform(X)\n"
   ]
  },
  {
   "cell_type": "code",
   "execution_count": 14,
   "metadata": {},
   "outputs": [],
   "source": [
    "from collections import Counter\n",
    "from imblearn.datasets import fetch_datasets\n",
    "from sklearn.model_selection import train_test_split\n",
    "from sklearn.pipeline import make_pipeline\n",
    "from imblearn.pipeline import make_pipeline as make_pipeline_imb\n",
    "from imblearn.over_sampling import SMOTE\n",
    "from imblearn.under_sampling import NearMiss\n",
    "from imblearn.metrics import classification_report_imbalanced\n",
    "from sklearn.metrics import precision_score, recall_score, f1_score, roc_auc_score, roc_curve,auc,accuracy_score, classification_report\n",
    "from sklearn.ensemble import RandomForestClassifier\n",
    "import numpy as np\n"
   ]
  },
  {
   "cell_type": "code",
   "execution_count": 15,
   "metadata": {},
   "outputs": [],
   "source": [
    "X_train, X_test, y_train, y_test = train_test_split(Xs, y,test_size = .2,random_state=12)"
   ]
  },
  {
   "cell_type": "markdown",
   "metadata": {},
   "source": [
    "In the following exercises we'll revisit the Indian Liver Patient dataset which was introduced in a previous chapter. Our task is to predict whether a patient suffers from a liver disease using 10 features including Albumin, age and gender. In addition, given that this dataset is imbalanced, we'll be using the ROC AUC score as a metric instead of accuracy."
   ]
  },
  {
   "cell_type": "code",
   "execution_count": 16,
   "metadata": {},
   "outputs": [
    {
     "name": "stderr",
     "output_type": "stream",
     "text": [
      "C:\\Users\\samra\\Anaconda3\\lib\\site-packages\\sklearn\\utils\\deprecation.py:77: DeprecationWarning: Function _ratio_float is deprecated; Use a float for 'ratio' is deprecated from version 0.2. The support will be removed in 0.4. Use a dict, str, or a callable instead.\n",
      "  warnings.warn(msg, category=DeprecationWarning)\n"
     ]
    }
   ],
   "source": [
    "sm = SMOTE(random_state=12, ratio = 1.0)\n",
    "X_train, y_train = sm.fit_sample(X_train, y_train)"
   ]
  },
  {
   "cell_type": "code",
   "execution_count": 17,
   "metadata": {},
   "outputs": [
    {
     "name": "stdout",
     "output_type": "stream",
     "text": [
      "[1 2]\n",
      "[328 328]\n",
      "baseline: [0.5 0.5]\n"
     ]
    }
   ],
   "source": [
    "unique, counts = np.unique(y_train, return_counts=True)\n",
    "print(unique)\n",
    "print(counts)\n",
    "y_train.shape\n",
    "baseline2= counts/(counts*2)\n",
    "print('baseline:',baseline2 )"
   ]
  },
  {
   "cell_type": "markdown",
   "metadata": {},
   "source": [
    "# Hyperparameters"
   ]
  },
  {
   "cell_type": "markdown",
   "metadata": {},
   "source": [
    "Since the data is imbalanced, we may need to use GRIDsearch to find the best measurements"
   ]
  },
  {
   "cell_type": "markdown",
   "metadata": {},
   "source": [
    "### Decision Tree"
   ]
  },
  {
   "cell_type": "code",
   "execution_count": 44,
   "metadata": {},
   "outputs": [
    {
     "data": {
      "text/plain": [
       "DecisionTreeClassifier(class_weight=None, criterion='gini', max_depth=3,\n",
       "            max_features=0.4, max_leaf_nodes=None,\n",
       "            min_impurity_decrease=0.0, min_impurity_split=None,\n",
       "            min_samples_leaf=0.04, min_samples_split=2,\n",
       "            min_weight_fraction_leaf=0.0, presort=False, random_state=1,\n",
       "            splitter='best')"
      ]
     },
     "execution_count": 44,
     "metadata": {},
     "output_type": "execute_result"
    }
   ],
   "source": [
    "from sklearn.model_selection import GridSearchCV\n",
    "dt1 = DecisionTreeClassifier(random_state=SEED)\n",
    "\n",
    "#Define the grid of hyperparameters 'params_dt'\n",
    "params_dt = {\n",
    "                     'max_depth': [3, 4,5, 6],\n",
    "                     'min_samples_leaf': [0.04, 0.06, 0.08],\n",
    "                     'max_features': [0.2, 0.4,0.6, 0.8]\n",
    "                     }\n",
    "# Instantiate a 10-fold CV grid search object 'grid_dt'\n",
    "#grid_dt = GridSearchCV (estimator=dt1,  param_grid=params_dt, scoring='accuracy', cv=10, n_jobs=-1)            \n",
    "                              \n",
    "grid_dt = GridSearchCV (estimator=dt1,  param_grid=params_dt,cv=10, n_jobs=-1) \n",
    "                               \n",
    "grid_dt.fit(X_test,y_test)\n",
    "y_pred=grid_dt.predict(X_test)\n",
    "# Extract best model from 'grid_dt'\n",
    "grid_dt.best_estimator_"
   ]
  },
  {
   "cell_type": "code",
   "execution_count": 45,
   "metadata": {},
   "outputs": [
    {
     "data": {
      "text/plain": [
       "{'max_depth': 3, 'max_features': 0.4, 'min_samples_leaf': 0.04}"
      ]
     },
     "execution_count": 45,
     "metadata": {},
     "output_type": "execute_result"
    }
   ],
   "source": [
    "grid_dt.best_params_"
   ]
  },
  {
   "cell_type": "code",
   "execution_count": 46,
   "metadata": {},
   "outputs": [],
   "source": [
    "dt_h = DecisionTreeClassifier(max_depth= 3, max_features= 0.4, min_samples_leaf= 0.04,criterion='gini', random_state=SEED)"
   ]
  },
  {
   "cell_type": "code",
   "execution_count": 47,
   "metadata": {},
   "outputs": [
    {
     "name": "stdout",
     "output_type": "stream",
     "text": [
      "Classification Tree : 0.670\n"
     ]
    }
   ],
   "source": [
    "dt_h.fit(X_train,y_train)    \n",
    "# Predict y_pred\n",
    "y_pred = dt_h.predict(X_test)\n",
    "# Calculate accuracy\n",
    "fp_rate, tp_rate, thresholds = roc_curve(y_test, y_pred,pos_label=2)#pos_label when the patient is not sick\n",
    "accuracy_ROC= auc(fp_rate, tp_rate,'\\n')\n",
    "# Evaluate clf's accuracy on the test set\n",
    "print('{:s} : {:.3f}'.format(clf_name, accuracy_ROC))    "
   ]
  },
  {
   "cell_type": "markdown",
   "metadata": {},
   "source": [
    "A little bit improvement in Roc score, but Logistics seems still win.\n",
    "We may to do the Grid search for Logistics regression as well to see if we can get a better ROC score. "
   ]
  },
  {
   "cell_type": "markdown",
   "metadata": {},
   "source": [
    "### Logistic Regression"
   ]
  },
  {
   "cell_type": "code",
   "execution_count": 48,
   "metadata": {},
   "outputs": [
    {
     "name": "stdout",
     "output_type": "stream",
     "text": [
      "Fitting 5 folds for each of 200 candidates, totalling 1000 fits\n"
     ]
    },
    {
     "name": "stderr",
     "output_type": "stream",
     "text": [
      "[Parallel(n_jobs=1)]: Done 1000 out of 1000 | elapsed:    1.2s finished\n"
     ]
    },
    {
     "data": {
      "text/plain": [
       "LogisticRegression(C=0.10974987654930568, class_weight=None, dual=False,\n",
       "          fit_intercept=True, intercept_scaling=1, max_iter=100,\n",
       "          multi_class='ovr', n_jobs=1, penalty='l2', random_state=None,\n",
       "          solver='liblinear', tol=0.0001, verbose=0, warm_start=False)"
      ]
     },
     "execution_count": 48,
     "metadata": {},
     "output_type": "execute_result"
    }
   ],
   "source": [
    "# Set up the parameters. Looking at C regularization strengths on a log scale.\n",
    "# This takes awhile...\n",
    "from sklearn.model_selection import GridSearchCV\n",
    "gs_params = {\n",
    "    'penalty':['l1','l2'],\n",
    "    'solver':['liblinear'],\n",
    "    'C':np.logspace(-5,0,100)\n",
    "}\n",
    "\n",
    "lr_gridsearch = GridSearchCV(LogisticRegression(), gs_params, cv=5, verbose=1)\n",
    "lr_gridsearch.fit(X_train, y_train)\n",
    "\n",
    "# best score on the training data:\n",
    "lr_gridsearch.best_score_\n",
    "# best parameters on the training data:\n",
    "lr_gridsearch.best_params_\n",
    "# Ridge was chosen: this indicates that multicolinerity is an issuesb\n",
    "# assign the best estimator to a variable:\n",
    "best_lr = lr_gridsearch.best_estimator_\n",
    "best_lr"
   ]
  },
  {
   "cell_type": "code",
   "execution_count": 49,
   "metadata": {},
   "outputs": [],
   "source": [
    "lr_ideal =LogisticRegression(C=0.10974987654930568, class_weight=None, dual=False,\n",
    "          fit_intercept=True, intercept_scaling=1, max_iter=100,\n",
    "          multi_class='ovr', n_jobs=1, penalty='l2',solver='liblinear', tol=0.0001, verbose=0, warm_start=False,random_state=SEED)"
   ]
  },
  {
   "cell_type": "code",
   "execution_count": 50,
   "metadata": {},
   "outputs": [
    {
     "name": "stdout",
     "output_type": "stream",
     "text": [
      "accuracy_lr 0.670\n"
     ]
    }
   ],
   "source": [
    "lr_ideal.fit(X_train,y_train)    \n",
    "# Predict y_pred\n",
    "y_pred_lr = lr_ideal.predict(X_test)\n",
    "# Calculate accuracy\n",
    "fp_rate, tp_rate, thresholds = roc_curve(y_test, y_pred,pos_label=2)#pos_label when the patient is not sick\n",
    "accuracy_ROC_lr= auc(fp_rate, tp_rate,'\\n')\n",
    "# Evaluate lr's accuracy on the test set\n",
    "print('accuracy_lr {:.3f}'.format(accuracy_ROC_lr))"
   ]
  },
  {
   "cell_type": "markdown",
   "metadata": {},
   "source": [
    "### KNN"
   ]
  },
  {
   "cell_type": "code",
   "execution_count": 61,
   "metadata": {},
   "outputs": [
    {
     "name": "stdout",
     "output_type": "stream",
     "text": [
      "{'n_neighbors': [1, 2, 3, 4, 5, 6, 7, 8, 9, 10, 11, 12, 13, 14, 15, 16, 17, 18, 19, 20, 21, 22, 23, 24, 25, 26, 27, 28, 29, 30], 'weights': ['uniform', 'distance']}\n"
     ]
    },
    {
     "data": {
      "text/plain": [
       "KNeighborsClassifier(algorithm='auto', leaf_size=30, metric='minkowski',\n",
       "           metric_params=None, n_jobs=1, n_neighbors=1, p=2,\n",
       "           weights='uniform')"
      ]
     },
     "execution_count": 61,
     "metadata": {},
     "output_type": "execute_result"
    }
   ],
   "source": [
    "# define the parameter values that should be searched\n",
    "k_range = list(range(1, 31))\n",
    "# we create a list\n",
    "weight_options = ['uniform', 'distance']\n",
    "# dictionary = dict(key=values, key=values)\n",
    "param_grid = dict(n_neighbors=k_range, weights=weight_options)\n",
    "print(param_grid)\n",
    "#instantiate and fit the grid\n",
    "# exhaustive grid-search because it's trying every combination\n",
    "# 10-fold cross-validation is being performed 30 x 2 = 60 times\n",
    "\n",
    "grid_knn = GridSearchCV(KNN(), param_grid, cv=10, )\n",
    "grid_knn.fit(X_train, y_train)\n",
    "grid_knn.best_params_\n",
    "grid_knn.best_estimator_"
   ]
  },
  {
   "cell_type": "markdown",
   "metadata": {},
   "source": [
    "The value of k is 1 may lead to overfitting, so we may need to do the cross validation to find the bette value for k"
   ]
  },
  {
   "cell_type": "code",
   "execution_count": 63,
   "metadata": {},
   "outputs": [
    {
     "data": {
      "image/png": "[encoded data removed]",
      "text/plain": [
       "<Figure size 576x360 with 1 Axes>"
      ]
     },
     "metadata": {},
     "output_type": "display_data"
    }
   ],
   "source": [
    "k_values = list(range(1,50,2))\n",
    "accs = []\n",
    "for k in k_values:\n",
    "    knn = KNN(n_neighbors=k)\n",
    "    scores = cross_val_score(knn, X_train, y_train, cv=10)\n",
    "    accs.append(np.mean(scores))\n",
    "fig, ax = plt.subplots(figsize=(8,5))\n",
    "ax.plot(k_values, accs, lw=3)\n",
    "plt.show()\n"
   ]
  },
  {
   "cell_type": "code",
   "execution_count": 64,
   "metadata": {},
   "outputs": [
    {
     "name": "stdout",
     "output_type": "stream",
     "text": [
      "mean of the scores 0.6891098484848485\n"
     ]
    }
   ],
   "source": [
    "print('mean of the scores',np.mean(scores))\n",
    "#So, probabaly 0.7 with k=9 can be a beeter value"
   ]
  },
  {
   "cell_type": "markdown",
   "metadata": {},
   "source": [
    "Now, let's try to compare the results "
   ]
  },
  {
   "cell_type": "code",
   "execution_count": 67,
   "metadata": {},
   "outputs": [],
   "source": [
    "# Set seed for reproducibility\n",
    "SEED=1\n",
    "\n",
    "#Instantiate a Logistic Regression classifier and assign it to lr.\n",
    "lr =LogisticRegression(C=0.10974987654930568, class_weight=None, dual=False,\n",
    "          fit_intercept=True, intercept_scaling=1, max_iter=100,\n",
    "          multi_class='ovr', n_jobs=1, penalty='l2', solver='liblinear', tol=0.0001, verbose=0, warm_start=False,random_state=SEED)\n",
    "#Instantiate a KNN classifier that considers 27 nearest neighbors and assign it to knn.\n",
    "knn = KNN(algorithm='auto', leaf_size=30, metric='minkowski',metric_params=None, n_jobs=1, n_neighbors=9, p=2,\n",
    "           weights='uniform')\n",
    "#Instantiate a Decision Tree Classifier with the parameter min_samples_leaf set to 0.13(so each leaf includes 13% of data used in traing) and assign it to dt.\n",
    "dt = DecisionTreeClassifier(class_weight=None, criterion='gini', max_depth=3,\n",
    "            max_features=0.4, max_leaf_nodes=None,\n",
    "            min_impurity_decrease=0.0, min_impurity_split=None,\n",
    "            min_samples_leaf=0.04, min_samples_split=2,\n",
    "            min_weight_fraction_leaf=0.0, presort=False, \n",
    "            splitter='best', random_state=SEED)\n",
    "# Define the list classifiers\n",
    "classifiers = [('Logistic Regression', lr), ('K Nearest Neighbours', knn), ('Classification Tree', dt)]"
   ]
  },
  {
   "cell_type": "code",
   "execution_count": 68,
   "metadata": {},
   "outputs": [
    {
     "name": "stdout",
     "output_type": "stream",
     "text": [
      "Logistic Regression : 0.698\n",
      "K Nearest Neighbours : 0.635\n",
      "Classification Tree : 0.670\n"
     ]
    }
   ],
   "source": [
    "#*we will use ROC to check the accuracy, since the datset was imbalance we cant use accuracy as a measurement\n",
    "#Iterate over the tuples in classifiers. Use clf_name and clf as the for loop variables:\n",
    "for clf_name, clf in classifiers:\n",
    "# Fit clf to the training set\n",
    "    clf.fit(X_train,y_train)    \n",
    "   \n",
    "    # Predict y_pred\n",
    "    y_pred = clf.predict(X_test)\n",
    "    # Calculate accuracy\n",
    "    fp_rate, tp_rate, thresholds = roc_curve(y_test, y_pred,pos_label=2)#pos_label when the patient is not sick\n",
    "    accuracy_ROC= auc(fp_rate, tp_rate,'\\n')\n",
    "    # Evaluate clf's accuracy on the test set\n",
    "    print('{:s} : {:.3f}'.format(clf_name, accuracy_ROC))    "
   ]
  },
  {
   "cell_type": "markdown",
   "metadata": {},
   "source": [
    "Results for logistics and Classification are better than KNN\n",
    "\n"
   ]
  },
  {
   "cell_type": "code",
   "execution_count": 69,
   "metadata": {},
   "outputs": [
    {
     "name": "stdout",
     "output_type": "stream",
     "text": [
      "Voting Classifier: 0.681\n"
     ]
    },
    {
     "name": "stderr",
     "output_type": "stream",
     "text": [
      "C:\\Users\\samra\\Anaconda3\\lib\\site-packages\\sklearn\\preprocessing\\label.py:151: DeprecationWarning: The truth value of an empty array is ambiguous. Returning False, but in future this will result in an error. Use `array.size > 0` to check that an array is not empty.\n",
      "  if diff:\n"
     ]
    }
   ],
   "source": [
    "#Finally, you'll evaluate the performance of a voting classifier that takes the outputs of the models defined in the list classifiers and assigns labels by majority voting.\n",
    "# Import VotingCLassifier from sklearn.ensemble\n",
    "from sklearn.ensemble import VotingClassifier\n",
    "\n",
    "# Instantiate a VotingClassifier vc\n",
    "vc = VotingClassifier(estimators=classifiers)     \n",
    "\n",
    "# Fit vc to the training set\n",
    "vc.fit(X_train, y_train)   \n",
    "\n",
    "# Evaluate the test set predictions\n",
    "y_pred = vc.predict(X_test)\n",
    "\n",
    "\n",
    "# Calculate roc_curve\n",
    "fp_rate, tp_rate, thresholds = roc_curve(y_test, y_pred,pos_label=2)\n",
    "accuracy_ROC= auc(fp_rate, tp_rate,'\\n')\n",
    "# Evaluate Voting Classifier's accuracy on the test set\n",
    "print('Voting Classifier: {:.3f}'.format(accuracy_ROC))\n",
    "\n",
    "\n"
   ]
  },
  {
   "cell_type": "markdown",
   "metadata": {},
   "source": [
    "Great work! The voting classifier achieves an roc of almost 70% whcih is close to the percentage we achieved for logistics and decision tree. "
   ]
  },
  {
   "cell_type": "markdown",
   "metadata": {},
   "source": [
    "## Bagging classifier: \n",
    "#### Now our task is to predict whether a patient suffers from a liver disease using 10 features including Albumin, age and gender. we'll do so using a Bagging Classifier. We both logistic and decision tree classifier for bagging ."
   ]
  },
  {
   "cell_type": "code",
   "execution_count": 70,
   "metadata": {},
   "outputs": [],
   "source": [
    "from sklearn.ensemble import BaggingClassifier"
   ]
  },
  {
   "cell_type": "code",
   "execution_count": 71,
   "metadata": {},
   "outputs": [],
   "source": [
    "# Instantiate a BaggingClassifier 'bc',number of estimators: number of trees, base_estimator: use decision tree classifier and logistic regression(had the best accuracy),number of samples=50\n",
    "bc = BaggingClassifier(base_estimator=dt, n_estimators=50,n_jobs=-1) #when n_jobs=-1, all cpu cores will be used in computation"
   ]
  },
  {
   "cell_type": "code",
   "execution_count": 72,
   "metadata": {},
   "outputs": [],
   "source": [
    "# Fit 'bc' to the training set\n",
    "bc.fit(X_train, y_train)\n",
    "# Predict test set labels\n",
    "y_pred = bc.predict(X_test)"
   ]
  },
  {
   "cell_type": "code",
   "execution_count": 73,
   "metadata": {},
   "outputs": [
    {
     "name": "stdout",
     "output_type": "stream",
     "text": [
      "accuracy_Bag_DT 0.716\n"
     ]
    }
   ],
   "source": [
    "# Calculate accuracy\n",
    "fp_rate, tp_rate, thresholds = roc_curve(y_test, y_pred,pos_label=2)#pos_label when the patient is not sick\n",
    "accuracy_ROC_bc= auc(fp_rate, tp_rate,'\\n')\n",
    "# Evaluate lr's accuracy on the test set\n",
    "print('accuracy_Bag_DT {:.3f}'.format(accuracy_ROC_bc))"
   ]
  },
  {
   "cell_type": "markdown",
   "metadata": {},
   "source": [
    "Seems, we received a better result.Now let's try it with Logistic regression"
   ]
  },
  {
   "cell_type": "code",
   "execution_count": 74,
   "metadata": {},
   "outputs": [],
   "source": [
    "bc1=BaggingClassifier(base_estimator=lr, n_estimators=50,n_jobs=-1)"
   ]
  },
  {
   "cell_type": "code",
   "execution_count": 75,
   "metadata": {},
   "outputs": [
    {
     "data": {
      "text/plain": [
       "BaggingClassifier(base_estimator=LogisticRegression(C=0.10974987654930568, class_weight=None, dual=False,\n",
       "          fit_intercept=True, intercept_scaling=1, max_iter=100,\n",
       "          multi_class='ovr', n_jobs=1, penalty='l2', random_state=1,\n",
       "          solver='liblinear', tol=0.0001, verbose=0, warm_start=False),\n",
       "         bootstrap=True, bootstrap_features=False, max_features=1.0,\n",
       "         max_samples=1.0, n_estimators=50, n_jobs=-1, oob_score=False,\n",
       "         random_state=None, verbose=0, warm_start=False)"
      ]
     },
     "execution_count": 75,
     "metadata": {},
     "output_type": "execute_result"
    }
   ],
   "source": [
    "bc1.fit(X_train,y_train)"
   ]
  },
  {
   "cell_type": "code",
   "execution_count": 76,
   "metadata": {},
   "outputs": [
    {
     "name": "stdout",
     "output_type": "stream",
     "text": [
      "accuracy_lr 0.704\n"
     ]
    }
   ],
   "source": [
    "# Predict test set labels\n",
    "y_pred1 = bc1.predict(X_test)\n",
    "# Calculate accuracy\n",
    "fp_rate, tp_rate, thresholds = roc_curve(y_test, y_pred1,pos_label=2)#pos_label when the patient is not sick\n",
    "accuracy_ROC_bc1= auc(fp_rate, tp_rate,'\\n')\n",
    "# Evaluate lr's accuracy on the test set\n",
    "print('accuracy_lr {:.3f}'.format(accuracy_ROC_bc1))"
   ]
  },
  {
   "cell_type": "markdown",
   "metadata": {},
   "source": [
    "Seems bagging using logistic regression gives a little bit better prediction"
   ]
  },
  {
   "cell_type": "markdown",
   "metadata": {},
   "source": [
    "### Now we want to use ,OUT OF BAG(OOB) instances to imporve the accuracy without using cross validation"
   ]
  },
  {
   "cell_type": "code",
   "execution_count": 77,
   "metadata": {},
   "outputs": [],
   "source": [
    "#we repeat the process\n",
    "# Instantiate a BaggingClassifier 'bc'; set oob_score= True \n",
    "\n",
    "bc3 = BaggingClassifier(base_estimator=dt, n_estimators=300,\n",
    "                               oob_score=True, n_jobs=-1,random_state=SEED)\n",
    "bc4= BaggingClassifier(base_estimator=lr, n_estimators=300,\n",
    "                               oob_score=True, n_jobs=-1,random_state=SEED)"
   ]
  },
  {
   "cell_type": "code",
   "execution_count": 78,
   "metadata": {},
   "outputs": [],
   "source": [
    "# Fit 'bc' to the traing set\n",
    "bc3.fit(X_train, y_train)\n",
    "\n",
    "# Predict the test set labels\n",
    "y_pred3 = bc3.predict(X_test)"
   ]
  },
  {
   "cell_type": "code",
   "execution_count": 79,
   "metadata": {},
   "outputs": [
    {
     "name": "stdout",
     "output_type": "stream",
     "text": [
      "accuracy_ROC_oob_DT 0.692\n"
     ]
    }
   ],
   "source": [
    "# Calculate accuracy\n",
    "fp_rate, tp_rate, thresholds = roc_curve(y_test, y_pred3,pos_label=2)#pos_label when the patient is not sick\n",
    "accuracy_ROC_oob_DT= auc(fp_rate, tp_rate,'\\n')\n",
    "# Evaluate lr's accuracy on the test set\n",
    "print('accuracy_ROC_oob_DT {:.3f}'.format(accuracy_ROC_oob_DT))"
   ]
  },
  {
   "cell_type": "code",
   "execution_count": 80,
   "metadata": {},
   "outputs": [],
   "source": [
    "#with logistics\n",
    "# Fit 'bc' to the traing set\n",
    "bc4.fit(X_train, y_train)\n",
    "\n",
    "# Predict the test set labels\n",
    "y_pred4 = bc4.predict(X_test)"
   ]
  },
  {
   "cell_type": "code",
   "execution_count": 81,
   "metadata": {},
   "outputs": [
    {
     "name": "stdout",
     "output_type": "stream",
     "text": [
      "accuracy_ROC_oob_Lr 0.704\n"
     ]
    }
   ],
   "source": [
    "# Calculate accuracy\n",
    "fp_rate, tp_rate, thresholds = roc_curve(y_test, y_pred4,pos_label=2)#pos_label when the patient is not sick\n",
    "accuracy_ROC_oob_Lr= auc(fp_rate, tp_rate,'\\n')\n",
    "# Evaluate lr's accuracy on the test set\n",
    "print('accuracy_ROC_oob_Lr {:.3f}'.format(accuracy_ROC_oob_Lr))"
   ]
  },
  {
   "cell_type": "code",
   "execution_count": 82,
   "metadata": {},
   "outputs": [
    {
     "name": "stdout",
     "output_type": "stream",
     "text": [
      "accuracy_ROC_oob_DT: 0.692\n",
      "accuracy_ROC_oob_Lr: 0.704\n"
     ]
    }
   ],
   "source": [
    "print('accuracy_ROC_oob_DT: {:.3f}'.format(accuracy_ROC_oob_DT))\n",
    "# Print OOB accuracy\n",
    "print('accuracy_ROC_oob_Lr: {:.3f}'.format(accuracy_ROC_oob_Lr))"
   ]
  },
  {
   "cell_type": "markdown",
   "metadata": {},
   "source": [
    "The Roc sore was not improved .So, let's try other decision tree models"
   ]
  },
  {
   "cell_type": "markdown",
   "metadata": {},
   "source": [
    "## Random Forest"
   ]
  },
  {
   "cell_type": "code",
   "execution_count": 87,
   "metadata": {},
   "outputs": [],
   "source": [
    "from sklearn.ensemble import RandomForestRegressor\n",
    "\n"
   ]
  },
  {
   "cell_type": "markdown",
   "metadata": {},
   "source": [
    "First use Grid search"
   ]
  },
  {
   "cell_type": "code",
   "execution_count": 88,
   "metadata": {},
   "outputs": [
    {
     "data": {
      "text/plain": [
       "GridSearchCV(cv=10, error_score='raise',\n",
       "       estimator=RandomForestClassifier(bootstrap=True, class_weight=None, criterion='gini',\n",
       "            max_depth=None, max_features='sqrt', max_leaf_nodes=None,\n",
       "            min_impurity_decrease=0.0, min_impurity_split=None,\n",
       "            min_samples_leaf=0.12, min_samples_split=2,\n",
       "            min_weight_fraction_leaf=0.0, n_estimators=400, n_jobs=-1,\n",
       "            oob_score=False, random_state=1, verbose=0, warm_start=False),\n",
       "       fit_params={}, iid=True, n_jobs=1,\n",
       "       param_grid={'n_estimators': [9, 18, 27, 36, 45, 54, 63], 'max_depth': [1, 5, 10, 15, 20, 25, 30], 'min_samples_leaf': [1, 2, 4, 6, 8, 10]},\n",
       "       pre_dispatch='2*n_jobs', refit=True, scoring=None, verbose=0)"
      ]
     },
     "execution_count": 88,
     "metadata": {},
     "output_type": "execute_result"
    }
   ],
   "source": [
    "from sklearn.grid_search import GridSearchCV\n",
    " \n",
    "# Instantiate a random forests classifier 'rf' 400 estimators\n",
    "rfc = RandomForestClassifier(n_estimators=400,min_samples_leaf=0.12,bootstrap=True,n_jobs=-1,max_features='sqrt', random_state=SEED) \n",
    " \n",
    "# Use a grid over parameters of interest\n",
    "param_grid = { \n",
    "           \"n_estimators\" : [9, 18, 27, 36, 45, 54, 63],\n",
    "           \"max_depth\" : [1, 5, 10, 15, 20, 25, 30],\n",
    "           \"min_samples_leaf\" : [1, 2, 4, 6, 8, 10]\n",
    "           }\n",
    "    \n",
    "CV_rfc = GridSearchCV(estimator=rfc, param_grid=param_grid, cv= 10)\n",
    "CV_rfc.fit(X_train, y_train)\n"
   ]
  },
  {
   "cell_type": "code",
   "execution_count": 89,
   "metadata": {},
   "outputs": [
    {
     "data": {
      "text/plain": [
       "RandomForestClassifier(bootstrap=True, class_weight=None, criterion='gini',\n",
       "            max_depth=15, max_features='sqrt', max_leaf_nodes=None,\n",
       "            min_impurity_decrease=0.0, min_impurity_split=None,\n",
       "            min_samples_leaf=1, min_samples_split=2,\n",
       "            min_weight_fraction_leaf=0.0, n_estimators=27, n_jobs=-1,\n",
       "            oob_score=False, random_state=1, verbose=0, warm_start=False)"
      ]
     },
     "execution_count": 89,
     "metadata": {},
     "output_type": "execute_result"
    }
   ],
   "source": [
    "CV_rfc.best_estimator_"
   ]
  },
  {
   "cell_type": "code",
   "execution_count": 90,
   "metadata": {},
   "outputs": [],
   "source": [
    "rf = RandomForestClassifier(bootstrap=True, class_weight=None, criterion='gini',\n",
    "            max_depth=20, max_features='sqrt', max_leaf_nodes=None,\n",
    "            min_impurity_decrease=0.0, min_impurity_split=None,\n",
    "            min_samples_leaf=1, min_samples_split=2,\n",
    "            min_weight_fraction_leaf=0.0, n_estimators=36, n_jobs=-1,\n",
    "            oob_score=False, verbose=0, warm_start=False,random_state=SEED)\n",
    "rf.fit(X_train,y_train)\n",
    "# Predict the test set labels 'y_pred'\n",
    "y_pred5 = rf.predict(X_test)\n",
    "\n"
   ]
  },
  {
   "cell_type": "code",
   "execution_count": 91,
   "metadata": {},
   "outputs": [
    {
     "name": "stdout",
     "output_type": "stream",
     "text": [
      "accuracy_ROC_rf 0.663\n"
     ]
    }
   ],
   "source": [
    "# Calculate accuracy\n",
    "fp_rate, tp_rate, thresholds = roc_curve(y_test, y_pred5,pos_label=2)#pos_label when the patient is not sick\n",
    "accuracy_ROC_rf= auc(fp_rate, tp_rate,'\\n')\n",
    "# Evaluate lr's accuracy on the test set\n",
    "print('accuracy_ROC_rf {:.3f}'.format(accuracy_ROC_rf))"
   ]
  },
  {
   "cell_type": "markdown",
   "metadata": {},
   "source": [
    "## Feature Importance"
   ]
  },
  {
   "cell_type": "code",
   "execution_count": 92,
   "metadata": {},
   "outputs": [
    {
     "data": {
      "image/png": "[encoded data removed]",
      "text/plain": [
       "<Figure size 432x288 with 1 Axes>"
      ]
     },
     "metadata": {},
     "output_type": "display_data"
    }
   ],
   "source": [
    "import matplotlib.pyplot as plt\n",
    "\n",
    "# Create a pd.Series of features importances\n",
    "importances_rf = pd.Series(rf.feature_importances_,index = X.columns)\n",
    "\n",
    "# Sort importances_rf                                   \n",
    "sorted_importances_rf = importances_rf.sort_values()       \n",
    "\n",
    "\n",
    "# Make a horizontal bar plot\n",
    "sorted_importances_rf.plot(kind='barh',color='lightgreen') \n",
    "plt.show()\n",
    "\n"
   ]
  },
  {
   "cell_type": "markdown",
   "metadata": {},
   "source": [
    "## Using Ada Boosting"
   ]
  },
  {
   "cell_type": "code",
   "execution_count": 93,
   "metadata": {},
   "outputs": [],
   "source": [
    "from sklearn.ensemble import AdaBoostClassifier\n",
    "from sklearn.tree import DecisionTreeClassifier\n",
    "from sklearn.metrics import roc_auc_score,roc_curve, auc"
   ]
  },
  {
   "cell_type": "code",
   "execution_count": 94,
   "metadata": {},
   "outputs": [],
   "source": [
    "# Instantiate a classification-tree 'dt'//we have done this before (dt = DecisionTreeClassifier(max_depth=1,random_state=SEED))\n",
    "\n",
    "# Instantiate an AdaBoost classifier 'adab_clf'\n",
    "adb_clf = AdaBoostClassifier(base_estimator=dt,n_estimators=100)"
   ]
  },
  {
   "cell_type": "code",
   "execution_count": 95,
   "metadata": {},
   "outputs": [
    {
     "data": {
      "text/plain": [
       "AdaBoostClassifier(algorithm='SAMME.R',\n",
       "          base_estimator=DecisionTreeClassifier(class_weight=None, criterion='gini', max_depth=3,\n",
       "            max_features=0.4, max_leaf_nodes=None,\n",
       "            min_impurity_decrease=0.0, min_impurity_split=None,\n",
       "            min_samples_leaf=0.04, min_samples_split=2,\n",
       "            min_weight_fraction_leaf=0.0, presort=False, random_state=1,\n",
       "            splitter='best'),\n",
       "          learning_rate=1.0, n_estimators=100, random_state=None)"
      ]
     },
     "execution_count": 95,
     "metadata": {},
     "output_type": "execute_result"
    }
   ],
   "source": [
    "# Fit 'adb_clf' to the training set\n",
    "adb_clf.fit(X_train, y_train)"
   ]
  },
  {
   "cell_type": "code",
   "execution_count": 96,
   "metadata": {},
   "outputs": [
    {
     "name": "stdout",
     "output_type": "stream",
     "text": [
      "0.7754702194357367\n"
     ]
    }
   ],
   "source": [
    "# Predict the test set probabilities of positive class/ The predicted class probability is the fraction of samples of the same class in a leaf. And the prediction for a random forest is the average on all trees : The predicted class probabilities of an input sample is computed as the mean predicted class probabilities of the trees in the forest\n",
    "y_pred_proba = adb_clf.predict_proba(X_test)[:,1]\n",
    "#*we will use ROC to check the accuracy\n",
    "fp_rate, tp_rate, thresholds = roc_curve(y_test, y_pred_proba,pos_label=2)\n",
    "auc_ada_prob= auc(fp_rate, tp_rate,'\\n')\n",
    "print(auc_ada_prob)"
   ]
  },
  {
   "cell_type": "code",
   "execution_count": 97,
   "metadata": {},
   "outputs": [
    {
     "name": "stdout",
     "output_type": "stream",
     "text": [
      "0.662421630094044\n"
     ]
    }
   ],
   "source": [
    "y_pred = adb_clf.predict(X_test)\n",
    "#*we will use ROC to check the accuracy\n",
    "fp_rate, tp_rate, thresholds = roc_curve(y_test, y_pred,pos_label=2)\n",
    "auc_ada= auc(fp_rate, tp_rate,'\\n')\n",
    "print(auc_ada)\n",
    "# the results was closer to Logistic regression"
   ]
  },
  {
   "cell_type": "markdown",
   "metadata": {},
   "source": [
    "# Gradient Boosting"
   ]
  },
  {
   "cell_type": "code",
   "execution_count": 98,
   "metadata": {},
   "outputs": [],
   "source": [
    "# Import GradientBoostingRegressor\n",
    "from sklearn.ensemble import GradientBoostingClassifier"
   ]
  },
  {
   "cell_type": "code",
   "execution_count": 99,
   "metadata": {},
   "outputs": [
    {
     "name": "stdout",
     "output_type": "stream",
     "text": [
      "{'learning_rate': [0.1, 0.05, 0.02, 0.01], 'max_depth': [4, 6, 8], 'min_samples_leaf': [20, 50, 100, 150], 'max_features': [1.0, 0.3, 0.1], 'verbose': [1, 3, 5, 7]}\n"
     ]
    }
   ],
   "source": [
    "gb_grid_params = {'learning_rate': [0.1, 0.05, 0.02, 0.01],\n",
    "              'max_depth': [4, 6, 8],\n",
    "              'min_samples_leaf': [20, 50,100,150],\n",
    "              'max_features': [1.0, 0.3, 0.1],\n",
    "              'verbose' : [1,3,5,7]   \n",
    "              }\n",
    "print(gb_grid_params)\n",
    "\n",
    "gb_gs = GradientBoostingClassifier(n_estimators = 200,random_state=SEED)\n",
    "\n",
    "gb1 = GridSearchCV(gb_gs,gb_grid_params,cv=2,\n",
    "                               \n",
    "                               n_jobs=-1);\n"
   ]
  },
  {
   "cell_type": "code",
   "execution_count": 100,
   "metadata": {},
   "outputs": [
    {
     "name": "stdout",
     "output_type": "stream",
     "text": [
      "      Iter       Train Loss   Remaining Time \n",
      "         1           1.3150            0.60s\n",
      "         2           1.2540            0.69s\n",
      "         3           1.2047            0.59s\n",
      "         4           1.1577            0.54s\n",
      "         5           1.1116            0.54s\n",
      "         6           1.0695            0.52s\n",
      "         7           1.0295            0.47s\n",
      "         8           0.9950            0.45s\n",
      "         9           0.9669            0.44s\n",
      "        10           0.9430            0.44s\n",
      "        20           0.7388            0.31s\n",
      "        30           0.5989            0.24s\n",
      "        40           0.5028            0.20s\n",
      "        50           0.4295            0.18s\n",
      "        60           0.3719            0.16s\n",
      "        70           0.3238            0.14s\n",
      "        80           0.2793            0.13s\n",
      "        90           0.2412            0.11s\n",
      "       100           0.2129            0.10s\n",
      "       200           0.0588            0.00s\n"
     ]
    },
    {
     "data": {
      "text/plain": [
       "GradientBoostingClassifier(criterion='friedman_mse', init=None,\n",
       "              learning_rate=0.1, loss='deviance', max_depth=8,\n",
       "              max_features=0.3, max_leaf_nodes=None,\n",
       "              min_impurity_decrease=0.0, min_impurity_split=None,\n",
       "              min_samples_leaf=20, min_samples_split=2,\n",
       "              min_weight_fraction_leaf=0.0, n_estimators=200,\n",
       "              presort='auto', random_state=1, subsample=1.0, verbose=1,\n",
       "              warm_start=False)"
      ]
     },
     "execution_count": 100,
     "metadata": {},
     "output_type": "execute_result"
    }
   ],
   "source": [
    "gb1.fit(X_train, y_train)\n",
    "# Predict test set labels\n",
    "y_pred = gb1.predict(X_test)\n",
    "#*we will use ROC to check the accuracy\n",
    "gb1.best_estimator_"
   ]
  },
  {
   "cell_type": "code",
   "execution_count": 101,
   "metadata": {},
   "outputs": [
    {
     "name": "stdout",
     "output_type": "stream",
     "text": [
      "0.627742946708464\n"
     ]
    }
   ],
   "source": [
    "fp_rate, tp_rate, thresholds = roc_curve(y_test, y_pred,pos_label=2)\n",
    "auc_gb_gs= auc(fp_rate, tp_rate,'\\n')\n",
    "print(auc_gb_gs)\n",
    "# the results was closer to Logistic regression"
   ]
  },
  {
   "cell_type": "code",
   "execution_count": 102,
   "metadata": {},
   "outputs": [
    {
     "name": "stdout",
     "output_type": "stream",
     "text": [
      "0.6622257053291536\n"
     ]
    }
   ],
   "source": [
    "\n",
    "# Instantiate gb\n",
    "gb = GradientBoostingClassifier(max_depth=4,n_estimators=200, random_state=SEED)\n",
    "# Fit gb to the training set\n",
    "gb.fit(X_train,y_train)\n",
    "\n",
    "# Predict test set labels\n",
    "y_pred_gb = gb.predict(X_test)\n",
    "fp_rate, tp_rate, thresholds = roc_curve(y_test, y_pred_gb ,pos_label=2)\n",
    "auc_gb= auc(fp_rate, tp_rate,'\\n')\n",
    "print(auc_gb)\n",
    "# the results was closer to Logistic regression"
   ]
  },
  {
   "cell_type": "code",
   "execution_count": 103,
   "metadata": {},
   "outputs": [
    {
     "data": {
      "text/plain": [
       "{'criterion': 'friedman_mse',\n",
       " 'init': None,\n",
       " 'learning_rate': 0.1,\n",
       " 'loss': 'deviance',\n",
       " 'max_depth': 4,\n",
       " 'max_features': None,\n",
       " 'max_leaf_nodes': None,\n",
       " 'min_impurity_decrease': 0.0,\n",
       " 'min_impurity_split': None,\n",
       " 'min_samples_leaf': 1,\n",
       " 'min_samples_split': 2,\n",
       " 'min_weight_fraction_leaf': 0.0,\n",
       " 'n_estimators': 200,\n",
       " 'presort': 'auto',\n",
       " 'random_state': 1,\n",
       " 'subsample': 1.0,\n",
       " 'verbose': 0,\n",
       " 'warm_start': False}"
      ]
     },
     "execution_count": 103,
     "metadata": {},
     "output_type": "execute_result"
    }
   ],
   "source": [
    "gb.get_params()"
   ]
  },
  {
   "cell_type": "code",
   "execution_count": null,
   "metadata": {},
   "outputs": [],
   "source": []
  },
  {
   "cell_type": "code",
   "execution_count": null,
   "metadata": {},
   "outputs": [],
   "source": []
  },
  {
   "cell_type": "code",
   "execution_count": null,
   "metadata": {},
   "outputs": [],
   "source": []
  }
 ],
 "metadata": {
  "kernelspec": {
   "display_name": "Python 3",
   "language": "python",
   "name": "python3"
  },
  "language_info": {
   "codemirror_mode": {
    "name": "ipython",
    "version": 3
   },
   "file_extension": ".py",
   "mimetype": "text/x-python",
   "name": "python",
   "nbconvert_exporter": "python",
   "pygments_lexer": "ipython3",
   "version": "3.6.5"
  }
 },
 "nbformat": 4,
 "nbformat_minor": 2
}
