{
 "cells": [
  {
   "cell_type": "code",
   "execution_count": 1,
   "metadata": {},
   "outputs": [],
   "source": [
    "#use vader fro sentiment analysis\n",
    "#!pip install vaderSentiment"
   ]
  },
  {
   "cell_type": "code",
   "execution_count": 2,
   "metadata": {},
   "outputs": [],
   "source": [
    "import pandas as pd\n",
    "from vaderSentiment.vaderSentiment import SentimentIntensityAnalyzer "
   ]
  },
  {
   "cell_type": "code",
   "execution_count": 3,
   "metadata": {},
   "outputs": [],
   "source": [
    "#read excel files\n",
    "data=pd.read_excel('articles.xlsx',sep=\";\")"
   ]
  },
  {
   "cell_type": "code",
   "execution_count": 4,
   "metadata": {
    "scrolled": true
   },
   "outputs": [
    {
     "data": {
      "text/html": [
       "<div>\n",
       "<style scoped>\n",
       "    .dataframe tbody tr th:only-of-type {\n",
       "        vertical-align: middle;\n",
       "    }\n",
       "\n",
       "    .dataframe tbody tr th {\n",
       "        vertical-align: top;\n",
       "    }\n",
       "\n",
       "    .dataframe thead th {\n",
       "        text-align: right;\n",
       "    }\n",
       "</style>\n",
       "<table border=\"1\" class=\"dataframe\">\n",
       "  <thead>\n",
       "    <tr style=\"text-align: right;\">\n",
       "      <th></th>\n",
       "      <th>article_id</th>\n",
       "      <th>top_article</th>\n",
       "      <th>engagement_reaction_count</th>\n",
       "      <th>engagement_comment_count</th>\n",
       "      <th>engagement_share_count</th>\n",
       "      <th>engagement_comment_plugin_count</th>\n",
       "    </tr>\n",
       "  </thead>\n",
       "  <tbody>\n",
       "    <tr>\n",
       "      <th>count</th>\n",
       "      <td>10437.000000</td>\n",
       "      <td>10435.000000</td>\n",
       "      <td>10319.000000</td>\n",
       "      <td>10319.000000</td>\n",
       "      <td>10319.000000</td>\n",
       "      <td>10319.000000</td>\n",
       "    </tr>\n",
       "    <tr>\n",
       "      <th>mean</th>\n",
       "      <td>5218.000000</td>\n",
       "      <td>0.122089</td>\n",
       "      <td>381.395290</td>\n",
       "      <td>124.032949</td>\n",
       "      <td>196.236263</td>\n",
       "      <td>0.011629</td>\n",
       "    </tr>\n",
       "    <tr>\n",
       "      <th>std</th>\n",
       "      <td>3013.046714</td>\n",
       "      <td>0.327404</td>\n",
       "      <td>4433.344792</td>\n",
       "      <td>965.351188</td>\n",
       "      <td>1020.680229</td>\n",
       "      <td>0.268276</td>\n",
       "    </tr>\n",
       "    <tr>\n",
       "      <th>min</th>\n",
       "      <td>0.000000</td>\n",
       "      <td>0.000000</td>\n",
       "      <td>0.000000</td>\n",
       "      <td>0.000000</td>\n",
       "      <td>0.000000</td>\n",
       "      <td>0.000000</td>\n",
       "    </tr>\n",
       "    <tr>\n",
       "      <th>25%</th>\n",
       "      <td>2609.000000</td>\n",
       "      <td>0.000000</td>\n",
       "      <td>0.000000</td>\n",
       "      <td>0.000000</td>\n",
       "      <td>1.000000</td>\n",
       "      <td>0.000000</td>\n",
       "    </tr>\n",
       "    <tr>\n",
       "      <th>50%</th>\n",
       "      <td>5218.000000</td>\n",
       "      <td>0.000000</td>\n",
       "      <td>1.000000</td>\n",
       "      <td>0.000000</td>\n",
       "      <td>8.000000</td>\n",
       "      <td>0.000000</td>\n",
       "    </tr>\n",
       "    <tr>\n",
       "      <th>75%</th>\n",
       "      <td>7827.000000</td>\n",
       "      <td>0.000000</td>\n",
       "      <td>43.000000</td>\n",
       "      <td>12.000000</td>\n",
       "      <td>47.500000</td>\n",
       "      <td>0.000000</td>\n",
       "    </tr>\n",
       "    <tr>\n",
       "      <th>max</th>\n",
       "      <td>10436.000000</td>\n",
       "      <td>1.000000</td>\n",
       "      <td>354132.000000</td>\n",
       "      <td>48490.000000</td>\n",
       "      <td>39422.000000</td>\n",
       "      <td>15.000000</td>\n",
       "    </tr>\n",
       "  </tbody>\n",
       "</table>\n",
       "</div>"
      ],
      "text/plain": [
       "         article_id   top_article  engagement_reaction_count  \\\n",
       "count  10437.000000  10435.000000               10319.000000   \n",
       "mean    5218.000000      0.122089                 381.395290   \n",
       "std     3013.046714      0.327404                4433.344792   \n",
       "min        0.000000      0.000000                   0.000000   \n",
       "25%     2609.000000      0.000000                   0.000000   \n",
       "50%     5218.000000      0.000000                   1.000000   \n",
       "75%     7827.000000      0.000000                  43.000000   \n",
       "max    10436.000000      1.000000              354132.000000   \n",
       "\n",
       "       engagement_comment_count  engagement_share_count  \\\n",
       "count              10319.000000            10319.000000   \n",
       "mean                 124.032949              196.236263   \n",
       "std                  965.351188             1020.680229   \n",
       "min                    0.000000                0.000000   \n",
       "25%                    0.000000                1.000000   \n",
       "50%                    0.000000                8.000000   \n",
       "75%                   12.000000               47.500000   \n",
       "max                48490.000000            39422.000000   \n",
       "\n",
       "       engagement_comment_plugin_count  \n",
       "count                     10319.000000  \n",
       "mean                          0.011629  \n",
       "std                           0.268276  \n",
       "min                           0.000000  \n",
       "25%                           0.000000  \n",
       "50%                           0.000000  \n",
       "75%                           0.000000  \n",
       "max                          15.000000  "
      ]
     },
     "execution_count": 4,
     "metadata": {},
     "output_type": "execute_result"
    }
   ],
   "source": [
    "data.describe()"
   ]
  },
  {
   "cell_type": "code",
   "execution_count": 5,
   "metadata": {},
   "outputs": [
    {
     "name": "stdout",
     "output_type": "stream",
     "text": [
      "<class 'pandas.core.frame.DataFrame'>\n",
      "RangeIndex: 10437 entries, 0 to 10436\n",
      "Data columns (total 15 columns):\n",
      "article_id                         10437 non-null int64\n",
      "source_id                          10437 non-null object\n",
      "source_name                        10437 non-null object\n",
      "author                             9417 non-null object\n",
      "title                              10435 non-null object\n",
      "description                        10413 non-null object\n",
      "url                                10436 non-null object\n",
      "url_to_image                       9781 non-null object\n",
      "published_at                       10436 non-null object\n",
      "content                            9145 non-null object\n",
      "top_article                        10435 non-null float64\n",
      "engagement_reaction_count          10319 non-null float64\n",
      "engagement_comment_count           10319 non-null float64\n",
      "engagement_share_count             10319 non-null float64\n",
      "engagement_comment_plugin_count    10319 non-null float64\n",
      "dtypes: float64(5), int64(1), object(9)\n",
      "memory usage: 1.2+ MB\n"
     ]
    }
   ],
   "source": [
    "#summary of the columns\n",
    "data.info()"
   ]
  },
  {
   "cell_type": "code",
   "execution_count": 6,
   "metadata": {},
   "outputs": [
    {
     "data": {
      "text/plain": [
       "(10437, 15)"
      ]
     },
     "execution_count": 6,
     "metadata": {},
     "output_type": "execute_result"
    }
   ],
   "source": [
    "#check the number of col and rows\n",
    "data.shape"
   ]
  },
  {
   "cell_type": "code",
   "execution_count": 7,
   "metadata": {},
   "outputs": [
    {
     "data": {
      "text/html": [
       "<div>\n",
       "<style scoped>\n",
       "    .dataframe tbody tr th:only-of-type {\n",
       "        vertical-align: middle;\n",
       "    }\n",
       "\n",
       "    .dataframe tbody tr th {\n",
       "        vertical-align: top;\n",
       "    }\n",
       "\n",
       "    .dataframe thead th {\n",
       "        text-align: right;\n",
       "    }\n",
       "</style>\n",
       "<table border=\"1\" class=\"dataframe\">\n",
       "  <thead>\n",
       "    <tr style=\"text-align: right;\">\n",
       "      <th></th>\n",
       "      <th>article_id</th>\n",
       "      <th>author</th>\n",
       "    </tr>\n",
       "    <tr>\n",
       "      <th>source_id</th>\n",
       "      <th></th>\n",
       "      <th></th>\n",
       "    </tr>\n",
       "  </thead>\n",
       "  <tbody>\n",
       "    <tr>\n",
       "      <th>1</th>\n",
       "      <td>1</td>\n",
       "      <td>1</td>\n",
       "    </tr>\n",
       "    <tr>\n",
       "      <th>abc-news</th>\n",
       "      <td>1139</td>\n",
       "      <td>1137</td>\n",
       "    </tr>\n",
       "    <tr>\n",
       "      <th>al-jazeera-english</th>\n",
       "      <td>499</td>\n",
       "      <td>471</td>\n",
       "    </tr>\n",
       "    <tr>\n",
       "      <th>bbc-news</th>\n",
       "      <td>1242</td>\n",
       "      <td>746</td>\n",
       "    </tr>\n",
       "    <tr>\n",
       "      <th>business-insider</th>\n",
       "      <td>1048</td>\n",
       "      <td>1048</td>\n",
       "    </tr>\n",
       "    <tr>\n",
       "      <th>cbs-news</th>\n",
       "      <td>952</td>\n",
       "      <td>941</td>\n",
       "    </tr>\n",
       "    <tr>\n",
       "      <th>cnn</th>\n",
       "      <td>1132</td>\n",
       "      <td>961</td>\n",
       "    </tr>\n",
       "    <tr>\n",
       "      <th>espn</th>\n",
       "      <td>82</td>\n",
       "      <td>48</td>\n",
       "    </tr>\n",
       "    <tr>\n",
       "      <th>newsweek</th>\n",
       "      <td>539</td>\n",
       "      <td>539</td>\n",
       "    </tr>\n",
       "    <tr>\n",
       "      <th>reuters</th>\n",
       "      <td>1252</td>\n",
       "      <td>1252</td>\n",
       "    </tr>\n",
       "    <tr>\n",
       "      <th>the-irish-times</th>\n",
       "      <td>1232</td>\n",
       "      <td>1109</td>\n",
       "    </tr>\n",
       "    <tr>\n",
       "      <th>the-new-york-times</th>\n",
       "      <td>986</td>\n",
       "      <td>870</td>\n",
       "    </tr>\n",
       "    <tr>\n",
       "      <th>the-wall-street-journal</th>\n",
       "      <td>333</td>\n",
       "      <td>294</td>\n",
       "    </tr>\n",
       "  </tbody>\n",
       "</table>\n",
       "</div>"
      ],
      "text/plain": [
       "                         article_id  author\n",
       "source_id                                  \n",
       "1                                 1       1\n",
       "abc-news                       1139    1137\n",
       "al-jazeera-english              499     471\n",
       "bbc-news                       1242     746\n",
       "business-insider               1048    1048\n",
       "cbs-news                        952     941\n",
       "cnn                            1132     961\n",
       "espn                             82      48\n",
       "newsweek                        539     539\n",
       "reuters                        1252    1252\n",
       "the-irish-times                1232    1109\n",
       "the-new-york-times              986     870\n",
       "the-wall-street-journal         333     294"
      ]
     },
     "execution_count": 7,
     "metadata": {},
     "output_type": "execute_result"
    }
   ],
   "source": [
    "#counting the number of articles per source\n",
    "data.groupby(['source_id'])['article_id','author'].count()"
   ]
  },
  {
   "cell_type": "code",
   "execution_count": 8,
   "metadata": {},
   "outputs": [
    {
     "data": {
      "text/plain": [
       "source_id\n",
       "1                             0\n",
       "abc-news                   1139\n",
       "al-jazeera-english          499\n",
       "bbc-news                   1242\n",
       "business-insider           1048\n",
       "cbs-news                    952\n",
       "cnn                        1132\n",
       "espn                         82\n",
       "newsweek                    539\n",
       "reuters                    1252\n",
       "the-irish-times            1116\n",
       "the-new-york-times          985\n",
       "the-wall-street-journal     333\n",
       "Name: engagement_reaction_count, dtype: int64"
      ]
     },
     "execution_count": 8,
     "metadata": {},
     "output_type": "execute_result"
    }
   ],
   "source": [
    "#number of reactions by publisher\n",
    "data.groupby('source_id')['engagement_reaction_count'].count()"
   ]
  },
  {
   "cell_type": "code",
   "execution_count": 9,
   "metadata": {},
   "outputs": [
    {
     "data": {
      "text/plain": [
       "source_id\n",
       "1                                0.0\n",
       "abc-news                    343779.0\n",
       "al-jazeera-english          140410.0\n",
       "bbc-news                    545396.0\n",
       "business-insider            216545.0\n",
       "cbs-news                    459741.0\n",
       "cnn                        1218206.0\n",
       "espn                             0.0\n",
       "newsweek                     93167.0\n",
       "reuters                      16963.0\n",
       "the-irish-times              26838.0\n",
       "the-new-york-times          790449.0\n",
       "the-wall-street-journal      84124.0\n",
       "Name: engagement_reaction_count, dtype: float64"
      ]
     },
     "execution_count": 9,
     "metadata": {},
     "output_type": "execute_result"
    }
   ],
   "source": [
    "data.groupby('source_id')['engagement_reaction_count'].sum()"
   ]
  },
  {
   "cell_type": "code",
   "execution_count": 10,
   "metadata": {},
   "outputs": [],
   "source": [
    "#dropping a column as it does not contribute to the insight, axis=1 to delete a column\n",
    "data=data.drop('engagement_comment_plugin_count', axis=1)"
   ]
  },
  {
   "cell_type": "code",
   "execution_count": 11,
   "metadata": {},
   "outputs": [
    {
     "data": {
      "text/plain": [
       "(10437, 14)"
      ]
     },
     "execution_count": 11,
     "metadata": {},
     "output_type": "execute_result"
    }
   ],
   "source": [
    "#check the number of columns and rows after deleteion\n",
    "data.shape"
   ]
  },
  {
   "cell_type": "code",
   "execution_count": 12,
   "metadata": {},
   "outputs": [
    {
     "data": {
      "text/plain": [
       "146118"
      ]
     },
     "execution_count": 12,
     "metadata": {},
     "output_type": "execute_result"
    }
   ],
   "source": [
    "data.size"
   ]
  },
  {
   "cell_type": "code",
   "execution_count": 13,
   "metadata": {},
   "outputs": [],
   "source": [
    "# #to checck if a keuword exists\n",
    "# def flag(X,keyword):\n",
    "#     length=len(data)\n",
    "#     keyword_flag=[]\n",
    "#     for i in range(0,length):\n",
    "#         heading=X[i]\n",
    "#         try:\n",
    "#             if keyword in heading:\n",
    "#                 flag=1\n",
    "#             else:\n",
    "#                 flag=0\n",
    "#         except:\n",
    "#             flag=0\n",
    "#         keyword_flag.append(flag)\n",
    "#     return keyword_flag\n",
    "# keyword_flag= flag(data['title'],'murder') # seems murder exist in row 15\n",
    "#  #check ifmurder exist in row 15\n",
    "# data['title'][15]  \n",
    "# #add keyword_flag to data, nee to use pd.series as each column is a series within a data frame\n",
    "# data['keyword_flag_murder']=pd.Series(keyword_flag)\n",
    "# #add keyword_flag to data, nee to use pd.series as each column is a series within a data frame\n",
    "# data['keyword_flag_murder']=pd.Series(keyword_flag)"
   ]
  },
  {
   "cell_type": "code",
   "execution_count": 14,
   "metadata": {},
   "outputs": [],
   "source": [
    "\n",
    "sent_int=SentimentIntensityAnalyzer()"
   ]
  },
  {
   "cell_type": "code",
   "execution_count": 15,
   "metadata": {},
   "outputs": [],
   "source": [
    "text=data['title'][15]"
   ]
  },
  {
   "cell_type": "code",
   "execution_count": 16,
   "metadata": {},
   "outputs": [],
   "source": [
    "sent=sent_int.polarity_scores(text)"
   ]
  },
  {
   "cell_type": "code",
   "execution_count": 17,
   "metadata": {},
   "outputs": [
    {
     "data": {
      "text/plain": [
       "{'neg': 0.71, 'neu': 0.29, 'pos': 0.0, 'compound': -0.8689}"
      ]
     },
     "execution_count": 17,
     "metadata": {},
     "output_type": "execute_result"
    }
   ],
   "source": [
    "sent"
   ]
  },
  {
   "cell_type": "code",
   "execution_count": 18,
   "metadata": {},
   "outputs": [],
   "source": [
    "neg=sent['neg']"
   ]
  },
  {
   "cell_type": "code",
   "execution_count": 19,
   "metadata": {},
   "outputs": [],
   "source": [
    "pos=sent['pos']"
   ]
  },
  {
   "cell_type": "code",
   "execution_count": 20,
   "metadata": {},
   "outputs": [],
   "source": [
    "neu=sent['neu']"
   ]
  },
  {
   "cell_type": "code",
   "execution_count": 21,
   "metadata": {},
   "outputs": [],
   "source": [
    "length=len(data)"
   ]
  },
  {
   "cell_type": "code",
   "execution_count": 22,
   "metadata": {},
   "outputs": [],
   "source": [
    "# #adding a for loop to extract sentiment pr title\n",
    "# title_neg_sentiment=[]\n",
    "# title_pos_sentiment=[]\n",
    "# title_neu_sentiment=[]\n",
    "# for x in range(0,length):\n",
    "#     text=data['title'][x] # go through each row\n",
    "#     sent_int=SentimentIntensityAnalyzer()\n",
    "#     sent=sent_int.polarity_scores(text)\n",
    "#     neg=sent['neg']\n",
    "#     pos=sent['pos']\n",
    "#     neu=sent['neu']\n",
    "#     title_neg_sentiment.append(neg)\n",
    "#     title_pos_sentiment.append(pos)\n",
    "#     title_neu_sentiment.append(neu)\n",
    "    "
   ]
  },
  {
   "cell_type": "code",
   "execution_count": 23,
   "metadata": {},
   "outputs": [],
   "source": [
    "#the code above is not workin as there may be cell with no comment so we use try, so we need to use \"try- except\" to return 0 for exeption\n",
    "\n",
    "#adding a for loop to extract sentiment pr title\n",
    "title_neg_sentiment=[]\n",
    "title_pos_sentiment=[]\n",
    "title_neu_sentiment=[]\n",
    "for x in range(0,length):\n",
    "    try:\n",
    "        text=data['title'][x] # go through each row\n",
    "        sent_int=SentimentIntensityAnalyzer()\n",
    "        sent=sent_int.polarity_scores(text)\n",
    "        neg=sent['neg']\n",
    "        pos=sent['pos']\n",
    "        neu=sent['neu']\n",
    "    except:\n",
    "        neg=0\n",
    "        pos=0\n",
    "        neu=0\n",
    "    title_neg_sentiment.append(neg)\n",
    "    title_pos_sentiment.append(pos)\n",
    "    title_neu_sentiment.append(neu)\n"
   ]
  },
  {
   "cell_type": "code",
   "execution_count": 24,
   "metadata": {},
   "outputs": [],
   "source": [
    "#to create a series in order to be added as a column later\n",
    "title_neg_sentiment=pd.Series(title_neg_sentiment) \n",
    "title_pos_sentiment=pd.Series(title_pos_sentiment)\n",
    "title_neu_sentiment=pd.Series(title_neu_sentiment)\n"
   ]
  },
  {
   "cell_type": "code",
   "execution_count": 25,
   "metadata": {},
   "outputs": [],
   "source": [
    "#to add the new columns to our dataframe\n",
    "data['title_neg_sentiment']=title_neg_sentiment\n",
    "data['title_pos_sentiment']=title_pos_sentiment\n",
    "data['title_neu_sentiment']=title_neu_sentiment"
   ]
  },
  {
   "cell_type": "code",
   "execution_count": 26,
   "metadata": {},
   "outputs": [
    {
     "name": "stderr",
     "output_type": "stream",
     "text": [
      "C:\\Users\\samra\\Anaconda3\\lib\\site-packages\\xlsxwriter\\worksheet.py:832: UserWarning: Ignoring URL 'https://cbsnews1.cbsistatic.com/hub/i/r/2019/09/05/26dd2d6d-119b-4f28-a5d4-3290286d025c/thumbnail/1200x630/dfe34d28071d8f1408756c4db9656083/cbsn-fusion-pope-francis-urges-continued-peace-in-mozambique-following-a-15-year-civil-war-thumbnail-1927384-640x360.jpg' with link or location/anchor > 255 characters since it exceeds Excel's limit for URLS\n",
      "  force_unicode(url))\n",
      "C:\\Users\\samra\\Anaconda3\\lib\\site-packages\\xlsxwriter\\worksheet.py:832: UserWarning: Ignoring URL 'https://cbsnews1.cbsistatic.com/hub/i/r/2019/09/06/0f348495-762f-4499-a897-f2b51f6dfda0/thumbnail/1200x630/46edc901537163fe5454ff727466e708/cbsn-fusion-2020-daily-trail-markers-joe-kennedy-stumps-for-warren-while-considering-senate-bid-thumbnail-1927784.jpg' with link or location/anchor > 255 characters since it exceeds Excel's limit for URLS\n",
      "  force_unicode(url))\n",
      "C:\\Users\\samra\\Anaconda3\\lib\\site-packages\\xlsxwriter\\worksheet.py:832: UserWarning: Ignoring URL 'https://dynaimage.cdn.cnn.com/cnn/w_1200/http%3A%2F%2Fcdn.cnn.com%2Fcnnnext%2Fdam%2Fassets%2F190906103859-forest-in-football-stadium---klaus-littmann-for-forest---the-unending-attraction-of-nature-wrthersee-stadium-klagenfurt--gerhard-maurer-6-super-tease.jpg' with link or location/anchor > 255 characters since it exceeds Excel's limit for URLS\n",
      "  force_unicode(url))\n",
      "C:\\Users\\samra\\Anaconda3\\lib\\site-packages\\xlsxwriter\\worksheet.py:832: UserWarning: Ignoring URL 'https://cbsnews3.cbsistatic.com/hub/i/r/2019/08/29/52847e7a-c5d6-4614-803c-d20017522398/thumbnail/1200x630/17e4734d0428e028d00b34b87f846f6d/cbsn-fusion-the-washington-post-says-former-vice-president-and-2020-contender-joe-biden-wants-a-woman-or-a-person-of.jpg' with link or location/anchor > 255 characters since it exceeds Excel's limit for URLS\n",
      "  force_unicode(url))\n",
      "C:\\Users\\samra\\Anaconda3\\lib\\site-packages\\xlsxwriter\\worksheet.py:832: UserWarning: Ignoring URL 'https://cbsnews1.cbsistatic.com/hub/i/r/2019/09/19/4483be92-15bb-42be-8442-ccbc798a7703/thumbnail/1200x630/3c6be9a15682b9190cefa7ccf1911c19/cbsn-fusion-barr-meets-with-lawmakers-on-capitol-hill-as-trump-considers-gun-legislation-proposals-thumbnail-349152.jpg' with link or location/anchor > 255 characters since it exceeds Excel's limit for URLS\n",
      "  force_unicode(url))\n",
      "C:\\Users\\samra\\Anaconda3\\lib\\site-packages\\xlsxwriter\\worksheet.py:832: UserWarning: Ignoring URL 'https://cbsnews3.cbsistatic.com/hub/i/r/2019/10/01/61944f8d-8242-4d4d-9618-ddbbe3b83ea6/thumbnail/1200x630/74d571cd3952125b5a94cb107ab81ad2/cbsn-fusion-trumps-campaign-could-use-impeachment-inquiry-to-play-victim-card-report-says-thumbnail-360625-640x360.jpg' with link or location/anchor > 255 characters since it exceeds Excel's limit for URLS\n",
      "  force_unicode(url))\n",
      "C:\\Users\\samra\\Anaconda3\\lib\\site-packages\\xlsxwriter\\worksheet.py:832: UserWarning: Ignoring URL 'https://cbsnews2.cbsistatic.com/hub/i/r/2019/10/01/c3d9f930-3a5b-496a-9ef6-6d0901853974/thumbnail/1200x630/987d4ff0dbdaa2ae131c0c9427ec2e29/cbsn-fusion-a-cbs-news-poll-shows-a-majority-of-americans-approve-of-an-impeachment-inquiry-into-president-trump.jpg' with link or location/anchor > 255 characters since it exceeds Excel's limit for URLS\n",
      "  force_unicode(url))\n",
      "C:\\Users\\samra\\Anaconda3\\lib\\site-packages\\xlsxwriter\\worksheet.py:832: UserWarning: Ignoring URL 'https://cbsnews1.cbsistatic.com/hub/i/r/2019/10/01/d4cbd38e-f5a8-42fd-81a0-eeb2a87d4cd4/thumbnail/1200x630/a2e1bbaf170427f9554465df109bcbcc/cbsn-fusion-saudi-arabia-crown-prince-mohammad-bin-salman-jamal-khashoggi-norah-odonnell-interview-thumbnail-360644.jpg' with link or location/anchor > 255 characters since it exceeds Excel's limit for URLS\n",
      "  force_unicode(url))\n",
      "C:\\Users\\samra\\Anaconda3\\lib\\site-packages\\xlsxwriter\\worksheet.py:832: UserWarning: Ignoring URL 'https://cbsnews1.cbsistatic.com/hub/i/r/2019/10/02/f111d7ae-66ee-473e-806e-e236fd4e7f57/thumbnail/1200x630/66a47b8aea60f46f7b614bfefb88f13a/cbsn-fusion-marijuana-is-on-the-menu-at-the-nations-first-cannabis-cafe-in-west-hollywood-california-thumbnail-361485.jpg' with link or location/anchor > 255 characters since it exceeds Excel's limit for URLS\n",
      "  force_unicode(url))\n"
     ]
    }
   ],
   "source": [
    "#Writing the data\n",
    "data.to_excel('blogme_cleaned.xlsx',sheet_name='blogmedata',index=False)# articlr id exist so we don't need index"
   ]
  },
  {
   "cell_type": "code",
   "execution_count": null,
   "metadata": {},
   "outputs": [],
   "source": []
  }
 ],
 "metadata": {
  "kernelspec": {
   "display_name": "Python 3",
   "language": "python",
   "name": "python3"
  },
  "language_info": {
   "codemirror_mode": {
    "name": "ipython",
    "version": 3
   },
   "file_extension": ".py",
   "mimetype": "text/x-python",
   "name": "python",
   "nbconvert_exporter": "python",
   "pygments_lexer": "ipython3",
   "version": "3.6.5"
  }
 },
 "nbformat": 4,
 "nbformat_minor": 2
}
